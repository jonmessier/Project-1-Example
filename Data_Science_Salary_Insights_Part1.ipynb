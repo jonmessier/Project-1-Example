{
  "nbformat": 4,
  "nbformat_minor": 0,
  "metadata": {
    "colab": {
      "provenance": [],
      "authorship_tag": "ABX9TyPlOvbk5UVI6dr0LzOcLjmD",
      "include_colab_link": true
    },
    "kernelspec": {
      "name": "python3",
      "display_name": "Python 3"
    },
    "language_info": {
      "name": "python"
    }
  },
  "cells": [
    {
      "cell_type": "markdown",
      "metadata": {
        "id": "view-in-github",
        "colab_type": "text"
      },
      "source": [
        "<a href=\"https://colab.research.google.com/github/jonmessier/Sales-Predictions/blob/main/Data_Science_Salary_Insights_Part1.ipynb\" target=\"_parent\"><img src=\"https://colab.research.google.com/assets/colab-badge.svg\" alt=\"Open In Colab\"/></a>"
      ]
    },
    {
      "cell_type": "code",
      "execution_count": null,
      "metadata": {
        "id": "J9eY-LWlYOfX"
      },
      "outputs": [],
      "source": []
    },
    {
      "cell_type": "markdown",
      "source": [
        "# Project 1 - Part 1\n"
      ],
      "metadata": {
        "id": "52OjNzWQYQtg"
      }
    },
    {
      "cell_type": "markdown",
      "source": [
        "Jon Messier"
      ],
      "metadata": {
        "id": "3DQX0Yo-YgVe"
      }
    },
    {
      "cell_type": "code",
      "source": [],
      "metadata": {
        "id": "pXlluBq0YhoZ"
      },
      "execution_count": null,
      "outputs": []
    },
    {
      "cell_type": "markdown",
      "source": [
        "## Loading Data\n"
      ],
      "metadata": {
        "id": "10FJM5XlYkIN"
      }
    },
    {
      "cell_type": "code",
      "source": [],
      "metadata": {
        "id": "PO1ricldY6KG"
      },
      "execution_count": null,
      "outputs": []
    },
    {
      "cell_type": "markdown",
      "source": [
        "##Exploratory Visuals\n"
      ],
      "metadata": {
        "id": "KhDq0SdlYuhG"
      }
    },
    {
      "cell_type": "code",
      "source": [],
      "metadata": {
        "id": "hXOYIYV5Y4_j"
      },
      "execution_count": null,
      "outputs": []
    },
    {
      "cell_type": "markdown",
      "source": [
        "##Explanatory Visuals"
      ],
      "metadata": {
        "id": "qjZPaOIgYzz0"
      }
    },
    {
      "cell_type": "code",
      "source": [],
      "metadata": {
        "id": "d__LGLn3Yoi6"
      },
      "execution_count": null,
      "outputs": []
    }
  ]
}