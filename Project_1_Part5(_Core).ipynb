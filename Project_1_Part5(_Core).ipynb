{
  "nbformat": 4,
  "nbformat_minor": 0,
  "metadata": {
    "colab": {
      "provenance": [],
      "toc_visible": true,
      "authorship_tag": "ABX9TyN8tt5Fo+5pm8PfA4eHRo5y",
      "include_colab_link": true
    },
    "kernelspec": {
      "name": "python3",
      "display_name": "Python 3"
    },
    "language_info": {
      "name": "python"
    }
  },
  "cells": [
    {
      "cell_type": "markdown",
      "metadata": {
        "id": "view-in-github",
        "colab_type": "text"
      },
      "source": [
        "<a href=\"https://colab.research.google.com/github/jonmessier/Sales-Predictions/blob/main/Project_1_Part5(_Core).ipynb\" target=\"_parent\"><img src=\"https://colab.research.google.com/assets/colab-badge.svg\" alt=\"Open In Colab\"/></a>"
      ]
    },
    {
      "cell_type": "markdown",
      "source": [
        "#Project 1 - Part 2 (core)\n",
        "Project 1 - Part 2 (core)\\\n",
        "Jon Messier \\\n",
        "11/16/2022 \\\n",
        "\n",
        "[Coding Dojo Learn](https://login.codingdojo.com/m/606/13762/97764)\n",
        "\n",
        "We will continue to work off of the GitHub repository you created last week for your first portfolio project. The goal of your portfolio projects are to have items to show potential employers that demonstrate your data science skills and competencies.\n",
        "\n",
        "The first project will be a sales prediction for food items sold at various stores. The goal of this is to help the retailer understand the properties of products and outlets that play crucial roles in increasing sales.\n",
        "\n",
        "For Part 2, your task is to use Pandas to load in the data and start exploring and cleaning it.  As data scientists, about 80% of our time is spent on data preparation - so this is a very important step!\n",
        "\n",
        "Download the data using this link: [download the data](https://drive.google.com/file/d/1syH81TVrbBsdymLT_jl2JIf6IjPXtSQw/view?usp=sharing).\n",
        "\n",
        "(Note: [Original data source](https://datahack.analyticsvidhya.com/contest/practice-problem-big-mart-sales-iii/)). \\\n",
        " \\\n",
        "\n"
      ],
      "metadata": {
        "id": "nAzxTe0tP08r"
      }
    },
    {
      "cell_type": "markdown",
      "source": [
        "##Data Dictionary \n",
        "<table><tbody><tr><td><strong>Variable Name</strong></td><td><strong>Description</strong></td></tr><tr><td>Item_Identifier</td><td>Unique product ID</td></tr><tr><td>Item_Weight</td><td>Weight of product</td></tr><tr><td>Item_Fat_Content</td><td>Whether the product is low fat or regular</td></tr><tr><td>Item_Visibility</td><td>The percentage of total display area of all products in a store allocated to the particular product</td></tr><tr><td>Item_Type</td><td>The category to which the product belongs</td></tr><tr><td>Item_MRP</td><td>Maximum Retail Price (list price) of the product</td></tr><tr><td>Outlet_Identifier</td><td>Unique store ID</td></tr><tr><td>Outlet_Establishment_Year</td><td>The year in which store was established</td></tr><tr><td>Outlet_Size</td><td>The size of the store in terms of ground area covered</td></tr><tr><td>Outlet_Location_Type</td><td>The type of area in which the store is located</td></tr><tr><td>Outlet_Type</td><td>Whether the outlet is a grocery store or some sort of supermarket</td></tr><tr><td>Item_Outlet_Sales</td><td>Sales of the product in the particular store. This is the target variable to be predicted.\n",
        "<a href=\"https://github.com/ShauryaBhandari/Bigmart-Sales-Prediction#why-does-the-the-problem-need-to-be-solved\" id=\"user-content-why-does-the-the-problem-need-to-be-solved\" class=\"anchor\" aria-hidden=\"true\" target=\"_blank\"></a></td></tr></tbody></table>"
      ],
      "metadata": {
        "id": "1PoZgacxPt3A"
      }
    },
    {
      "cell_type": "markdown",
      "source": [
        "## Imports\n",
        "* Use Pandas to read the sales prediction data set into Google Colab.\n",
        "* Use df.info() and df.head() methods to preview the first rows of your data and a summary of your DataFrame's columns.\n",
        "\n"
      ],
      "metadata": {
        "id": "wYmdkWLcQPRp"
      }
    },
    {
      "cell_type": "code",
      "source": [
        "import pandas as pd\n",
        "import numpy as np\n",
        "import seaborn as sns\n",
        "import matplotlib.pyplot as plt\n",
        "from matplotlib.ticker import FuncFormatter\n",
        "import matplotlib as mpl"
      ],
      "metadata": {
        "id": "iDhbeEQFR5ue"
      },
      "execution_count": 3,
      "outputs": []
    },
    {
      "cell_type": "code",
      "source": [
        "#df = pd.read_csv('/content/sales_predictions.csv')\n",
        "url = 'https://drive.google.com/uc?id=1syH81TVrbBsdymLT_jl2JIf6IjPXtSQw&export=download'\n",
        "df = pd.read_csv(url)\n",
        "display(df.head())\n",
        "print(df.info())"
      ],
      "metadata": {
        "colab": {
          "base_uri": "https://localhost:8080/",
          "height": 714
        },
        "id": "uvW4j9_cSWkI",
        "outputId": "732b6dd8-de46-4d85-bcab-7d300f2b5691"
      },
      "execution_count": 4,
      "outputs": [
        {
          "output_type": "display_data",
          "data": {
            "text/plain": [
              "  Item_Identifier  Item_Weight Item_Fat_Content  Item_Visibility  \\\n",
              "0           FDA15         9.30          Low Fat         0.016047   \n",
              "1           DRC01         5.92          Regular         0.019278   \n",
              "2           FDN15        17.50          Low Fat         0.016760   \n",
              "3           FDX07        19.20          Regular         0.000000   \n",
              "4           NCD19         8.93          Low Fat         0.000000   \n",
              "\n",
              "               Item_Type  Item_MRP Outlet_Identifier  \\\n",
              "0                  Dairy  249.8092            OUT049   \n",
              "1            Soft Drinks   48.2692            OUT018   \n",
              "2                   Meat  141.6180            OUT049   \n",
              "3  Fruits and Vegetables  182.0950            OUT010   \n",
              "4              Household   53.8614            OUT013   \n",
              "\n",
              "   Outlet_Establishment_Year Outlet_Size Outlet_Location_Type  \\\n",
              "0                       1999      Medium               Tier 1   \n",
              "1                       2009      Medium               Tier 3   \n",
              "2                       1999      Medium               Tier 1   \n",
              "3                       1998         NaN               Tier 3   \n",
              "4                       1987        High               Tier 3   \n",
              "\n",
              "         Outlet_Type  Item_Outlet_Sales  \n",
              "0  Supermarket Type1          3735.1380  \n",
              "1  Supermarket Type2           443.4228  \n",
              "2  Supermarket Type1          2097.2700  \n",
              "3      Grocery Store           732.3800  \n",
              "4  Supermarket Type1           994.7052  "
            ],
            "text/html": [
              "\n",
              "  <div id=\"df-98ffa200-7d2e-4381-9701-134c6dd9505f\">\n",
              "    <div class=\"colab-df-container\">\n",
              "      <div>\n",
              "<style scoped>\n",
              "    .dataframe tbody tr th:only-of-type {\n",
              "        vertical-align: middle;\n",
              "    }\n",
              "\n",
              "    .dataframe tbody tr th {\n",
              "        vertical-align: top;\n",
              "    }\n",
              "\n",
              "    .dataframe thead th {\n",
              "        text-align: right;\n",
              "    }\n",
              "</style>\n",
              "<table border=\"1\" class=\"dataframe\">\n",
              "  <thead>\n",
              "    <tr style=\"text-align: right;\">\n",
              "      <th></th>\n",
              "      <th>Item_Identifier</th>\n",
              "      <th>Item_Weight</th>\n",
              "      <th>Item_Fat_Content</th>\n",
              "      <th>Item_Visibility</th>\n",
              "      <th>Item_Type</th>\n",
              "      <th>Item_MRP</th>\n",
              "      <th>Outlet_Identifier</th>\n",
              "      <th>Outlet_Establishment_Year</th>\n",
              "      <th>Outlet_Size</th>\n",
              "      <th>Outlet_Location_Type</th>\n",
              "      <th>Outlet_Type</th>\n",
              "      <th>Item_Outlet_Sales</th>\n",
              "    </tr>\n",
              "  </thead>\n",
              "  <tbody>\n",
              "    <tr>\n",
              "      <th>0</th>\n",
              "      <td>FDA15</td>\n",
              "      <td>9.30</td>\n",
              "      <td>Low Fat</td>\n",
              "      <td>0.016047</td>\n",
              "      <td>Dairy</td>\n",
              "      <td>249.8092</td>\n",
              "      <td>OUT049</td>\n",
              "      <td>1999</td>\n",
              "      <td>Medium</td>\n",
              "      <td>Tier 1</td>\n",
              "      <td>Supermarket Type1</td>\n",
              "      <td>3735.1380</td>\n",
              "    </tr>\n",
              "    <tr>\n",
              "      <th>1</th>\n",
              "      <td>DRC01</td>\n",
              "      <td>5.92</td>\n",
              "      <td>Regular</td>\n",
              "      <td>0.019278</td>\n",
              "      <td>Soft Drinks</td>\n",
              "      <td>48.2692</td>\n",
              "      <td>OUT018</td>\n",
              "      <td>2009</td>\n",
              "      <td>Medium</td>\n",
              "      <td>Tier 3</td>\n",
              "      <td>Supermarket Type2</td>\n",
              "      <td>443.4228</td>\n",
              "    </tr>\n",
              "    <tr>\n",
              "      <th>2</th>\n",
              "      <td>FDN15</td>\n",
              "      <td>17.50</td>\n",
              "      <td>Low Fat</td>\n",
              "      <td>0.016760</td>\n",
              "      <td>Meat</td>\n",
              "      <td>141.6180</td>\n",
              "      <td>OUT049</td>\n",
              "      <td>1999</td>\n",
              "      <td>Medium</td>\n",
              "      <td>Tier 1</td>\n",
              "      <td>Supermarket Type1</td>\n",
              "      <td>2097.2700</td>\n",
              "    </tr>\n",
              "    <tr>\n",
              "      <th>3</th>\n",
              "      <td>FDX07</td>\n",
              "      <td>19.20</td>\n",
              "      <td>Regular</td>\n",
              "      <td>0.000000</td>\n",
              "      <td>Fruits and Vegetables</td>\n",
              "      <td>182.0950</td>\n",
              "      <td>OUT010</td>\n",
              "      <td>1998</td>\n",
              "      <td>NaN</td>\n",
              "      <td>Tier 3</td>\n",
              "      <td>Grocery Store</td>\n",
              "      <td>732.3800</td>\n",
              "    </tr>\n",
              "    <tr>\n",
              "      <th>4</th>\n",
              "      <td>NCD19</td>\n",
              "      <td>8.93</td>\n",
              "      <td>Low Fat</td>\n",
              "      <td>0.000000</td>\n",
              "      <td>Household</td>\n",
              "      <td>53.8614</td>\n",
              "      <td>OUT013</td>\n",
              "      <td>1987</td>\n",
              "      <td>High</td>\n",
              "      <td>Tier 3</td>\n",
              "      <td>Supermarket Type1</td>\n",
              "      <td>994.7052</td>\n",
              "    </tr>\n",
              "  </tbody>\n",
              "</table>\n",
              "</div>\n",
              "      <button class=\"colab-df-convert\" onclick=\"convertToInteractive('df-98ffa200-7d2e-4381-9701-134c6dd9505f')\"\n",
              "              title=\"Convert this dataframe to an interactive table.\"\n",
              "              style=\"display:none;\">\n",
              "        \n",
              "  <svg xmlns=\"http://www.w3.org/2000/svg\" height=\"24px\"viewBox=\"0 0 24 24\"\n",
              "       width=\"24px\">\n",
              "    <path d=\"M0 0h24v24H0V0z\" fill=\"none\"/>\n",
              "    <path d=\"M18.56 5.44l.94 2.06.94-2.06 2.06-.94-2.06-.94-.94-2.06-.94 2.06-2.06.94zm-11 1L8.5 8.5l.94-2.06 2.06-.94-2.06-.94L8.5 2.5l-.94 2.06-2.06.94zm10 10l.94 2.06.94-2.06 2.06-.94-2.06-.94-.94-2.06-.94 2.06-2.06.94z\"/><path d=\"M17.41 7.96l-1.37-1.37c-.4-.4-.92-.59-1.43-.59-.52 0-1.04.2-1.43.59L10.3 9.45l-7.72 7.72c-.78.78-.78 2.05 0 2.83L4 21.41c.39.39.9.59 1.41.59.51 0 1.02-.2 1.41-.59l7.78-7.78 2.81-2.81c.8-.78.8-2.07 0-2.86zM5.41 20L4 18.59l7.72-7.72 1.47 1.35L5.41 20z\"/>\n",
              "  </svg>\n",
              "      </button>\n",
              "      \n",
              "  <style>\n",
              "    .colab-df-container {\n",
              "      display:flex;\n",
              "      flex-wrap:wrap;\n",
              "      gap: 12px;\n",
              "    }\n",
              "\n",
              "    .colab-df-convert {\n",
              "      background-color: #E8F0FE;\n",
              "      border: none;\n",
              "      border-radius: 50%;\n",
              "      cursor: pointer;\n",
              "      display: none;\n",
              "      fill: #1967D2;\n",
              "      height: 32px;\n",
              "      padding: 0 0 0 0;\n",
              "      width: 32px;\n",
              "    }\n",
              "\n",
              "    .colab-df-convert:hover {\n",
              "      background-color: #E2EBFA;\n",
              "      box-shadow: 0px 1px 2px rgba(60, 64, 67, 0.3), 0px 1px 3px 1px rgba(60, 64, 67, 0.15);\n",
              "      fill: #174EA6;\n",
              "    }\n",
              "\n",
              "    [theme=dark] .colab-df-convert {\n",
              "      background-color: #3B4455;\n",
              "      fill: #D2E3FC;\n",
              "    }\n",
              "\n",
              "    [theme=dark] .colab-df-convert:hover {\n",
              "      background-color: #434B5C;\n",
              "      box-shadow: 0px 1px 3px 1px rgba(0, 0, 0, 0.15);\n",
              "      filter: drop-shadow(0px 1px 2px rgba(0, 0, 0, 0.3));\n",
              "      fill: #FFFFFF;\n",
              "    }\n",
              "  </style>\n",
              "\n",
              "      <script>\n",
              "        const buttonEl =\n",
              "          document.querySelector('#df-98ffa200-7d2e-4381-9701-134c6dd9505f button.colab-df-convert');\n",
              "        buttonEl.style.display =\n",
              "          google.colab.kernel.accessAllowed ? 'block' : 'none';\n",
              "\n",
              "        async function convertToInteractive(key) {\n",
              "          const element = document.querySelector('#df-98ffa200-7d2e-4381-9701-134c6dd9505f');\n",
              "          const dataTable =\n",
              "            await google.colab.kernel.invokeFunction('convertToInteractive',\n",
              "                                                     [key], {});\n",
              "          if (!dataTable) return;\n",
              "\n",
              "          const docLinkHtml = 'Like what you see? Visit the ' +\n",
              "            '<a target=\"_blank\" href=https://colab.research.google.com/notebooks/data_table.ipynb>data table notebook</a>'\n",
              "            + ' to learn more about interactive tables.';\n",
              "          element.innerHTML = '';\n",
              "          dataTable['output_type'] = 'display_data';\n",
              "          await google.colab.output.renderOutput(dataTable, element);\n",
              "          const docLink = document.createElement('div');\n",
              "          docLink.innerHTML = docLinkHtml;\n",
              "          element.appendChild(docLink);\n",
              "        }\n",
              "      </script>\n",
              "    </div>\n",
              "  </div>\n",
              "  "
            ]
          },
          "metadata": {}
        },
        {
          "output_type": "stream",
          "name": "stdout",
          "text": [
            "<class 'pandas.core.frame.DataFrame'>\n",
            "RangeIndex: 8523 entries, 0 to 8522\n",
            "Data columns (total 12 columns):\n",
            " #   Column                     Non-Null Count  Dtype  \n",
            "---  ------                     --------------  -----  \n",
            " 0   Item_Identifier            8523 non-null   object \n",
            " 1   Item_Weight                7060 non-null   float64\n",
            " 2   Item_Fat_Content           8523 non-null   object \n",
            " 3   Item_Visibility            8523 non-null   float64\n",
            " 4   Item_Type                  8523 non-null   object \n",
            " 5   Item_MRP                   8523 non-null   float64\n",
            " 6   Outlet_Identifier          8523 non-null   object \n",
            " 7   Outlet_Establishment_Year  8523 non-null   int64  \n",
            " 8   Outlet_Size                6113 non-null   object \n",
            " 9   Outlet_Location_Type       8523 non-null   object \n",
            " 10  Outlet_Type                8523 non-null   object \n",
            " 11  Item_Outlet_Sales          8523 non-null   float64\n",
            "dtypes: float64(4), int64(1), object(7)\n",
            "memory usage: 799.2+ KB\n",
            "None\n"
          ]
        }
      ]
    },
    {
      "cell_type": "markdown",
      "source": [
        "### 1) How many rows and columns?"
      ],
      "metadata": {
        "id": "pQcfDZSwyc22"
      }
    },
    {
      "cell_type": "code",
      "source": [
        "print('(Rows, Columns)')\n",
        "df.shape"
      ],
      "metadata": {
        "colab": {
          "base_uri": "https://localhost:8080/"
        },
        "id": "9eifasnXRrxQ",
        "outputId": "c68190c6-3fb5-46bb-8864-823957084092"
      },
      "execution_count": 5,
      "outputs": [
        {
          "output_type": "stream",
          "name": "stdout",
          "text": [
            "(Rows, Columns)\n"
          ]
        },
        {
          "output_type": "execute_result",
          "data": {
            "text/plain": [
              "(8523, 12)"
            ]
          },
          "metadata": {},
          "execution_count": 5
        }
      ]
    },
    {
      "cell_type": "markdown",
      "source": [
        "### 2) What are the datatypes of each variable?"
      ],
      "metadata": {
        "id": "i0zvzVt_uWep"
      }
    },
    {
      "cell_type": "code",
      "source": [
        "print(\"The columns of the the sales prediction file have the following data types\")\n",
        "display(df.dtypes)\n"
      ],
      "metadata": {
        "colab": {
          "base_uri": "https://localhost:8080/",
          "height": 267
        },
        "id": "1LkbHz7iRxTE",
        "outputId": "aac3616a-e18a-4922-e0d0-f22f39a10352"
      },
      "execution_count": 6,
      "outputs": [
        {
          "output_type": "stream",
          "name": "stdout",
          "text": [
            "The columns of the the sales prediction file have the following data types\n"
          ]
        },
        {
          "output_type": "display_data",
          "data": {
            "text/plain": [
              "Item_Identifier               object\n",
              "Item_Weight                  float64\n",
              "Item_Fat_Content              object\n",
              "Item_Visibility              float64\n",
              "Item_Type                     object\n",
              "Item_MRP                     float64\n",
              "Outlet_Identifier             object\n",
              "Outlet_Establishment_Year      int64\n",
              "Outlet_Size                   object\n",
              "Outlet_Location_Type          object\n",
              "Outlet_Type                   object\n",
              "Item_Outlet_Sales            float64\n",
              "dtype: object"
            ]
          },
          "metadata": {}
        }
      ]
    },
    {
      "cell_type": "markdown",
      "source": [
        "##Data Cleaning\n",
        "  * Explore the data - what do you need to do to clean this data? Clean it!\n",
        "  * Be sure to address each of the following tasks:\n"
      ],
      "metadata": {
        "id": "P9IrwNFJQ6tD"
      }
    },
    {
      "cell_type": "markdown",
      "source": [
        "### 3) Are there duplicates? If so, drop any duplicates."
      ],
      "metadata": {
        "id": "IrLgqWnAueKl"
      }
    },
    {
      "cell_type": "code",
      "source": [
        "print(f'Number of duplicates: {df.duplicated().sum()}')"
      ],
      "metadata": {
        "colab": {
          "base_uri": "https://localhost:8080/"
        },
        "id": "ZHl220x-R0iM",
        "outputId": "65b19c37-30b7-4656-b077-576e06a74c6d"
      },
      "execution_count": 7,
      "outputs": [
        {
          "output_type": "stream",
          "name": "stdout",
          "text": [
            "Number of duplicates: 0\n"
          ]
        }
      ]
    },
    {
      "cell_type": "code",
      "source": [
        "#If we had duplicates\n",
        "#df.drop_duplicates(inplace=True)"
      ],
      "metadata": {
        "id": "M2jcc3R2X5OX"
      },
      "execution_count": 8,
      "outputs": []
    },
    {
      "cell_type": "markdown",
      "source": [
        "### 4) Identify missing values\n",
        "From the df.isna().sum() we can see that there a couple of columns with Null data\n",
        "- 'Item_Weight' has 1463 null entries\n",
        "- 'Outlet_Size' has 2410 null entries"
      ],
      "metadata": {
        "id": "YGzJvnziuinN"
      }
    },
    {
      "cell_type": "code",
      "source": [
        "df.isna().sum()"
      ],
      "metadata": {
        "colab": {
          "base_uri": "https://localhost:8080/"
        },
        "id": "luqnoobCWJ6p",
        "outputId": "80fc171d-a8df-49b8-e006-f9fc0409db8a"
      },
      "execution_count": 9,
      "outputs": [
        {
          "output_type": "execute_result",
          "data": {
            "text/plain": [
              "Item_Identifier                 0\n",
              "Item_Weight                  1463\n",
              "Item_Fat_Content                0\n",
              "Item_Visibility                 0\n",
              "Item_Type                       0\n",
              "Item_MRP                        0\n",
              "Outlet_Identifier               0\n",
              "Outlet_Establishment_Year       0\n",
              "Outlet_Size                  2410\n",
              "Outlet_Location_Type            0\n",
              "Outlet_Type                     0\n",
              "Item_Outlet_Sales               0\n",
              "dtype: int64"
            ]
          },
          "metadata": {},
          "execution_count": 9
        }
      ]
    },
    {
      "cell_type": "markdown",
      "source": [
        "### 5) Address Missing Values\n",
        "Decide on how to address the missing values and do it! (This requires your judgement, so explain your choice)."
      ],
      "metadata": {
        "id": "DHla7F8-jnAc"
      }
    },
    {
      "cell_type": "markdown",
      "source": [
        "### 5.A 'Item_Weight'\n",
        "Begin with a statitistical look at the Item_Weight. This is a numerical column so using a calculated approach to fill the missing data is appropriate.  "
      ],
      "metadata": {
        "id": "oIWJGL5gV_Cm"
      }
    },
    {
      "cell_type": "code",
      "source": [
        "# 5 a) Begin with the statistics on 'Item_Weight'. \n",
        "df.groupby('Item_Type')['Item_Weight'].describe().round(2)"
      ],
      "metadata": {
        "colab": {
          "base_uri": "https://localhost:8080/",
          "height": 583
        },
        "id": "Qg8Y1mkAaFms",
        "outputId": "ba43d76f-cfde-4baa-c014-f87438cf7ca3"
      },
      "execution_count": 10,
      "outputs": [
        {
          "output_type": "execute_result",
          "data": {
            "text/plain": [
              "                        count   mean   std   min    25%    50%    75%    max\n",
              "Item_Type                                                                   \n",
              "Baking Goods            536.0  12.28  4.77  4.88   8.24  11.65  15.75  20.85\n",
              "Breads                  204.0  11.35  4.44  4.64   7.13  10.60  14.85  20.85\n",
              "Breakfast                89.0  12.77  5.04  6.42   8.06  10.70  17.25  21.10\n",
              "Canned                  539.0  12.31  4.59  4.62   8.12  12.15  16.25  21.35\n",
              "Dairy                   566.0  13.43  4.69  4.80   9.28  13.35  17.60  20.70\n",
              "Frozen Foods            718.0  12.87  4.51  4.56   8.94  12.85  17.00  20.85\n",
              "Fruits and Vegetables  1019.0  13.22  4.58  5.46   9.20  13.10  17.10  21.35\n",
              "Hard Drinks             183.0  11.40  4.24  4.61   8.26  10.10  14.85  19.70\n",
              "Health and Hygiene      430.0  13.14  4.51  5.18   9.70  12.15  17.60  21.25\n",
              "Household               759.0  13.38  5.00  5.03   8.70  13.15  18.35  21.25\n",
              "Meat                    337.0  12.82  4.67  5.15   9.30  12.35  17.20  21.25\n",
              "Others                  137.0  13.85  4.23  5.50  10.65  14.50  17.75  20.50\n",
              "Seafood                  51.0  12.55  5.47  5.36   7.42  11.65  17.75  20.75\n",
              "Snack Foods             988.0  12.99  4.53  5.10   9.20  13.15  16.85  21.25\n",
              "Soft Drinks             374.0  11.85  4.40  4.59   8.26  11.80  15.35  20.75\n",
              "Starchy Foods           130.0  13.69  4.01  6.70  11.50  13.18  16.70  21.20"
            ],
            "text/html": [
              "\n",
              "  <div id=\"df-50d022c7-76a9-44b7-a484-6c3c17aac20b\">\n",
              "    <div class=\"colab-df-container\">\n",
              "      <div>\n",
              "<style scoped>\n",
              "    .dataframe tbody tr th:only-of-type {\n",
              "        vertical-align: middle;\n",
              "    }\n",
              "\n",
              "    .dataframe tbody tr th {\n",
              "        vertical-align: top;\n",
              "    }\n",
              "\n",
              "    .dataframe thead th {\n",
              "        text-align: right;\n",
              "    }\n",
              "</style>\n",
              "<table border=\"1\" class=\"dataframe\">\n",
              "  <thead>\n",
              "    <tr style=\"text-align: right;\">\n",
              "      <th></th>\n",
              "      <th>count</th>\n",
              "      <th>mean</th>\n",
              "      <th>std</th>\n",
              "      <th>min</th>\n",
              "      <th>25%</th>\n",
              "      <th>50%</th>\n",
              "      <th>75%</th>\n",
              "      <th>max</th>\n",
              "    </tr>\n",
              "    <tr>\n",
              "      <th>Item_Type</th>\n",
              "      <th></th>\n",
              "      <th></th>\n",
              "      <th></th>\n",
              "      <th></th>\n",
              "      <th></th>\n",
              "      <th></th>\n",
              "      <th></th>\n",
              "      <th></th>\n",
              "    </tr>\n",
              "  </thead>\n",
              "  <tbody>\n",
              "    <tr>\n",
              "      <th>Baking Goods</th>\n",
              "      <td>536.0</td>\n",
              "      <td>12.28</td>\n",
              "      <td>4.77</td>\n",
              "      <td>4.88</td>\n",
              "      <td>8.24</td>\n",
              "      <td>11.65</td>\n",
              "      <td>15.75</td>\n",
              "      <td>20.85</td>\n",
              "    </tr>\n",
              "    <tr>\n",
              "      <th>Breads</th>\n",
              "      <td>204.0</td>\n",
              "      <td>11.35</td>\n",
              "      <td>4.44</td>\n",
              "      <td>4.64</td>\n",
              "      <td>7.13</td>\n",
              "      <td>10.60</td>\n",
              "      <td>14.85</td>\n",
              "      <td>20.85</td>\n",
              "    </tr>\n",
              "    <tr>\n",
              "      <th>Breakfast</th>\n",
              "      <td>89.0</td>\n",
              "      <td>12.77</td>\n",
              "      <td>5.04</td>\n",
              "      <td>6.42</td>\n",
              "      <td>8.06</td>\n",
              "      <td>10.70</td>\n",
              "      <td>17.25</td>\n",
              "      <td>21.10</td>\n",
              "    </tr>\n",
              "    <tr>\n",
              "      <th>Canned</th>\n",
              "      <td>539.0</td>\n",
              "      <td>12.31</td>\n",
              "      <td>4.59</td>\n",
              "      <td>4.62</td>\n",
              "      <td>8.12</td>\n",
              "      <td>12.15</td>\n",
              "      <td>16.25</td>\n",
              "      <td>21.35</td>\n",
              "    </tr>\n",
              "    <tr>\n",
              "      <th>Dairy</th>\n",
              "      <td>566.0</td>\n",
              "      <td>13.43</td>\n",
              "      <td>4.69</td>\n",
              "      <td>4.80</td>\n",
              "      <td>9.28</td>\n",
              "      <td>13.35</td>\n",
              "      <td>17.60</td>\n",
              "      <td>20.70</td>\n",
              "    </tr>\n",
              "    <tr>\n",
              "      <th>Frozen Foods</th>\n",
              "      <td>718.0</td>\n",
              "      <td>12.87</td>\n",
              "      <td>4.51</td>\n",
              "      <td>4.56</td>\n",
              "      <td>8.94</td>\n",
              "      <td>12.85</td>\n",
              "      <td>17.00</td>\n",
              "      <td>20.85</td>\n",
              "    </tr>\n",
              "    <tr>\n",
              "      <th>Fruits and Vegetables</th>\n",
              "      <td>1019.0</td>\n",
              "      <td>13.22</td>\n",
              "      <td>4.58</td>\n",
              "      <td>5.46</td>\n",
              "      <td>9.20</td>\n",
              "      <td>13.10</td>\n",
              "      <td>17.10</td>\n",
              "      <td>21.35</td>\n",
              "    </tr>\n",
              "    <tr>\n",
              "      <th>Hard Drinks</th>\n",
              "      <td>183.0</td>\n",
              "      <td>11.40</td>\n",
              "      <td>4.24</td>\n",
              "      <td>4.61</td>\n",
              "      <td>8.26</td>\n",
              "      <td>10.10</td>\n",
              "      <td>14.85</td>\n",
              "      <td>19.70</td>\n",
              "    </tr>\n",
              "    <tr>\n",
              "      <th>Health and Hygiene</th>\n",
              "      <td>430.0</td>\n",
              "      <td>13.14</td>\n",
              "      <td>4.51</td>\n",
              "      <td>5.18</td>\n",
              "      <td>9.70</td>\n",
              "      <td>12.15</td>\n",
              "      <td>17.60</td>\n",
              "      <td>21.25</td>\n",
              "    </tr>\n",
              "    <tr>\n",
              "      <th>Household</th>\n",
              "      <td>759.0</td>\n",
              "      <td>13.38</td>\n",
              "      <td>5.00</td>\n",
              "      <td>5.03</td>\n",
              "      <td>8.70</td>\n",
              "      <td>13.15</td>\n",
              "      <td>18.35</td>\n",
              "      <td>21.25</td>\n",
              "    </tr>\n",
              "    <tr>\n",
              "      <th>Meat</th>\n",
              "      <td>337.0</td>\n",
              "      <td>12.82</td>\n",
              "      <td>4.67</td>\n",
              "      <td>5.15</td>\n",
              "      <td>9.30</td>\n",
              "      <td>12.35</td>\n",
              "      <td>17.20</td>\n",
              "      <td>21.25</td>\n",
              "    </tr>\n",
              "    <tr>\n",
              "      <th>Others</th>\n",
              "      <td>137.0</td>\n",
              "      <td>13.85</td>\n",
              "      <td>4.23</td>\n",
              "      <td>5.50</td>\n",
              "      <td>10.65</td>\n",
              "      <td>14.50</td>\n",
              "      <td>17.75</td>\n",
              "      <td>20.50</td>\n",
              "    </tr>\n",
              "    <tr>\n",
              "      <th>Seafood</th>\n",
              "      <td>51.0</td>\n",
              "      <td>12.55</td>\n",
              "      <td>5.47</td>\n",
              "      <td>5.36</td>\n",
              "      <td>7.42</td>\n",
              "      <td>11.65</td>\n",
              "      <td>17.75</td>\n",
              "      <td>20.75</td>\n",
              "    </tr>\n",
              "    <tr>\n",
              "      <th>Snack Foods</th>\n",
              "      <td>988.0</td>\n",
              "      <td>12.99</td>\n",
              "      <td>4.53</td>\n",
              "      <td>5.10</td>\n",
              "      <td>9.20</td>\n",
              "      <td>13.15</td>\n",
              "      <td>16.85</td>\n",
              "      <td>21.25</td>\n",
              "    </tr>\n",
              "    <tr>\n",
              "      <th>Soft Drinks</th>\n",
              "      <td>374.0</td>\n",
              "      <td>11.85</td>\n",
              "      <td>4.40</td>\n",
              "      <td>4.59</td>\n",
              "      <td>8.26</td>\n",
              "      <td>11.80</td>\n",
              "      <td>15.35</td>\n",
              "      <td>20.75</td>\n",
              "    </tr>\n",
              "    <tr>\n",
              "      <th>Starchy Foods</th>\n",
              "      <td>130.0</td>\n",
              "      <td>13.69</td>\n",
              "      <td>4.01</td>\n",
              "      <td>6.70</td>\n",
              "      <td>11.50</td>\n",
              "      <td>13.18</td>\n",
              "      <td>16.70</td>\n",
              "      <td>21.20</td>\n",
              "    </tr>\n",
              "  </tbody>\n",
              "</table>\n",
              "</div>\n",
              "      <button class=\"colab-df-convert\" onclick=\"convertToInteractive('df-50d022c7-76a9-44b7-a484-6c3c17aac20b')\"\n",
              "              title=\"Convert this dataframe to an interactive table.\"\n",
              "              style=\"display:none;\">\n",
              "        \n",
              "  <svg xmlns=\"http://www.w3.org/2000/svg\" height=\"24px\"viewBox=\"0 0 24 24\"\n",
              "       width=\"24px\">\n",
              "    <path d=\"M0 0h24v24H0V0z\" fill=\"none\"/>\n",
              "    <path d=\"M18.56 5.44l.94 2.06.94-2.06 2.06-.94-2.06-.94-.94-2.06-.94 2.06-2.06.94zm-11 1L8.5 8.5l.94-2.06 2.06-.94-2.06-.94L8.5 2.5l-.94 2.06-2.06.94zm10 10l.94 2.06.94-2.06 2.06-.94-2.06-.94-.94-2.06-.94 2.06-2.06.94z\"/><path d=\"M17.41 7.96l-1.37-1.37c-.4-.4-.92-.59-1.43-.59-.52 0-1.04.2-1.43.59L10.3 9.45l-7.72 7.72c-.78.78-.78 2.05 0 2.83L4 21.41c.39.39.9.59 1.41.59.51 0 1.02-.2 1.41-.59l7.78-7.78 2.81-2.81c.8-.78.8-2.07 0-2.86zM5.41 20L4 18.59l7.72-7.72 1.47 1.35L5.41 20z\"/>\n",
              "  </svg>\n",
              "      </button>\n",
              "      \n",
              "  <style>\n",
              "    .colab-df-container {\n",
              "      display:flex;\n",
              "      flex-wrap:wrap;\n",
              "      gap: 12px;\n",
              "    }\n",
              "\n",
              "    .colab-df-convert {\n",
              "      background-color: #E8F0FE;\n",
              "      border: none;\n",
              "      border-radius: 50%;\n",
              "      cursor: pointer;\n",
              "      display: none;\n",
              "      fill: #1967D2;\n",
              "      height: 32px;\n",
              "      padding: 0 0 0 0;\n",
              "      width: 32px;\n",
              "    }\n",
              "\n",
              "    .colab-df-convert:hover {\n",
              "      background-color: #E2EBFA;\n",
              "      box-shadow: 0px 1px 2px rgba(60, 64, 67, 0.3), 0px 1px 3px 1px rgba(60, 64, 67, 0.15);\n",
              "      fill: #174EA6;\n",
              "    }\n",
              "\n",
              "    [theme=dark] .colab-df-convert {\n",
              "      background-color: #3B4455;\n",
              "      fill: #D2E3FC;\n",
              "    }\n",
              "\n",
              "    [theme=dark] .colab-df-convert:hover {\n",
              "      background-color: #434B5C;\n",
              "      box-shadow: 0px 1px 3px 1px rgba(0, 0, 0, 0.15);\n",
              "      filter: drop-shadow(0px 1px 2px rgba(0, 0, 0, 0.3));\n",
              "      fill: #FFFFFF;\n",
              "    }\n",
              "  </style>\n",
              "\n",
              "      <script>\n",
              "        const buttonEl =\n",
              "          document.querySelector('#df-50d022c7-76a9-44b7-a484-6c3c17aac20b button.colab-df-convert');\n",
              "        buttonEl.style.display =\n",
              "          google.colab.kernel.accessAllowed ? 'block' : 'none';\n",
              "\n",
              "        async function convertToInteractive(key) {\n",
              "          const element = document.querySelector('#df-50d022c7-76a9-44b7-a484-6c3c17aac20b');\n",
              "          const dataTable =\n",
              "            await google.colab.kernel.invokeFunction('convertToInteractive',\n",
              "                                                     [key], {});\n",
              "          if (!dataTable) return;\n",
              "\n",
              "          const docLinkHtml = 'Like what you see? Visit the ' +\n",
              "            '<a target=\"_blank\" href=https://colab.research.google.com/notebooks/data_table.ipynb>data table notebook</a>'\n",
              "            + ' to learn more about interactive tables.';\n",
              "          element.innerHTML = '';\n",
              "          dataTable['output_type'] = 'display_data';\n",
              "          await google.colab.output.renderOutput(dataTable, element);\n",
              "          const docLink = document.createElement('div');\n",
              "          docLink.innerHTML = docLinkHtml;\n",
              "          element.appendChild(docLink);\n",
              "        }\n",
              "      </script>\n",
              "    </div>\n",
              "  </div>\n",
              "  "
            ]
          },
          "metadata": {},
          "execution_count": 10
        }
      ]
    },
    {
      "cell_type": "markdown",
      "source": [
        ">After reviewing the statistics on the Item Weights by Item_Type, I can see that the values have a normal distribution about the mean with min() and max() within 2std.  This looks like a close sample of data, there adding to the mean will have little impact.  Replace missing Item_Weights with the mean() value of the Item_Type weight.  \n"
      ],
      "metadata": {
        "id": "tCZJzyIYZQjq"
      }
    },
    {
      "cell_type": "code",
      "source": [
        "#Replace the NaN weights with the mean\n",
        "df['Item_Weight'].fillna(df['Item_Weight'].mean(),inplace=True)\n",
        "#display the results compared to previous output.  Notice that the mean doesnt change much, but the count goes up to include non-Nan values\n",
        "df.groupby('Item_Type')['Item_Weight'].describe().round(2)"
      ],
      "metadata": {
        "colab": {
          "base_uri": "https://localhost:8080/",
          "height": 583
        },
        "id": "QpdMWZ0Ao0L2",
        "outputId": "ae749f06-b0ac-44a4-fdd2-da04f69aeb8a"
      },
      "execution_count": 11,
      "outputs": [
        {
          "output_type": "execute_result",
          "data": {
            "text/plain": [
              "                        count   mean   std   min    25%    50%    75%    max\n",
              "Item_Type                                                                   \n",
              "Baking Goods            648.0  12.38  4.35  4.88   9.10  12.86  15.15  20.85\n",
              "Breads                  251.0  11.63  4.04  4.64   8.00  12.80  14.08  20.85\n",
              "Breakfast               110.0  12.79  4.53  6.42   8.27  12.86  16.50  21.10\n",
              "Canned                  649.0  12.40  4.18  4.62   8.63  12.86  15.70  21.35\n",
              "Dairy                   682.0  13.33  4.27  4.80  10.80  12.86  16.74  20.70\n",
              "Frozen Foods            856.0  12.87  4.13  4.56   9.30  12.86  16.10  20.85\n",
              "Fruits and Vegetables  1232.0  13.16  4.16  5.46  10.17  12.86  16.35  21.35\n",
              "Hard Drinks             214.0  11.61  3.95  4.61   8.37  11.23  14.65  19.70\n",
              "Health and Hygiene      520.0  13.09  4.10  5.18  10.10  12.86  16.60  21.25\n",
              "Household               910.0  13.30  4.57  5.03   9.10  12.86  17.21  21.25\n",
              "Meat                    425.0  12.83  4.16  5.15  10.20  12.86  15.35  21.25\n",
              "Others                  169.0  13.66  3.82  5.50  11.15  12.86  17.35  20.50\n",
              "Seafood                  64.0  12.61  4.88  5.36   7.97  12.73  17.35  20.75\n",
              "Snack Foods            1200.0  12.96  4.11  5.10   9.60  12.86  16.00  21.25\n",
              "Soft Drinks             445.0  12.01  4.05  4.59   8.52  12.86  15.20  20.75\n",
              "Starchy Foods           148.0  13.59  3.77  6.70  12.15  12.86  16.18  21.20"
            ],
            "text/html": [
              "\n",
              "  <div id=\"df-67ede2ed-612a-41ac-8fe6-7584f8542294\">\n",
              "    <div class=\"colab-df-container\">\n",
              "      <div>\n",
              "<style scoped>\n",
              "    .dataframe tbody tr th:only-of-type {\n",
              "        vertical-align: middle;\n",
              "    }\n",
              "\n",
              "    .dataframe tbody tr th {\n",
              "        vertical-align: top;\n",
              "    }\n",
              "\n",
              "    .dataframe thead th {\n",
              "        text-align: right;\n",
              "    }\n",
              "</style>\n",
              "<table border=\"1\" class=\"dataframe\">\n",
              "  <thead>\n",
              "    <tr style=\"text-align: right;\">\n",
              "      <th></th>\n",
              "      <th>count</th>\n",
              "      <th>mean</th>\n",
              "      <th>std</th>\n",
              "      <th>min</th>\n",
              "      <th>25%</th>\n",
              "      <th>50%</th>\n",
              "      <th>75%</th>\n",
              "      <th>max</th>\n",
              "    </tr>\n",
              "    <tr>\n",
              "      <th>Item_Type</th>\n",
              "      <th></th>\n",
              "      <th></th>\n",
              "      <th></th>\n",
              "      <th></th>\n",
              "      <th></th>\n",
              "      <th></th>\n",
              "      <th></th>\n",
              "      <th></th>\n",
              "    </tr>\n",
              "  </thead>\n",
              "  <tbody>\n",
              "    <tr>\n",
              "      <th>Baking Goods</th>\n",
              "      <td>648.0</td>\n",
              "      <td>12.38</td>\n",
              "      <td>4.35</td>\n",
              "      <td>4.88</td>\n",
              "      <td>9.10</td>\n",
              "      <td>12.86</td>\n",
              "      <td>15.15</td>\n",
              "      <td>20.85</td>\n",
              "    </tr>\n",
              "    <tr>\n",
              "      <th>Breads</th>\n",
              "      <td>251.0</td>\n",
              "      <td>11.63</td>\n",
              "      <td>4.04</td>\n",
              "      <td>4.64</td>\n",
              "      <td>8.00</td>\n",
              "      <td>12.80</td>\n",
              "      <td>14.08</td>\n",
              "      <td>20.85</td>\n",
              "    </tr>\n",
              "    <tr>\n",
              "      <th>Breakfast</th>\n",
              "      <td>110.0</td>\n",
              "      <td>12.79</td>\n",
              "      <td>4.53</td>\n",
              "      <td>6.42</td>\n",
              "      <td>8.27</td>\n",
              "      <td>12.86</td>\n",
              "      <td>16.50</td>\n",
              "      <td>21.10</td>\n",
              "    </tr>\n",
              "    <tr>\n",
              "      <th>Canned</th>\n",
              "      <td>649.0</td>\n",
              "      <td>12.40</td>\n",
              "      <td>4.18</td>\n",
              "      <td>4.62</td>\n",
              "      <td>8.63</td>\n",
              "      <td>12.86</td>\n",
              "      <td>15.70</td>\n",
              "      <td>21.35</td>\n",
              "    </tr>\n",
              "    <tr>\n",
              "      <th>Dairy</th>\n",
              "      <td>682.0</td>\n",
              "      <td>13.33</td>\n",
              "      <td>4.27</td>\n",
              "      <td>4.80</td>\n",
              "      <td>10.80</td>\n",
              "      <td>12.86</td>\n",
              "      <td>16.74</td>\n",
              "      <td>20.70</td>\n",
              "    </tr>\n",
              "    <tr>\n",
              "      <th>Frozen Foods</th>\n",
              "      <td>856.0</td>\n",
              "      <td>12.87</td>\n",
              "      <td>4.13</td>\n",
              "      <td>4.56</td>\n",
              "      <td>9.30</td>\n",
              "      <td>12.86</td>\n",
              "      <td>16.10</td>\n",
              "      <td>20.85</td>\n",
              "    </tr>\n",
              "    <tr>\n",
              "      <th>Fruits and Vegetables</th>\n",
              "      <td>1232.0</td>\n",
              "      <td>13.16</td>\n",
              "      <td>4.16</td>\n",
              "      <td>5.46</td>\n",
              "      <td>10.17</td>\n",
              "      <td>12.86</td>\n",
              "      <td>16.35</td>\n",
              "      <td>21.35</td>\n",
              "    </tr>\n",
              "    <tr>\n",
              "      <th>Hard Drinks</th>\n",
              "      <td>214.0</td>\n",
              "      <td>11.61</td>\n",
              "      <td>3.95</td>\n",
              "      <td>4.61</td>\n",
              "      <td>8.37</td>\n",
              "      <td>11.23</td>\n",
              "      <td>14.65</td>\n",
              "      <td>19.70</td>\n",
              "    </tr>\n",
              "    <tr>\n",
              "      <th>Health and Hygiene</th>\n",
              "      <td>520.0</td>\n",
              "      <td>13.09</td>\n",
              "      <td>4.10</td>\n",
              "      <td>5.18</td>\n",
              "      <td>10.10</td>\n",
              "      <td>12.86</td>\n",
              "      <td>16.60</td>\n",
              "      <td>21.25</td>\n",
              "    </tr>\n",
              "    <tr>\n",
              "      <th>Household</th>\n",
              "      <td>910.0</td>\n",
              "      <td>13.30</td>\n",
              "      <td>4.57</td>\n",
              "      <td>5.03</td>\n",
              "      <td>9.10</td>\n",
              "      <td>12.86</td>\n",
              "      <td>17.21</td>\n",
              "      <td>21.25</td>\n",
              "    </tr>\n",
              "    <tr>\n",
              "      <th>Meat</th>\n",
              "      <td>425.0</td>\n",
              "      <td>12.83</td>\n",
              "      <td>4.16</td>\n",
              "      <td>5.15</td>\n",
              "      <td>10.20</td>\n",
              "      <td>12.86</td>\n",
              "      <td>15.35</td>\n",
              "      <td>21.25</td>\n",
              "    </tr>\n",
              "    <tr>\n",
              "      <th>Others</th>\n",
              "      <td>169.0</td>\n",
              "      <td>13.66</td>\n",
              "      <td>3.82</td>\n",
              "      <td>5.50</td>\n",
              "      <td>11.15</td>\n",
              "      <td>12.86</td>\n",
              "      <td>17.35</td>\n",
              "      <td>20.50</td>\n",
              "    </tr>\n",
              "    <tr>\n",
              "      <th>Seafood</th>\n",
              "      <td>64.0</td>\n",
              "      <td>12.61</td>\n",
              "      <td>4.88</td>\n",
              "      <td>5.36</td>\n",
              "      <td>7.97</td>\n",
              "      <td>12.73</td>\n",
              "      <td>17.35</td>\n",
              "      <td>20.75</td>\n",
              "    </tr>\n",
              "    <tr>\n",
              "      <th>Snack Foods</th>\n",
              "      <td>1200.0</td>\n",
              "      <td>12.96</td>\n",
              "      <td>4.11</td>\n",
              "      <td>5.10</td>\n",
              "      <td>9.60</td>\n",
              "      <td>12.86</td>\n",
              "      <td>16.00</td>\n",
              "      <td>21.25</td>\n",
              "    </tr>\n",
              "    <tr>\n",
              "      <th>Soft Drinks</th>\n",
              "      <td>445.0</td>\n",
              "      <td>12.01</td>\n",
              "      <td>4.05</td>\n",
              "      <td>4.59</td>\n",
              "      <td>8.52</td>\n",
              "      <td>12.86</td>\n",
              "      <td>15.20</td>\n",
              "      <td>20.75</td>\n",
              "    </tr>\n",
              "    <tr>\n",
              "      <th>Starchy Foods</th>\n",
              "      <td>148.0</td>\n",
              "      <td>13.59</td>\n",
              "      <td>3.77</td>\n",
              "      <td>6.70</td>\n",
              "      <td>12.15</td>\n",
              "      <td>12.86</td>\n",
              "      <td>16.18</td>\n",
              "      <td>21.20</td>\n",
              "    </tr>\n",
              "  </tbody>\n",
              "</table>\n",
              "</div>\n",
              "      <button class=\"colab-df-convert\" onclick=\"convertToInteractive('df-67ede2ed-612a-41ac-8fe6-7584f8542294')\"\n",
              "              title=\"Convert this dataframe to an interactive table.\"\n",
              "              style=\"display:none;\">\n",
              "        \n",
              "  <svg xmlns=\"http://www.w3.org/2000/svg\" height=\"24px\"viewBox=\"0 0 24 24\"\n",
              "       width=\"24px\">\n",
              "    <path d=\"M0 0h24v24H0V0z\" fill=\"none\"/>\n",
              "    <path d=\"M18.56 5.44l.94 2.06.94-2.06 2.06-.94-2.06-.94-.94-2.06-.94 2.06-2.06.94zm-11 1L8.5 8.5l.94-2.06 2.06-.94-2.06-.94L8.5 2.5l-.94 2.06-2.06.94zm10 10l.94 2.06.94-2.06 2.06-.94-2.06-.94-.94-2.06-.94 2.06-2.06.94z\"/><path d=\"M17.41 7.96l-1.37-1.37c-.4-.4-.92-.59-1.43-.59-.52 0-1.04.2-1.43.59L10.3 9.45l-7.72 7.72c-.78.78-.78 2.05 0 2.83L4 21.41c.39.39.9.59 1.41.59.51 0 1.02-.2 1.41-.59l7.78-7.78 2.81-2.81c.8-.78.8-2.07 0-2.86zM5.41 20L4 18.59l7.72-7.72 1.47 1.35L5.41 20z\"/>\n",
              "  </svg>\n",
              "      </button>\n",
              "      \n",
              "  <style>\n",
              "    .colab-df-container {\n",
              "      display:flex;\n",
              "      flex-wrap:wrap;\n",
              "      gap: 12px;\n",
              "    }\n",
              "\n",
              "    .colab-df-convert {\n",
              "      background-color: #E8F0FE;\n",
              "      border: none;\n",
              "      border-radius: 50%;\n",
              "      cursor: pointer;\n",
              "      display: none;\n",
              "      fill: #1967D2;\n",
              "      height: 32px;\n",
              "      padding: 0 0 0 0;\n",
              "      width: 32px;\n",
              "    }\n",
              "\n",
              "    .colab-df-convert:hover {\n",
              "      background-color: #E2EBFA;\n",
              "      box-shadow: 0px 1px 2px rgba(60, 64, 67, 0.3), 0px 1px 3px 1px rgba(60, 64, 67, 0.15);\n",
              "      fill: #174EA6;\n",
              "    }\n",
              "\n",
              "    [theme=dark] .colab-df-convert {\n",
              "      background-color: #3B4455;\n",
              "      fill: #D2E3FC;\n",
              "    }\n",
              "\n",
              "    [theme=dark] .colab-df-convert:hover {\n",
              "      background-color: #434B5C;\n",
              "      box-shadow: 0px 1px 3px 1px rgba(0, 0, 0, 0.15);\n",
              "      filter: drop-shadow(0px 1px 2px rgba(0, 0, 0, 0.3));\n",
              "      fill: #FFFFFF;\n",
              "    }\n",
              "  </style>\n",
              "\n",
              "      <script>\n",
              "        const buttonEl =\n",
              "          document.querySelector('#df-67ede2ed-612a-41ac-8fe6-7584f8542294 button.colab-df-convert');\n",
              "        buttonEl.style.display =\n",
              "          google.colab.kernel.accessAllowed ? 'block' : 'none';\n",
              "\n",
              "        async function convertToInteractive(key) {\n",
              "          const element = document.querySelector('#df-67ede2ed-612a-41ac-8fe6-7584f8542294');\n",
              "          const dataTable =\n",
              "            await google.colab.kernel.invokeFunction('convertToInteractive',\n",
              "                                                     [key], {});\n",
              "          if (!dataTable) return;\n",
              "\n",
              "          const docLinkHtml = 'Like what you see? Visit the ' +\n",
              "            '<a target=\"_blank\" href=https://colab.research.google.com/notebooks/data_table.ipynb>data table notebook</a>'\n",
              "            + ' to learn more about interactive tables.';\n",
              "          element.innerHTML = '';\n",
              "          dataTable['output_type'] = 'display_data';\n",
              "          await google.colab.output.renderOutput(dataTable, element);\n",
              "          const docLink = document.createElement('div');\n",
              "          docLink.innerHTML = docLinkHtml;\n",
              "          element.appendChild(docLink);\n",
              "        }\n",
              "      </script>\n",
              "    </div>\n",
              "  </div>\n",
              "  "
            ]
          },
          "metadata": {},
          "execution_count": 11
        }
      ]
    },
    {
      "cell_type": "markdown",
      "source": [
        ">Comparing the above output to the dataframe containing NaN values you can see a a large increase in the item count and and a small increase mean 'Item_Weight' for all item types.  This makes sense since we are adding many entries where the Item_Weight is mean value of the NaN data set. "
      ],
      "metadata": {
        "id": "bcT7O4ClbsLu"
      }
    },
    {
      "cell_type": "markdown",
      "source": [
        "### 5.B 'Outlet_Size'\n",
        "'Outlet_Size' is a categorical column, so we must impart our wisdom on to the missing values.  Let's look at the list of values and their counts to determine how we fill the empty values"
      ],
      "metadata": {
        "id": "aV6XAiuGelZ8"
      }
    },
    {
      "cell_type": "code",
      "source": [
        "print(df['Outlet_Size'].value_counts())\n",
        "print('Number of NaN Outlet_Size values: ')\n",
        "df['Outlet_Size'].isna().sum()"
      ],
      "metadata": {
        "colab": {
          "base_uri": "https://localhost:8080/"
        },
        "id": "gBpGhA6I0DcQ",
        "outputId": "06a9c68a-7ff7-4615-c95e-608273ad65bd"
      },
      "execution_count": 12,
      "outputs": [
        {
          "output_type": "stream",
          "name": "stdout",
          "text": [
            "Medium    2793\n",
            "Small     2388\n",
            "High       932\n",
            "Name: Outlet_Size, dtype: int64\n",
            "Number of NaN Outlet_Size values: \n"
          ]
        },
        {
          "output_type": "execute_result",
          "data": {
            "text/plain": [
              "2410"
            ]
          },
          "metadata": {},
          "execution_count": 12
        }
      ]
    },
    {
      "cell_type": "markdown",
      "source": [
        ">There are 2410 missing Outlet size entries.  The distribution of Outlet Size are Medium (53%), small(46%), High(11%). Since we're not really doing anything analytic with this data, and we do not know any context behind the values we're missing we cannot setup a reasonable model for inserting values.  Therefore we will fill the missing values with \"Unkown\"\n"
      ],
      "metadata": {
        "id": "T3C3ranYeuXp"
      }
    },
    {
      "cell_type": "code",
      "source": [
        "df['Outlet_Size'].fillna('Unknown', inplace=True)\n",
        "df['Outlet_Size'].value_counts()"
      ],
      "metadata": {
        "id": "l_3gPWY03RZZ",
        "colab": {
          "base_uri": "https://localhost:8080/"
        },
        "outputId": "f0e9335e-d973-408a-f16e-f13c3fbefbdd"
      },
      "execution_count": 13,
      "outputs": [
        {
          "output_type": "execute_result",
          "data": {
            "text/plain": [
              "Medium     2793\n",
              "Unknown    2410\n",
              "Small      2388\n",
              "High        932\n",
              "Name: Outlet_Size, dtype: int64"
            ]
          },
          "metadata": {},
          "execution_count": 13
        }
      ]
    },
    {
      "cell_type": "markdown",
      "source": [
        "### 6) Confirm that there are no missing values after addressing them."
      ],
      "metadata": {
        "id": "uG4SQxQNjtcK"
      }
    },
    {
      "cell_type": "code",
      "source": [
        "df.isna().sum()"
      ],
      "metadata": {
        "colab": {
          "base_uri": "https://localhost:8080/"
        },
        "id": "TBYtbm6nhrxV",
        "outputId": "9f9ea1f0-3bb0-47da-e254-153b98bb54a3"
      },
      "execution_count": 14,
      "outputs": [
        {
          "output_type": "execute_result",
          "data": {
            "text/plain": [
              "Item_Identifier              0\n",
              "Item_Weight                  0\n",
              "Item_Fat_Content             0\n",
              "Item_Visibility              0\n",
              "Item_Type                    0\n",
              "Item_MRP                     0\n",
              "Outlet_Identifier            0\n",
              "Outlet_Establishment_Year    0\n",
              "Outlet_Size                  0\n",
              "Outlet_Location_Type         0\n",
              "Outlet_Type                  0\n",
              "Item_Outlet_Sales            0\n",
              "dtype: int64"
            ]
          },
          "metadata": {},
          "execution_count": 14
        }
      ]
    },
    {
      "cell_type": "markdown",
      "source": [
        "### 7) Inconsistent Categories\n",
        "Find and fix any inconsistent categories of data (example: fix cat, Cat, and cats so that they are consistent).\n",
        "- Categorical data is a non-numeric data type : 'object'\n",
        "- Look at the datatypes of all columns.  If there is a column that you think is *numeric* but shows as an *object*, you could try converting it to a numeric type.  this would create an error(s) on non-numeric entries.  You could go back in and update those entries manually."
      ],
      "metadata": {
        "id": "yT-Yl4M2j1-u"
      }
    },
    {
      "cell_type": "code",
      "source": [
        "df.dtypes"
      ],
      "metadata": {
        "colab": {
          "base_uri": "https://localhost:8080/"
        },
        "id": "3-znpnzMhYjO",
        "outputId": "eef4f152-45b8-4b34-a36e-4bdd7db1f4e7"
      },
      "execution_count": 15,
      "outputs": [
        {
          "output_type": "execute_result",
          "data": {
            "text/plain": [
              "Item_Identifier               object\n",
              "Item_Weight                  float64\n",
              "Item_Fat_Content              object\n",
              "Item_Visibility              float64\n",
              "Item_Type                     object\n",
              "Item_MRP                     float64\n",
              "Outlet_Identifier             object\n",
              "Outlet_Establishment_Year      int64\n",
              "Outlet_Size                   object\n",
              "Outlet_Location_Type          object\n",
              "Outlet_Type                   object\n",
              "Item_Outlet_Sales            float64\n",
              "dtype: object"
            ]
          },
          "metadata": {},
          "execution_count": 15
        }
      ]
    },
    {
      "cell_type": "markdown",
      "source": [
        "Create a list of all columns with *object* data type"
      ],
      "metadata": {
        "id": "FojqRkatfb0w"
      }
    },
    {
      "cell_type": "code",
      "source": [
        "data_types = df.dtypes\n",
        "cols = data_types[data_types=='object'].index\n",
        "cols"
      ],
      "metadata": {
        "colab": {
          "base_uri": "https://localhost:8080/"
        },
        "id": "pjt7JQbMevoK",
        "outputId": "7e287756-1a8a-49bf-b361-1b2d69539ff9"
      },
      "execution_count": 16,
      "outputs": [
        {
          "output_type": "execute_result",
          "data": {
            "text/plain": [
              "Index(['Item_Identifier', 'Item_Fat_Content', 'Item_Type', 'Outlet_Identifier',\n",
              "       'Outlet_Size', 'Outlet_Location_Type', 'Outlet_Type'],\n",
              "      dtype='object')"
            ]
          },
          "metadata": {},
          "execution_count": 16
        }
      ]
    },
    {
      "cell_type": "markdown",
      "source": [
        "Loop through all the columns of data that have an object data type and output the count unique values to see if there are some changes we can/should make.  Use the *df['col].value_counts()* function.  This lets me see if data was entered correctly."
      ],
      "metadata": {
        "id": "aU3WuLWokx8S"
      }
    },
    {
      "cell_type": "code",
      "source": [
        "for name in cols:\n",
        " print(f\"The unique values of the feature {name} are:\\n\")\n",
        " print(df[name].value_counts())\n",
        " print(\"\\n\")"
      ],
      "metadata": {
        "colab": {
          "base_uri": "https://localhost:8080/"
        },
        "id": "o7pV1DwzOcpd",
        "outputId": "47483563-b104-4790-e8e1-0a7e10f19165"
      },
      "execution_count": 17,
      "outputs": [
        {
          "output_type": "stream",
          "name": "stdout",
          "text": [
            "The unique values of the feature Item_Identifier are:\n",
            "\n",
            "FDW13    10\n",
            "FDG33    10\n",
            "NCY18     9\n",
            "FDD38     9\n",
            "DRE49     9\n",
            "         ..\n",
            "FDY43     1\n",
            "FDQ60     1\n",
            "FDO33     1\n",
            "DRF48     1\n",
            "FDC23     1\n",
            "Name: Item_Identifier, Length: 1559, dtype: int64\n",
            "\n",
            "\n",
            "The unique values of the feature Item_Fat_Content are:\n",
            "\n",
            "Low Fat    5089\n",
            "Regular    2889\n",
            "LF          316\n",
            "reg         117\n",
            "low fat     112\n",
            "Name: Item_Fat_Content, dtype: int64\n",
            "\n",
            "\n",
            "The unique values of the feature Item_Type are:\n",
            "\n",
            "Fruits and Vegetables    1232\n",
            "Snack Foods              1200\n",
            "Household                 910\n",
            "Frozen Foods              856\n",
            "Dairy                     682\n",
            "Canned                    649\n",
            "Baking Goods              648\n",
            "Health and Hygiene        520\n",
            "Soft Drinks               445\n",
            "Meat                      425\n",
            "Breads                    251\n",
            "Hard Drinks               214\n",
            "Others                    169\n",
            "Starchy Foods             148\n",
            "Breakfast                 110\n",
            "Seafood                    64\n",
            "Name: Item_Type, dtype: int64\n",
            "\n",
            "\n",
            "The unique values of the feature Outlet_Identifier are:\n",
            "\n",
            "OUT027    935\n",
            "OUT013    932\n",
            "OUT049    930\n",
            "OUT046    930\n",
            "OUT035    930\n",
            "OUT045    929\n",
            "OUT018    928\n",
            "OUT017    926\n",
            "OUT010    555\n",
            "OUT019    528\n",
            "Name: Outlet_Identifier, dtype: int64\n",
            "\n",
            "\n",
            "The unique values of the feature Outlet_Size are:\n",
            "\n",
            "Medium     2793\n",
            "Unknown    2410\n",
            "Small      2388\n",
            "High        932\n",
            "Name: Outlet_Size, dtype: int64\n",
            "\n",
            "\n",
            "The unique values of the feature Outlet_Location_Type are:\n",
            "\n",
            "Tier 3    3350\n",
            "Tier 2    2785\n",
            "Tier 1    2388\n",
            "Name: Outlet_Location_Type, dtype: int64\n",
            "\n",
            "\n",
            "The unique values of the feature Outlet_Type are:\n",
            "\n",
            "Supermarket Type1    5577\n",
            "Grocery Store        1083\n",
            "Supermarket Type3     935\n",
            "Supermarket Type2     928\n",
            "Name: Outlet_Type, dtype: int64\n",
            "\n",
            "\n"
          ]
        }
      ]
    },
    {
      "cell_type": "markdown",
      "source": [
        "Looks like there is some cleanup needed in the \"Item_Fat_Content\" feature.  We can change the outliers:\n",
        "- **'LF (316)' and 'low fat (112)' --> 'Low Fat (5089)'**\n",
        "- **'reg'(117) --> 'Regular'(2889)** \n",
        "\n",
        "Use *df.replace()* to update these mistyped entries.  Show the updated column unique value counts"
      ],
      "metadata": {
        "id": "LSy5jrOglJ25"
      }
    },
    {
      "cell_type": "code",
      "source": [
        "df.replace(to_replace=['LF', 'low fat'], value='Low Fat', inplace=True)\n",
        "df.replace('reg','Regular', inplace=True)\n",
        "df['Item_Fat_Content'].value_counts()"
      ],
      "metadata": {
        "colab": {
          "base_uri": "https://localhost:8080/"
        },
        "id": "JHUJSkgMnbeu",
        "outputId": "50716e71-386c-4ae7-d6ce-327e9f570e79"
      },
      "execution_count": 18,
      "outputs": [
        {
          "output_type": "execute_result",
          "data": {
            "text/plain": [
              "Low Fat    5517\n",
              "Regular    3006\n",
              "Name: Item_Fat_Content, dtype: int64"
            ]
          },
          "metadata": {},
          "execution_count": 18
        }
      ]
    },
    {
      "cell_type": "markdown",
      "source": [
        "### 8) Statistics\n",
        "For any numerical columns, obtain the summary statistics of each (min, max, mean). We only want to look at numeric datatypes"
      ],
      "metadata": {
        "id": "eiWw26Hjj5pu"
      }
    },
    {
      "cell_type": "code",
      "source": [
        "types = df.dtypes"
      ],
      "metadata": {
        "id": "704soKcrqK3v"
      },
      "execution_count": 19,
      "outputs": []
    },
    {
      "cell_type": "code",
      "source": [
        "df.select_dtypes(include=np.number).describe().round(2)"
      ],
      "metadata": {
        "colab": {
          "base_uri": "https://localhost:8080/",
          "height": 300
        },
        "id": "q6JY-YJHrD3O",
        "outputId": "c67e5bff-6583-46a8-8a33-32baff872f6e"
      },
      "execution_count": 20,
      "outputs": [
        {
          "output_type": "execute_result",
          "data": {
            "text/plain": [
              "       Item_Weight  Item_Visibility  Item_MRP  Outlet_Establishment_Year  \\\n",
              "count      8523.00          8523.00   8523.00                    8523.00   \n",
              "mean         12.86             0.07    140.99                    1997.83   \n",
              "std           4.23             0.05     62.28                       8.37   \n",
              "min           4.56             0.00     31.29                    1985.00   \n",
              "25%           9.31             0.03     93.83                    1987.00   \n",
              "50%          12.86             0.05    143.01                    1999.00   \n",
              "75%          16.00             0.09    185.64                    2004.00   \n",
              "max          21.35             0.33    266.89                    2009.00   \n",
              "\n",
              "       Item_Outlet_Sales  \n",
              "count            8523.00  \n",
              "mean             2181.29  \n",
              "std              1706.50  \n",
              "min                33.29  \n",
              "25%               834.25  \n",
              "50%              1794.33  \n",
              "75%              3101.30  \n",
              "max             13086.96  "
            ],
            "text/html": [
              "\n",
              "  <div id=\"df-341a80bf-010a-4805-90d4-a31fbe9577b9\">\n",
              "    <div class=\"colab-df-container\">\n",
              "      <div>\n",
              "<style scoped>\n",
              "    .dataframe tbody tr th:only-of-type {\n",
              "        vertical-align: middle;\n",
              "    }\n",
              "\n",
              "    .dataframe tbody tr th {\n",
              "        vertical-align: top;\n",
              "    }\n",
              "\n",
              "    .dataframe thead th {\n",
              "        text-align: right;\n",
              "    }\n",
              "</style>\n",
              "<table border=\"1\" class=\"dataframe\">\n",
              "  <thead>\n",
              "    <tr style=\"text-align: right;\">\n",
              "      <th></th>\n",
              "      <th>Item_Weight</th>\n",
              "      <th>Item_Visibility</th>\n",
              "      <th>Item_MRP</th>\n",
              "      <th>Outlet_Establishment_Year</th>\n",
              "      <th>Item_Outlet_Sales</th>\n",
              "    </tr>\n",
              "  </thead>\n",
              "  <tbody>\n",
              "    <tr>\n",
              "      <th>count</th>\n",
              "      <td>8523.00</td>\n",
              "      <td>8523.00</td>\n",
              "      <td>8523.00</td>\n",
              "      <td>8523.00</td>\n",
              "      <td>8523.00</td>\n",
              "    </tr>\n",
              "    <tr>\n",
              "      <th>mean</th>\n",
              "      <td>12.86</td>\n",
              "      <td>0.07</td>\n",
              "      <td>140.99</td>\n",
              "      <td>1997.83</td>\n",
              "      <td>2181.29</td>\n",
              "    </tr>\n",
              "    <tr>\n",
              "      <th>std</th>\n",
              "      <td>4.23</td>\n",
              "      <td>0.05</td>\n",
              "      <td>62.28</td>\n",
              "      <td>8.37</td>\n",
              "      <td>1706.50</td>\n",
              "    </tr>\n",
              "    <tr>\n",
              "      <th>min</th>\n",
              "      <td>4.56</td>\n",
              "      <td>0.00</td>\n",
              "      <td>31.29</td>\n",
              "      <td>1985.00</td>\n",
              "      <td>33.29</td>\n",
              "    </tr>\n",
              "    <tr>\n",
              "      <th>25%</th>\n",
              "      <td>9.31</td>\n",
              "      <td>0.03</td>\n",
              "      <td>93.83</td>\n",
              "      <td>1987.00</td>\n",
              "      <td>834.25</td>\n",
              "    </tr>\n",
              "    <tr>\n",
              "      <th>50%</th>\n",
              "      <td>12.86</td>\n",
              "      <td>0.05</td>\n",
              "      <td>143.01</td>\n",
              "      <td>1999.00</td>\n",
              "      <td>1794.33</td>\n",
              "    </tr>\n",
              "    <tr>\n",
              "      <th>75%</th>\n",
              "      <td>16.00</td>\n",
              "      <td>0.09</td>\n",
              "      <td>185.64</td>\n",
              "      <td>2004.00</td>\n",
              "      <td>3101.30</td>\n",
              "    </tr>\n",
              "    <tr>\n",
              "      <th>max</th>\n",
              "      <td>21.35</td>\n",
              "      <td>0.33</td>\n",
              "      <td>266.89</td>\n",
              "      <td>2009.00</td>\n",
              "      <td>13086.96</td>\n",
              "    </tr>\n",
              "  </tbody>\n",
              "</table>\n",
              "</div>\n",
              "      <button class=\"colab-df-convert\" onclick=\"convertToInteractive('df-341a80bf-010a-4805-90d4-a31fbe9577b9')\"\n",
              "              title=\"Convert this dataframe to an interactive table.\"\n",
              "              style=\"display:none;\">\n",
              "        \n",
              "  <svg xmlns=\"http://www.w3.org/2000/svg\" height=\"24px\"viewBox=\"0 0 24 24\"\n",
              "       width=\"24px\">\n",
              "    <path d=\"M0 0h24v24H0V0z\" fill=\"none\"/>\n",
              "    <path d=\"M18.56 5.44l.94 2.06.94-2.06 2.06-.94-2.06-.94-.94-2.06-.94 2.06-2.06.94zm-11 1L8.5 8.5l.94-2.06 2.06-.94-2.06-.94L8.5 2.5l-.94 2.06-2.06.94zm10 10l.94 2.06.94-2.06 2.06-.94-2.06-.94-.94-2.06-.94 2.06-2.06.94z\"/><path d=\"M17.41 7.96l-1.37-1.37c-.4-.4-.92-.59-1.43-.59-.52 0-1.04.2-1.43.59L10.3 9.45l-7.72 7.72c-.78.78-.78 2.05 0 2.83L4 21.41c.39.39.9.59 1.41.59.51 0 1.02-.2 1.41-.59l7.78-7.78 2.81-2.81c.8-.78.8-2.07 0-2.86zM5.41 20L4 18.59l7.72-7.72 1.47 1.35L5.41 20z\"/>\n",
              "  </svg>\n",
              "      </button>\n",
              "      \n",
              "  <style>\n",
              "    .colab-df-container {\n",
              "      display:flex;\n",
              "      flex-wrap:wrap;\n",
              "      gap: 12px;\n",
              "    }\n",
              "\n",
              "    .colab-df-convert {\n",
              "      background-color: #E8F0FE;\n",
              "      border: none;\n",
              "      border-radius: 50%;\n",
              "      cursor: pointer;\n",
              "      display: none;\n",
              "      fill: #1967D2;\n",
              "      height: 32px;\n",
              "      padding: 0 0 0 0;\n",
              "      width: 32px;\n",
              "    }\n",
              "\n",
              "    .colab-df-convert:hover {\n",
              "      background-color: #E2EBFA;\n",
              "      box-shadow: 0px 1px 2px rgba(60, 64, 67, 0.3), 0px 1px 3px 1px rgba(60, 64, 67, 0.15);\n",
              "      fill: #174EA6;\n",
              "    }\n",
              "\n",
              "    [theme=dark] .colab-df-convert {\n",
              "      background-color: #3B4455;\n",
              "      fill: #D2E3FC;\n",
              "    }\n",
              "\n",
              "    [theme=dark] .colab-df-convert:hover {\n",
              "      background-color: #434B5C;\n",
              "      box-shadow: 0px 1px 3px 1px rgba(0, 0, 0, 0.15);\n",
              "      filter: drop-shadow(0px 1px 2px rgba(0, 0, 0, 0.3));\n",
              "      fill: #FFFFFF;\n",
              "    }\n",
              "  </style>\n",
              "\n",
              "      <script>\n",
              "        const buttonEl =\n",
              "          document.querySelector('#df-341a80bf-010a-4805-90d4-a31fbe9577b9 button.colab-df-convert');\n",
              "        buttonEl.style.display =\n",
              "          google.colab.kernel.accessAllowed ? 'block' : 'none';\n",
              "\n",
              "        async function convertToInteractive(key) {\n",
              "          const element = document.querySelector('#df-341a80bf-010a-4805-90d4-a31fbe9577b9');\n",
              "          const dataTable =\n",
              "            await google.colab.kernel.invokeFunction('convertToInteractive',\n",
              "                                                     [key], {});\n",
              "          if (!dataTable) return;\n",
              "\n",
              "          const docLinkHtml = 'Like what you see? Visit the ' +\n",
              "            '<a target=\"_blank\" href=https://colab.research.google.com/notebooks/data_table.ipynb>data table notebook</a>'\n",
              "            + ' to learn more about interactive tables.';\n",
              "          element.innerHTML = '';\n",
              "          dataTable['output_type'] = 'display_data';\n",
              "          await google.colab.output.renderOutput(dataTable, element);\n",
              "          const docLink = document.createElement('div');\n",
              "          docLink.innerHTML = docLinkHtml;\n",
              "          element.appendChild(docLink);\n",
              "        }\n",
              "      </script>\n",
              "    </div>\n",
              "  </div>\n",
              "  "
            ]
          },
          "metadata": {},
          "execution_count": 20
        }
      ]
    },
    {
      "cell_type": "markdown",
      "source": [
        "> Reviewing the statitistics, we do not have an large outliers in the numerical columns.  No changes to the numeric data needed at this time"
      ],
      "metadata": {
        "id": "1VETNRujj2-t"
      }
    },
    {
      "cell_type": "markdown",
      "source": [
        "# Project 1 - Part 3(core)\n",
        "**Assignment:**\n",
        "\n",
        "We will continue to work on your sales prediction project. The goal of this is to help you understand the data as it relates to the products and outlets that play crucial roles in increasing sales.\n",
        "\n",
        "For Part 3, your task is to complete any statistical analyses that might help you understand, explain, or model with your data. This must include at least one of each:\n",
        "\n",
        "- Histogram to view the distributions of various features in your dataset\n",
        "- Boxplot to view statistical summaries of various features in your dataset.\n",
        "- Heatmap of the correlation between features.\n",
        "\n",
        "Please feel free to add more than the minimum. Remember this is your chance to display your skills!\n",
        "\n",
        "Commit your work to GitHub.\n",
        "\n",
        "Turn in a link to your GitHub repo! We will continue to work on the project a little bit each week."
      ],
      "metadata": {
        "id": "bd77KENFXmMN"
      }
    },
    {
      "cell_type": "markdown",
      "source": [
        "## Plot and Review Data\n",
        "\n",
        "- [ ] Separate the data into Numerical and Categorical by feature type\n",
        "- [ ] Create a list of columns with `dtype = number`.  These datatypes will be looked at with boxplots for outliers.\n",
        "- [ ] Create a list of columns with `dtype = object`.  These datatypes will be looked at with histogram plots only.\n",
        "- [ ] Create a custom function called `plot_charts` to plot the histogram and [optional boxplot] on the same axis for each feature\n",
        "  - [ ] Stylize the plots in the function\n",
        "- [ ] Loop through the lists of Numerical and Categorical features and plot histograms/boxplots\n"
      ],
      "metadata": {
        "id": "I8es7r30ajQ7"
      }
    },
    {
      "cell_type": "code",
      "source": [
        "num_cols = df.select_dtypes('number').columns\n",
        "num_cols"
      ],
      "metadata": {
        "colab": {
          "base_uri": "https://localhost:8080/"
        },
        "id": "CRFpQufvvEBi",
        "outputId": "db6e864f-7157-4795-ec5b-c653db098980"
      },
      "execution_count": 21,
      "outputs": [
        {
          "output_type": "execute_result",
          "data": {
            "text/plain": [
              "Index(['Item_Weight', 'Item_Visibility', 'Item_MRP',\n",
              "       'Outlet_Establishment_Year', 'Item_Outlet_Sales'],\n",
              "      dtype='object')"
            ]
          },
          "metadata": {},
          "execution_count": 21
        }
      ]
    },
    {
      "cell_type": "code",
      "source": [
        "obj_cols = df.select_dtypes('object').columns\n",
        "#drop the \"Item_Identifier\" from out list\n",
        "obj_cols.drop(['Item_Identifier'])\n",
        "print(type(obj_cols))\n",
        "\n",
        "#Drop the first item in the obj_cols - This is the \"Item_Identifier\" and is unique for each entry.  No relevant data from histogram\n",
        "obj_cols=obj_cols[1:]\n",
        "obj_cols"
      ],
      "metadata": {
        "colab": {
          "base_uri": "https://localhost:8080/"
        },
        "id": "2cYr00umqQCK",
        "outputId": "1fd2da90-43de-4265-de80-6894bb25d4e8"
      },
      "execution_count": 22,
      "outputs": [
        {
          "output_type": "stream",
          "name": "stdout",
          "text": [
            "<class 'pandas.core.indexes.base.Index'>\n"
          ]
        },
        {
          "output_type": "execute_result",
          "data": {
            "text/plain": [
              "Index(['Item_Fat_Content', 'Item_Type', 'Outlet_Identifier', 'Outlet_Size',\n",
              "       'Outlet_Location_Type', 'Outlet_Type'],\n",
              "      dtype='object')"
            ]
          },
          "metadata": {},
          "execution_count": 22
        }
      ]
    },
    {
      "cell_type": "markdown",
      "source": [
        "### Function: `plot_charts`"
      ],
      "metadata": {
        "id": "KI-Igwzn92LN"
      }
    },
    {
      "cell_type": "code",
      "source": [
        "def plot_charts(df, col, boxplot = False):\n",
        " if boxplot:\n",
        "  ## make the figure and axes sharing the same x-axis\n",
        "  fig, axes = plt.subplots(nrows=2, figsize=(10,3), sharex=True)\n",
        "\n",
        "  ## Use seaborn plots with ax=axes[i]\n",
        "  #Histogram axes[0]\n",
        "  sns.histplot(data=df,x = col,ax = axes[0])\n",
        "  #add the mean to the histogram\n",
        "  mean_value = df[col].mean()\n",
        "  axes[0].axvline(mean_value,color='red', ls='--', \n",
        "            label=f\"Mean Value = ${mean_value:,.2f}\",);\n",
        "  #add the median to the histogram\n",
        "  med_value = df[col].median()\n",
        "  axes[0].axvline(med_value,color='black', ls='--', \n",
        "            label=f\"Median Value = ${med_value:,.2f}\");\n",
        "\n",
        "  #boxplot -- axes[1]\n",
        "  sns.boxplot(data=df, x = col, ax = axes[1])\n",
        "\n",
        "  ## Updating title of top graph \n",
        "  axes[0].set_title(f'Histogram and Box plot for {col}')\n",
        "\n",
        "# Turn off the comparitive boxplot  \n",
        " else:\n",
        "   sns.set(style=\"darkgrid\")\n",
        "   fig, axes = plt.subplots(figsize=(10,3))\n",
        "   plt.xticks(rotation=45)\n",
        "   sns.histplot(data=df,x=col, color='#69b3a2', alpha=0.3, ax=axes)\n",
        "      \n",
        " ## Fixing any overlapping labels and showing\n",
        " plt.tight_layout()\n",
        " plt.show()"
      ],
      "metadata": {
        "id": "-PEZXo_TpwAq"
      },
      "execution_count": 23,
      "outputs": []
    },
    {
      "cell_type": "markdown",
      "source": [
        "### Numeric Data - Histogram and Boxplots"
      ],
      "metadata": {
        "id": "tJXKq7PG-BC1"
      }
    },
    {
      "cell_type": "code",
      "source": [
        "for col in num_cols:\n",
        "  plot_charts(df, col, boxplot=True)"
      ],
      "metadata": {
        "colab": {
          "base_uri": "https://localhost:8080/",
          "height": 124
        },
        "id": "BeEW5iikl_l2",
        "outputId": "405906cb-793c-4910-c071-12d6eeb707e2"
      },
      "execution_count": 24,
      "outputs": [
        {
          "output_type": "display_data",
          "data": {
            "text/plain": [
              "<Figure size 720x216 with 2 Axes>"
            ],
            "image/png": "[encoded data removed]"
          },
          "metadata": {
            "needs_background": "light"
          }
        },
        {
          "output_type": "display_data",
          "data": {
            "text/plain": [
              "<Figure size 720x216 with 2 Axes>"
            ],
            "image/png": "[encoded data removed]"
          },
          "metadata": {
            "needs_background": "light"
          }
        },
        {
          "output_type": "display_data",
          "data": {
            "text/plain": [
              "<Figure size 720x216 with 2 Axes>"
            ],
            "image/png": "[encoded data removed]"
          },
          "metadata": {
            "needs_background": "light"
          }
        },
        {
          "output_type": "display_data",
          "data": {
            "text/plain": [
              "<Figure size 720x216 with 2 Axes>"
            ],
            "image/png": "[encoded data removed]"
          },
          "metadata": {
            "needs_background": "light"
          }
        },
        {
          "output_type": "display_data",
          "data": {
            "text/plain": [
              "<Figure size 720x216 with 2 Axes>"
            ],
            "image/png": "[encoded data removed]"
          },
          "metadata": {
            "needs_background": "light"
          }
        }
      ]
    },
    {
      "cell_type": "markdown",
      "source": [
        "### Numeric Data - Observations\n",
        ">- `Item_Weight` : The majority of Items weigh about the same (12.5).   \n",
        "- `Item_Visibility` : No Observations made\n",
        "- `Item_MRP` : The Median MRP is aprox 140.  There are no outliers for MRP, which tells us we properly cleaned the data\n",
        "- `Outlet_Establishment_Year` :  The outlet establishment dates were between 1987 and 2004.  The histogram shows that the greatest count of sales happened in the outlets established in 1985-86, and 1998-1999.  \n",
        "- `Item_Outlet_Sales` : The median item_outlet_sales value is approx 1800.  This appears to show how frequently items are being sold in outlets.  There are many items that go way outside the 75% maximum of the barplot"
      ],
      "metadata": {
        "id": "S6jCtZyLE5GS"
      }
    },
    {
      "cell_type": "markdown",
      "source": [
        "### Categorical Data - Histogram only\n"
      ],
      "metadata": {
        "id": "pibY0J7HoxlR"
      }
    },
    {
      "cell_type": "code",
      "source": [
        "for col in obj_cols:\n",
        "  plot_charts(df, col, boxplot=False)"
      ],
      "metadata": {
        "colab": {
          "base_uri": "https://localhost:8080/",
          "height": 141
        },
        "id": "ESOUimZhsGg3",
        "outputId": "5d3dba6c-db76-4cf1-a6bb-065fc1be3430"
      },
      "execution_count": 25,
      "outputs": [
        {
          "output_type": "display_data",
          "data": {
            "text/plain": [
              "<Figure size 720x216 with 1 Axes>"
            ],
            "image/png": "[encoded data removed]"
          },
          "metadata": {}
        },
        {
          "output_type": "display_data",
          "data": {
            "text/plain": [
              "<Figure size 720x216 with 1 Axes>"
            ],
            "image/png": "[encoded data removed]"
          },
          "metadata": {}
        },
        {
          "output_type": "display_data",
          "data": {
            "text/plain": [
              "<Figure size 720x216 with 1 Axes>"
            ],
            "image/png": "[encoded data removed]"
          },
          "metadata": {}
        },
        {
          "output_type": "display_data",
          "data": {
            "text/plain": [
              "<Figure size 720x216 with 1 Axes>"
            ],
            "image/png": "[encoded data removed]"
          },
          "metadata": {}
        },
        {
          "output_type": "display_data",
          "data": {
            "text/plain": [
              "<Figure size 720x216 with 1 Axes>"
            ],
            "image/png": "[encoded data removed]"
          },
          "metadata": {}
        },
        {
          "output_type": "display_data",
          "data": {
            "text/plain": [
              "<Figure size 720x216 with 1 Axes>"
            ],
            "image/png": "[encoded data removed]"
          },
          "metadata": {}
        }
      ]
    },
    {
      "cell_type": "markdown",
      "source": [
        "### Categorical Data- Obeservations\n",
        ">When reviewing categorical data it is important to note that the output of the graphs is simply the count of occurances of that category type for the sale entries.  This does not reflect sales, but is rather a count of specific units sold and their accompanying data.\n",
        "- `Item_Fat_Content` : *Low Fat* foods is make up a far greater count of total sales than the *Regular* foods.\n",
        "- `Item_Types` : *Fruits and Vegetables* and *Snack Foods* are the two largest categories of \n",
        "- `Outlet_Identifier` : No observations made. This data is not relavant for analysis\n",
        "- `Outlet_Size` : *Medium* and *Unknown* make up the two largest categories of outlet_size\n",
        "- `Outlet_Location_Type`: *Tier 3* locations show the greatest number of sales followed by *Tier 2* and ulitimately *Tier 3* locations\n",
        "- `Outlet_Type` : *Supermarket Type1* has the greatest count of sales by far.  "
      ],
      "metadata": {
        "id": "DDDeF_WfAais"
      }
    },
    {
      "cell_type": "markdown",
      "source": [
        "##Heatmap"
      ],
      "metadata": {
        "id": "VoBI2TT7apf9"
      }
    },
    {
      "cell_type": "code",
      "source": [
        "sns.heatmap(df.corr(),annot=True,cmap='Blues');"
      ],
      "metadata": {
        "colab": {
          "base_uri": "https://localhost:8080/",
          "height": 54
        },
        "id": "bmP8w_N7uRe0",
        "outputId": "dc23a823-d54c-4986-9f34-4ad29eb918a8"
      },
      "execution_count": 26,
      "outputs": [
        {
          "output_type": "display_data",
          "data": {
            "text/plain": [
              "<Figure size 432x288 with 2 Axes>"
            ],
            "image/png": "[encoded data removed]"
          },
          "metadata": {}
        }
      ]
    },
    {
      "cell_type": "markdown",
      "source": [
        "### Heatmap Observations\n",
        ">There is a \"moderate\" correlation between Item_MRP and Item_Outlet_Sales.  This relationship tells us that the higher MRP leads to higher Outlet_Sales.  Although its only a \"moderate\" correlation it is telling us the customers purchase higher MRP products more frequently."
      ],
      "metadata": {
        "id": "S4CAV4zTMJDT"
      }
    },
    {
      "cell_type": "markdown",
      "source": [
        "#Project 1 - Part 4(Core)\n",
        "We will continue to work on your sales prediction project. The goal of this is to help the retailer understand the properties of products and outlets that play crucial roles in increasing sales.\n",
        "\n",
        "For Part 4, your task is to build several data visualizations to help your stakeholders better understand trends in the data. Feel free to get creative with this week - this is your chance to set your project apart from others with exceptional visualizations and analyses.\n",
        "\n",
        "- Build on your previous cleaning, exploration, and analysis.\n",
        "- Create a minimum of two data visualizations that help others understand trends in the data (explanatory data analysis).\n",
        "- Since these graphs are for reporting purposes, make sure they look nice by including titles, legends, etc.\n",
        "\n",
        "Commit your work to GitHub.\n",
        "\n",
        "Turn in a link to your GitHub repo! We will continue to work on the project a little bit each week.\n",
        "\n",
        "\n",
        "Here is an exemplar project which includes an example of Part 4 of the project. \n",
        "\n",
        "[Exemplar Project](https://github.com/coding-dojo-data-science/Project1_Exemplar/blob/main/DS_Salaries.ipynb)"
      ],
      "metadata": {
        "id": "Y5D-WyDBVCg6"
      }
    },
    {
      "cell_type": "markdown",
      "source": [
        "## Explanatory Visuals & Analysis"
      ],
      "metadata": {
        "id": "420sUKMzVldr"
      }
    },
    {
      "cell_type": "markdown",
      "source": [
        "## Analysis Goals\n",
        "The goal of this visual analaysis is to look at influences on total sales.  As a business owner one would be interested in factors that are generating more revenue.  In this example analysis we will look at the type of outlet and the type of product and how they influence overall sales.  This is an introduction in use of grahping and formatting.\n",
        "\n",
        "**Questions**\n",
        "- What outlet type produces the most revenue?\n",
        "- What product type produces the most revenue?"
      ],
      "metadata": {
        "id": "rdMxbYakrmx2"
      }
    },
    {
      "cell_type": "markdown",
      "source": [
        "## Style/Formating"
      ],
      "metadata": {
        "id": "cKz8eXeXtOX6"
      }
    },
    {
      "cell_type": "code",
      "source": [
        "#Convert formatting on X-tick marks\n",
        "def hundred_k(x,pos):\n",
        "    \"\"\"function for use wth matplotlib FuncFormatter -  formats money in thousands\"\"\"\n",
        "    return f\"${x*1e-3:,.0f}K\"\n",
        "\n",
        "def million_m(x,pos):\n",
        "    \"\"\"function for use wth matplotlib FuncFormatter -  formats money in thousands\"\"\"\n",
        "    return f\"${x*1e-6:,.0f}M\""
      ],
      "metadata": {
        "id": "DKdw7zA1pfvk"
      },
      "execution_count": 27,
      "outputs": []
    },
    {
      "cell_type": "markdown",
      "source": [
        "## **Visuals**"
      ],
      "metadata": {
        "id": "K01c2ifMtTRT"
      }
    },
    {
      "cell_type": "code",
      "source": [
        "fig, ax = plt.subplots(figsize=(10,4));\n",
        "sns.barplot(data = df, \n",
        "            x=df.groupby([\"Outlet_Type\"])['Item_Outlet_Sales'].cumsum(), \n",
        "            y=\"Outlet_Type\",\n",
        "            palette=\"viridis\");  \n",
        "\n",
        "ax.set_title(\"Cumulative Sales by Outlet Types\",\n",
        "             fontfamily='serif',\n",
        "             fontsize='x-large',\n",
        "             fontweight='semibold');\n",
        "ax.set_ylabel(\"Outlet Type\",\n",
        "              fontsize='x-large')\n",
        "ax.set_xlabel(\"Cumulative Sales\",\n",
        "              fontsize='x-large')\n",
        "\n",
        "# Create the formatter\n",
        "price_fmt_K = FuncFormatter(million_m)\n",
        "## Set the axis' major formatter\n",
        "ax.xaxis.set_major_formatter(price_fmt_K)"
      ],
      "metadata": {
        "colab": {
          "base_uri": "https://localhost:8080/",
          "height": 54
        },
        "id": "Nix-zFmoobET",
        "outputId": "23248b47-071d-463a-ae0c-fa0185d18a44"
      },
      "execution_count": 28,
      "outputs": [
        {
          "output_type": "display_data",
          "data": {
            "text/plain": [
              "<Figure size 720x288 with 1 Axes>"
            ],
            "image/png": "[encoded data removed]"
          },
          "metadata": {}
        }
      ]
    },
    {
      "cell_type": "markdown",
      "source": [
        "With over $6M in sales, The Supermarket Type 1 is by far the highest grossing Outlet type.  It generates more revenue than all other outlet types combined!"
      ],
      "metadata": {
        "id": "iCQHZe-Is2hq"
      }
    },
    {
      "cell_type": "code",
      "source": [
        "fig, ax = plt.subplots(figsize=(10,4));\n",
        "sns.barplot(data = df, \n",
        "            x=df.groupby([\"Item_Type\"])['Item_Outlet_Sales'].cumsum(), \n",
        "            y=\"Item_Type\",\n",
        "            palette=\"viridis\");\n",
        "\n",
        "ax.set_title(\"Cumulative Sales by Item Type\",\n",
        "             fontfamily='serif',\n",
        "             fontsize='x-large',\n",
        "             fontweight='semibold');\n",
        "\n",
        "ax.set_ylabel(\"Item Type\",\n",
        "              fontsize='x-large')\n",
        "\n",
        "ax.set_xlabel(\"Cumulative Sales\",\n",
        "              fontsize='x-large')\n",
        "\n",
        "# Create the formatter\n",
        "price_fmt_K = FuncFormatter(hundred_k)\n",
        "## Set the axis' major formatter\n",
        "ax.xaxis.set_major_formatter(price_fmt_K)"
      ],
      "metadata": {
        "colab": {
          "base_uri": "https://localhost:8080/",
          "height": 54
        },
        "id": "DbA68XdhXxOE",
        "outputId": "398ee823-f18f-4296-90a0-a9006723f189"
      },
      "execution_count": 29,
      "outputs": [
        {
          "output_type": "display_data",
          "data": {
            "text/plain": [
              "<Figure size 720x288 with 1 Axes>"
            ],
            "image/png": "[encoded data removed]"
          },
          "metadata": {}
        }
      ]
    },
    {
      "cell_type": "markdown",
      "source": [
        "By plotting the cumulative sales of all the items we can see the following are the highest selling products. \n",
        "\n",
        "- Fruits and Vegetables > \\$1.4M\n",
        "- Snack Foods > \\$1.3M\n",
        "- Houshold > \\$1M"
      ],
      "metadata": {
        "id": "-b_U466Ytcwp"
      }
    },
    {
      "cell_type": "code",
      "source": [],
      "metadata": {
        "id": "Rpi2ddtiwIAm"
      },
      "execution_count": 29,
      "outputs": []
    },
    {
      "cell_type": "markdown",
      "source": [
        "#Project 1- Part 5(Core)\n",
        "We will continue to work on your sales prediction project. The goal of this step is to help the retailer by using machine learning to make predictions about future sales based on the data provided.\n",
        "\n",
        "For Part 5, you will go back to your original, uncleaned, sales prediction dataset with the goal of preventing data leakage.\n",
        "\n",
        "You should reload the [original data set](https://drive.google.com/file/d/1syH81TVrbBsdymLT_jl2JIf6IjPXtSQw/view?usp=sharing) here using pd.read_csv() to ensure there is no data leakage!\n",
        "\n",
        "- [x] Before splitting your data, you can drop duplicates and fix inconsistencies in categorical data.* (*There is a way to do this after the split, but for this project, you may perform this step before the split)\n",
        "- [x] Identify the features (X) and target (y): Assign the \"Item_Outlet_Sales\" column as your target and the rest of the relevant variables as your features matrix.\n",
        "- [x] Perform a train test split\n",
        "- [x] Create a preprocessing object to prepare the dataset for Machine Learning\n",
        "- [x] Make sure your imputation of missing values occurs after the train test split using SimpleImputer.\n",
        "\n",
        "Commit your work to GitHub.\n",
        "\n",
        "Turn in a link to your GitHub repo! We will finalize the project next week."
      ],
      "metadata": {
        "id": "dIx-9lzwjGms"
      }
    },
    {
      "cell_type": "markdown",
      "source": [
        "##Data/Class import"
      ],
      "metadata": {
        "id": "mpyXOjV3jk3j"
      }
    },
    {
      "cell_type": "code",
      "source": [
        "# Imports\n",
        "import pandas as pd\n",
        "import numpy as np\n",
        "from sklearn.model_selection import train_test_split\n",
        "from sklearn.compose import make_column_selector, make_column_transformer\n",
        "from sklearn.preprocessing import StandardScaler, OneHotEncoder, \\\n",
        "OrdinalEncoder\n",
        "from sklearn.pipeline import make_pipeline\n",
        "from sklearn.impute import SimpleImputer\n",
        "from sklearn import set_config\n",
        "set_config(display='diagram')"
      ],
      "metadata": {
        "id": "Ee3avV_gk0og"
      },
      "execution_count": 32,
      "outputs": []
    },
    {
      "cell_type": "code",
      "source": [
        "url = 'https://drive.google.com/uc?id=1syH81TVrbBsdymLT_jl2JIf6IjPXtSQw'\n",
        "df = pd.read_csv(url)\n",
        "df.head()"
      ],
      "metadata": {
        "colab": {
          "base_uri": "https://localhost:8080/",
          "height": 357
        },
        "id": "6exkqN3njogu",
        "outputId": "1e29d92a-fda8-4b74-f846-919a02d6b4ac"
      },
      "execution_count": 31,
      "outputs": [
        {
          "output_type": "execute_result",
          "data": {
            "text/plain": [
              "  Item_Identifier  Item_Weight Item_Fat_Content  Item_Visibility  \\\n",
              "0           FDA15         9.30          Low Fat         0.016047   \n",
              "1           DRC01         5.92          Regular         0.019278   \n",
              "2           FDN15        17.50          Low Fat         0.016760   \n",
              "3           FDX07        19.20          Regular         0.000000   \n",
              "4           NCD19         8.93          Low Fat         0.000000   \n",
              "\n",
              "               Item_Type  Item_MRP Outlet_Identifier  \\\n",
              "0                  Dairy  249.8092            OUT049   \n",
              "1            Soft Drinks   48.2692            OUT018   \n",
              "2                   Meat  141.6180            OUT049   \n",
              "3  Fruits and Vegetables  182.0950            OUT010   \n",
              "4              Household   53.8614            OUT013   \n",
              "\n",
              "   Outlet_Establishment_Year Outlet_Size Outlet_Location_Type  \\\n",
              "0                       1999      Medium               Tier 1   \n",
              "1                       2009      Medium               Tier 3   \n",
              "2                       1999      Medium               Tier 1   \n",
              "3                       1998         NaN               Tier 3   \n",
              "4                       1987        High               Tier 3   \n",
              "\n",
              "         Outlet_Type  Item_Outlet_Sales  \n",
              "0  Supermarket Type1          3735.1380  \n",
              "1  Supermarket Type2           443.4228  \n",
              "2  Supermarket Type1          2097.2700  \n",
              "3      Grocery Store           732.3800  \n",
              "4  Supermarket Type1           994.7052  "
            ],
            "text/html": [
              "\n",
              "  <div id=\"df-79b7bfcb-2e6d-4f4a-adb8-f1b1fbed105c\">\n",
              "    <div class=\"colab-df-container\">\n",
              "      <div>\n",
              "<style scoped>\n",
              "    .dataframe tbody tr th:only-of-type {\n",
              "        vertical-align: middle;\n",
              "    }\n",
              "\n",
              "    .dataframe tbody tr th {\n",
              "        vertical-align: top;\n",
              "    }\n",
              "\n",
              "    .dataframe thead th {\n",
              "        text-align: right;\n",
              "    }\n",
              "</style>\n",
              "<table border=\"1\" class=\"dataframe\">\n",
              "  <thead>\n",
              "    <tr style=\"text-align: right;\">\n",
              "      <th></th>\n",
              "      <th>Item_Identifier</th>\n",
              "      <th>Item_Weight</th>\n",
              "      <th>Item_Fat_Content</th>\n",
              "      <th>Item_Visibility</th>\n",
              "      <th>Item_Type</th>\n",
              "      <th>Item_MRP</th>\n",
              "      <th>Outlet_Identifier</th>\n",
              "      <th>Outlet_Establishment_Year</th>\n",
              "      <th>Outlet_Size</th>\n",
              "      <th>Outlet_Location_Type</th>\n",
              "      <th>Outlet_Type</th>\n",
              "      <th>Item_Outlet_Sales</th>\n",
              "    </tr>\n",
              "  </thead>\n",
              "  <tbody>\n",
              "    <tr>\n",
              "      <th>0</th>\n",
              "      <td>FDA15</td>\n",
              "      <td>9.30</td>\n",
              "      <td>Low Fat</td>\n",
              "      <td>0.016047</td>\n",
              "      <td>Dairy</td>\n",
              "      <td>249.8092</td>\n",
              "      <td>OUT049</td>\n",
              "      <td>1999</td>\n",
              "      <td>Medium</td>\n",
              "      <td>Tier 1</td>\n",
              "      <td>Supermarket Type1</td>\n",
              "      <td>3735.1380</td>\n",
              "    </tr>\n",
              "    <tr>\n",
              "      <th>1</th>\n",
              "      <td>DRC01</td>\n",
              "      <td>5.92</td>\n",
              "      <td>Regular</td>\n",
              "      <td>0.019278</td>\n",
              "      <td>Soft Drinks</td>\n",
              "      <td>48.2692</td>\n",
              "      <td>OUT018</td>\n",
              "      <td>2009</td>\n",
              "      <td>Medium</td>\n",
              "      <td>Tier 3</td>\n",
              "      <td>Supermarket Type2</td>\n",
              "      <td>443.4228</td>\n",
              "    </tr>\n",
              "    <tr>\n",
              "      <th>2</th>\n",
              "      <td>FDN15</td>\n",
              "      <td>17.50</td>\n",
              "      <td>Low Fat</td>\n",
              "      <td>0.016760</td>\n",
              "      <td>Meat</td>\n",
              "      <td>141.6180</td>\n",
              "      <td>OUT049</td>\n",
              "      <td>1999</td>\n",
              "      <td>Medium</td>\n",
              "      <td>Tier 1</td>\n",
              "      <td>Supermarket Type1</td>\n",
              "      <td>2097.2700</td>\n",
              "    </tr>\n",
              "    <tr>\n",
              "      <th>3</th>\n",
              "      <td>FDX07</td>\n",
              "      <td>19.20</td>\n",
              "      <td>Regular</td>\n",
              "      <td>0.000000</td>\n",
              "      <td>Fruits and Vegetables</td>\n",
              "      <td>182.0950</td>\n",
              "      <td>OUT010</td>\n",
              "      <td>1998</td>\n",
              "      <td>NaN</td>\n",
              "      <td>Tier 3</td>\n",
              "      <td>Grocery Store</td>\n",
              "      <td>732.3800</td>\n",
              "    </tr>\n",
              "    <tr>\n",
              "      <th>4</th>\n",
              "      <td>NCD19</td>\n",
              "      <td>8.93</td>\n",
              "      <td>Low Fat</td>\n",
              "      <td>0.000000</td>\n",
              "      <td>Household</td>\n",
              "      <td>53.8614</td>\n",
              "      <td>OUT013</td>\n",
              "      <td>1987</td>\n",
              "      <td>High</td>\n",
              "      <td>Tier 3</td>\n",
              "      <td>Supermarket Type1</td>\n",
              "      <td>994.7052</td>\n",
              "    </tr>\n",
              "  </tbody>\n",
              "</table>\n",
              "</div>\n",
              "      <button class=\"colab-df-convert\" onclick=\"convertToInteractive('df-79b7bfcb-2e6d-4f4a-adb8-f1b1fbed105c')\"\n",
              "              title=\"Convert this dataframe to an interactive table.\"\n",
              "              style=\"display:none;\">\n",
              "        \n",
              "  <svg xmlns=\"http://www.w3.org/2000/svg\" height=\"24px\"viewBox=\"0 0 24 24\"\n",
              "       width=\"24px\">\n",
              "    <path d=\"M0 0h24v24H0V0z\" fill=\"none\"/>\n",
              "    <path d=\"M18.56 5.44l.94 2.06.94-2.06 2.06-.94-2.06-.94-.94-2.06-.94 2.06-2.06.94zm-11 1L8.5 8.5l.94-2.06 2.06-.94-2.06-.94L8.5 2.5l-.94 2.06-2.06.94zm10 10l.94 2.06.94-2.06 2.06-.94-2.06-.94-.94-2.06-.94 2.06-2.06.94z\"/><path d=\"M17.41 7.96l-1.37-1.37c-.4-.4-.92-.59-1.43-.59-.52 0-1.04.2-1.43.59L10.3 9.45l-7.72 7.72c-.78.78-.78 2.05 0 2.83L4 21.41c.39.39.9.59 1.41.59.51 0 1.02-.2 1.41-.59l7.78-7.78 2.81-2.81c.8-.78.8-2.07 0-2.86zM5.41 20L4 18.59l7.72-7.72 1.47 1.35L5.41 20z\"/>\n",
              "  </svg>\n",
              "      </button>\n",
              "      \n",
              "  <style>\n",
              "    .colab-df-container {\n",
              "      display:flex;\n",
              "      flex-wrap:wrap;\n",
              "      gap: 12px;\n",
              "    }\n",
              "\n",
              "    .colab-df-convert {\n",
              "      background-color: #E8F0FE;\n",
              "      border: none;\n",
              "      border-radius: 50%;\n",
              "      cursor: pointer;\n",
              "      display: none;\n",
              "      fill: #1967D2;\n",
              "      height: 32px;\n",
              "      padding: 0 0 0 0;\n",
              "      width: 32px;\n",
              "    }\n",
              "\n",
              "    .colab-df-convert:hover {\n",
              "      background-color: #E2EBFA;\n",
              "      box-shadow: 0px 1px 2px rgba(60, 64, 67, 0.3), 0px 1px 3px 1px rgba(60, 64, 67, 0.15);\n",
              "      fill: #174EA6;\n",
              "    }\n",
              "\n",
              "    [theme=dark] .colab-df-convert {\n",
              "      background-color: #3B4455;\n",
              "      fill: #D2E3FC;\n",
              "    }\n",
              "\n",
              "    [theme=dark] .colab-df-convert:hover {\n",
              "      background-color: #434B5C;\n",
              "      box-shadow: 0px 1px 3px 1px rgba(0, 0, 0, 0.15);\n",
              "      filter: drop-shadow(0px 1px 2px rgba(0, 0, 0, 0.3));\n",
              "      fill: #FFFFFF;\n",
              "    }\n",
              "  </style>\n",
              "\n",
              "      <script>\n",
              "        const buttonEl =\n",
              "          document.querySelector('#df-79b7bfcb-2e6d-4f4a-adb8-f1b1fbed105c button.colab-df-convert');\n",
              "        buttonEl.style.display =\n",
              "          google.colab.kernel.accessAllowed ? 'block' : 'none';\n",
              "\n",
              "        async function convertToInteractive(key) {\n",
              "          const element = document.querySelector('#df-79b7bfcb-2e6d-4f4a-adb8-f1b1fbed105c');\n",
              "          const dataTable =\n",
              "            await google.colab.kernel.invokeFunction('convertToInteractive',\n",
              "                                                     [key], {});\n",
              "          if (!dataTable) return;\n",
              "\n",
              "          const docLinkHtml = 'Like what you see? Visit the ' +\n",
              "            '<a target=\"_blank\" href=https://colab.research.google.com/notebooks/data_table.ipynb>data table notebook</a>'\n",
              "            + ' to learn more about interactive tables.';\n",
              "          element.innerHTML = '';\n",
              "          dataTable['output_type'] = 'display_data';\n",
              "          await google.colab.output.renderOutput(dataTable, element);\n",
              "          const docLink = document.createElement('div');\n",
              "          docLink.innerHTML = docLinkHtml;\n",
              "          element.appendChild(docLink);\n",
              "        }\n",
              "      </script>\n",
              "    </div>\n",
              "  </div>\n",
              "  "
            ]
          },
          "metadata": {},
          "execution_count": 31
        }
      ]
    },
    {
      "cell_type": "code",
      "source": [
        "# Make a copy of original df to avoid any manipulations \n",
        "eda_ml = df.copy()"
      ],
      "metadata": {
        "id": "jErvDjAzjyC7"
      },
      "execution_count": 33,
      "outputs": []
    },
    {
      "cell_type": "markdown",
      "source": [
        "##Data Review & Cleanup"
      ],
      "metadata": {
        "id": "lkTJRz5ElWXR"
      }
    },
    {
      "cell_type": "code",
      "source": [
        "# Display the sum of missing values\n",
        "eda_ml.isna().sum().sum()"
      ],
      "metadata": {
        "colab": {
          "base_uri": "https://localhost:8080/"
        },
        "id": "HJ8RtCP2lYqe",
        "outputId": "5d248b25-b970-4c20-a7b8-1f637eaac0ec"
      },
      "execution_count": 34,
      "outputs": [
        {
          "output_type": "execute_result",
          "data": {
            "text/plain": [
              "3873"
            ]
          },
          "metadata": {},
          "execution_count": 34
        }
      ]
    },
    {
      "cell_type": "code",
      "source": [
        "# Check to see if there are any duplicate rows\n",
        "eda_ml.duplicated().sum()"
      ],
      "metadata": {
        "colab": {
          "base_uri": "https://localhost:8080/"
        },
        "id": "vxi0Nu_plbVq",
        "outputId": "eba80436-eb51-4947-a1c9-a50be7c4f027"
      },
      "execution_count": 35,
      "outputs": [
        {
          "output_type": "execute_result",
          "data": {
            "text/plain": [
              "0"
            ]
          },
          "metadata": {},
          "execution_count": 35
        }
      ]
    },
    {
      "cell_type": "code",
      "source": [
        "# Look at the info from the data\n",
        "eda_ml.info()"
      ],
      "metadata": {
        "colab": {
          "base_uri": "https://localhost:8080/"
        },
        "id": "wEY2accsldKm",
        "outputId": "267ed799-d8ef-4a35-9237-69afb6662db9"
      },
      "execution_count": 36,
      "outputs": [
        {
          "output_type": "stream",
          "name": "stdout",
          "text": [
            "<class 'pandas.core.frame.DataFrame'>\n",
            "RangeIndex: 8523 entries, 0 to 8522\n",
            "Data columns (total 12 columns):\n",
            " #   Column                     Non-Null Count  Dtype  \n",
            "---  ------                     --------------  -----  \n",
            " 0   Item_Identifier            8523 non-null   object \n",
            " 1   Item_Weight                7060 non-null   float64\n",
            " 2   Item_Fat_Content           8523 non-null   object \n",
            " 3   Item_Visibility            8523 non-null   float64\n",
            " 4   Item_Type                  8523 non-null   object \n",
            " 5   Item_MRP                   8523 non-null   float64\n",
            " 6   Outlet_Identifier          8523 non-null   object \n",
            " 7   Outlet_Establishment_Year  8523 non-null   int64  \n",
            " 8   Outlet_Size                6113 non-null   object \n",
            " 9   Outlet_Location_Type       8523 non-null   object \n",
            " 10  Outlet_Type                8523 non-null   object \n",
            " 11  Item_Outlet_Sales          8523 non-null   float64\n",
            "dtypes: float64(4), int64(1), object(7)\n",
            "memory usage: 799.2+ KB\n"
          ]
        }
      ]
    },
    {
      "cell_type": "code",
      "source": [
        "# Display desriptive statitistics for all collumns\n",
        "eda_ml.describe(include='all')"
      ],
      "metadata": {
        "colab": {
          "base_uri": "https://localhost:8080/",
          "height": 476
        },
        "id": "DAUczNrLlh4i",
        "outputId": "26486597-0a96-4677-818d-edb3558587b2"
      },
      "execution_count": 37,
      "outputs": [
        {
          "output_type": "execute_result",
          "data": {
            "text/plain": [
              "       Item_Identifier  Item_Weight Item_Fat_Content  Item_Visibility  \\\n",
              "count             8523  7060.000000             8523      8523.000000   \n",
              "unique            1559          NaN                5              NaN   \n",
              "top              FDW13          NaN          Low Fat              NaN   \n",
              "freq                10          NaN             5089              NaN   \n",
              "mean               NaN    12.857645              NaN         0.066132   \n",
              "std                NaN     4.643456              NaN         0.051598   \n",
              "min                NaN     4.555000              NaN         0.000000   \n",
              "25%                NaN     8.773750              NaN         0.026989   \n",
              "50%                NaN    12.600000              NaN         0.053931   \n",
              "75%                NaN    16.850000              NaN         0.094585   \n",
              "max                NaN    21.350000              NaN         0.328391   \n",
              "\n",
              "                    Item_Type     Item_MRP Outlet_Identifier  \\\n",
              "count                    8523  8523.000000              8523   \n",
              "unique                     16          NaN                10   \n",
              "top     Fruits and Vegetables          NaN            OUT027   \n",
              "freq                     1232          NaN               935   \n",
              "mean                      NaN   140.992782               NaN   \n",
              "std                       NaN    62.275067               NaN   \n",
              "min                       NaN    31.290000               NaN   \n",
              "25%                       NaN    93.826500               NaN   \n",
              "50%                       NaN   143.012800               NaN   \n",
              "75%                       NaN   185.643700               NaN   \n",
              "max                       NaN   266.888400               NaN   \n",
              "\n",
              "        Outlet_Establishment_Year Outlet_Size Outlet_Location_Type  \\\n",
              "count                 8523.000000        6113                 8523   \n",
              "unique                        NaN           3                    3   \n",
              "top                           NaN      Medium               Tier 3   \n",
              "freq                          NaN        2793                 3350   \n",
              "mean                  1997.831867         NaN                  NaN   \n",
              "std                      8.371760         NaN                  NaN   \n",
              "min                   1985.000000         NaN                  NaN   \n",
              "25%                   1987.000000         NaN                  NaN   \n",
              "50%                   1999.000000         NaN                  NaN   \n",
              "75%                   2004.000000         NaN                  NaN   \n",
              "max                   2009.000000         NaN                  NaN   \n",
              "\n",
              "              Outlet_Type  Item_Outlet_Sales  \n",
              "count                8523        8523.000000  \n",
              "unique                  4                NaN  \n",
              "top     Supermarket Type1                NaN  \n",
              "freq                 5577                NaN  \n",
              "mean                  NaN        2181.288914  \n",
              "std                   NaN        1706.499616  \n",
              "min                   NaN          33.290000  \n",
              "25%                   NaN         834.247400  \n",
              "50%                   NaN        1794.331000  \n",
              "75%                   NaN        3101.296400  \n",
              "max                   NaN       13086.964800  "
            ],
            "text/html": [
              "\n",
              "  <div id=\"df-408ac886-9062-4f68-81a1-3f48931c4748\">\n",
              "    <div class=\"colab-df-container\">\n",
              "      <div>\n",
              "<style scoped>\n",
              "    .dataframe tbody tr th:only-of-type {\n",
              "        vertical-align: middle;\n",
              "    }\n",
              "\n",
              "    .dataframe tbody tr th {\n",
              "        vertical-align: top;\n",
              "    }\n",
              "\n",
              "    .dataframe thead th {\n",
              "        text-align: right;\n",
              "    }\n",
              "</style>\n",
              "<table border=\"1\" class=\"dataframe\">\n",
              "  <thead>\n",
              "    <tr style=\"text-align: right;\">\n",
              "      <th></th>\n",
              "      <th>Item_Identifier</th>\n",
              "      <th>Item_Weight</th>\n",
              "      <th>Item_Fat_Content</th>\n",
              "      <th>Item_Visibility</th>\n",
              "      <th>Item_Type</th>\n",
              "      <th>Item_MRP</th>\n",
              "      <th>Outlet_Identifier</th>\n",
              "      <th>Outlet_Establishment_Year</th>\n",
              "      <th>Outlet_Size</th>\n",
              "      <th>Outlet_Location_Type</th>\n",
              "      <th>Outlet_Type</th>\n",
              "      <th>Item_Outlet_Sales</th>\n",
              "    </tr>\n",
              "  </thead>\n",
              "  <tbody>\n",
              "    <tr>\n",
              "      <th>count</th>\n",
              "      <td>8523</td>\n",
              "      <td>7060.000000</td>\n",
              "      <td>8523</td>\n",
              "      <td>8523.000000</td>\n",
              "      <td>8523</td>\n",
              "      <td>8523.000000</td>\n",
              "      <td>8523</td>\n",
              "      <td>8523.000000</td>\n",
              "      <td>6113</td>\n",
              "      <td>8523</td>\n",
              "      <td>8523</td>\n",
              "      <td>8523.000000</td>\n",
              "    </tr>\n",
              "    <tr>\n",
              "      <th>unique</th>\n",
              "      <td>1559</td>\n",
              "      <td>NaN</td>\n",
              "      <td>5</td>\n",
              "      <td>NaN</td>\n",
              "      <td>16</td>\n",
              "      <td>NaN</td>\n",
              "      <td>10</td>\n",
              "      <td>NaN</td>\n",
              "      <td>3</td>\n",
              "      <td>3</td>\n",
              "      <td>4</td>\n",
              "      <td>NaN</td>\n",
              "    </tr>\n",
              "    <tr>\n",
              "      <th>top</th>\n",
              "      <td>FDW13</td>\n",
              "      <td>NaN</td>\n",
              "      <td>Low Fat</td>\n",
              "      <td>NaN</td>\n",
              "      <td>Fruits and Vegetables</td>\n",
              "      <td>NaN</td>\n",
              "      <td>OUT027</td>\n",
              "      <td>NaN</td>\n",
              "      <td>Medium</td>\n",
              "      <td>Tier 3</td>\n",
              "      <td>Supermarket Type1</td>\n",
              "      <td>NaN</td>\n",
              "    </tr>\n",
              "    <tr>\n",
              "      <th>freq</th>\n",
              "      <td>10</td>\n",
              "      <td>NaN</td>\n",
              "      <td>5089</td>\n",
              "      <td>NaN</td>\n",
              "      <td>1232</td>\n",
              "      <td>NaN</td>\n",
              "      <td>935</td>\n",
              "      <td>NaN</td>\n",
              "      <td>2793</td>\n",
              "      <td>3350</td>\n",
              "      <td>5577</td>\n",
              "      <td>NaN</td>\n",
              "    </tr>\n",
              "    <tr>\n",
              "      <th>mean</th>\n",
              "      <td>NaN</td>\n",
              "      <td>12.857645</td>\n",
              "      <td>NaN</td>\n",
              "      <td>0.066132</td>\n",
              "      <td>NaN</td>\n",
              "      <td>140.992782</td>\n",
              "      <td>NaN</td>\n",
              "      <td>1997.831867</td>\n",
              "      <td>NaN</td>\n",
              "      <td>NaN</td>\n",
              "      <td>NaN</td>\n",
              "      <td>2181.288914</td>\n",
              "    </tr>\n",
              "    <tr>\n",
              "      <th>std</th>\n",
              "      <td>NaN</td>\n",
              "      <td>4.643456</td>\n",
              "      <td>NaN</td>\n",
              "      <td>0.051598</td>\n",
              "      <td>NaN</td>\n",
              "      <td>62.275067</td>\n",
              "      <td>NaN</td>\n",
              "      <td>8.371760</td>\n",
              "      <td>NaN</td>\n",
              "      <td>NaN</td>\n",
              "      <td>NaN</td>\n",
              "      <td>1706.499616</td>\n",
              "    </tr>\n",
              "    <tr>\n",
              "      <th>min</th>\n",
              "      <td>NaN</td>\n",
              "      <td>4.555000</td>\n",
              "      <td>NaN</td>\n",
              "      <td>0.000000</td>\n",
              "      <td>NaN</td>\n",
              "      <td>31.290000</td>\n",
              "      <td>NaN</td>\n",
              "      <td>1985.000000</td>\n",
              "      <td>NaN</td>\n",
              "      <td>NaN</td>\n",
              "      <td>NaN</td>\n",
              "      <td>33.290000</td>\n",
              "    </tr>\n",
              "    <tr>\n",
              "      <th>25%</th>\n",
              "      <td>NaN</td>\n",
              "      <td>8.773750</td>\n",
              "      <td>NaN</td>\n",
              "      <td>0.026989</td>\n",
              "      <td>NaN</td>\n",
              "      <td>93.826500</td>\n",
              "      <td>NaN</td>\n",
              "      <td>1987.000000</td>\n",
              "      <td>NaN</td>\n",
              "      <td>NaN</td>\n",
              "      <td>NaN</td>\n",
              "      <td>834.247400</td>\n",
              "    </tr>\n",
              "    <tr>\n",
              "      <th>50%</th>\n",
              "      <td>NaN</td>\n",
              "      <td>12.600000</td>\n",
              "      <td>NaN</td>\n",
              "      <td>0.053931</td>\n",
              "      <td>NaN</td>\n",
              "      <td>143.012800</td>\n",
              "      <td>NaN</td>\n",
              "      <td>1999.000000</td>\n",
              "      <td>NaN</td>\n",
              "      <td>NaN</td>\n",
              "      <td>NaN</td>\n",
              "      <td>1794.331000</td>\n",
              "    </tr>\n",
              "    <tr>\n",
              "      <th>75%</th>\n",
              "      <td>NaN</td>\n",
              "      <td>16.850000</td>\n",
              "      <td>NaN</td>\n",
              "      <td>0.094585</td>\n",
              "      <td>NaN</td>\n",
              "      <td>185.643700</td>\n",
              "      <td>NaN</td>\n",
              "      <td>2004.000000</td>\n",
              "      <td>NaN</td>\n",
              "      <td>NaN</td>\n",
              "      <td>NaN</td>\n",
              "      <td>3101.296400</td>\n",
              "    </tr>\n",
              "    <tr>\n",
              "      <th>max</th>\n",
              "      <td>NaN</td>\n",
              "      <td>21.350000</td>\n",
              "      <td>NaN</td>\n",
              "      <td>0.328391</td>\n",
              "      <td>NaN</td>\n",
              "      <td>266.888400</td>\n",
              "      <td>NaN</td>\n",
              "      <td>2009.000000</td>\n",
              "      <td>NaN</td>\n",
              "      <td>NaN</td>\n",
              "      <td>NaN</td>\n",
              "      <td>13086.964800</td>\n",
              "    </tr>\n",
              "  </tbody>\n",
              "</table>\n",
              "</div>\n",
              "      <button class=\"colab-df-convert\" onclick=\"convertToInteractive('df-408ac886-9062-4f68-81a1-3f48931c4748')\"\n",
              "              title=\"Convert this dataframe to an interactive table.\"\n",
              "              style=\"display:none;\">\n",
              "        \n",
              "  <svg xmlns=\"http://www.w3.org/2000/svg\" height=\"24px\"viewBox=\"0 0 24 24\"\n",
              "       width=\"24px\">\n",
              "    <path d=\"M0 0h24v24H0V0z\" fill=\"none\"/>\n",
              "    <path d=\"M18.56 5.44l.94 2.06.94-2.06 2.06-.94-2.06-.94-.94-2.06-.94 2.06-2.06.94zm-11 1L8.5 8.5l.94-2.06 2.06-.94-2.06-.94L8.5 2.5l-.94 2.06-2.06.94zm10 10l.94 2.06.94-2.06 2.06-.94-2.06-.94-.94-2.06-.94 2.06-2.06.94z\"/><path d=\"M17.41 7.96l-1.37-1.37c-.4-.4-.92-.59-1.43-.59-.52 0-1.04.2-1.43.59L10.3 9.45l-7.72 7.72c-.78.78-.78 2.05 0 2.83L4 21.41c.39.39.9.59 1.41.59.51 0 1.02-.2 1.41-.59l7.78-7.78 2.81-2.81c.8-.78.8-2.07 0-2.86zM5.41 20L4 18.59l7.72-7.72 1.47 1.35L5.41 20z\"/>\n",
              "  </svg>\n",
              "      </button>\n",
              "      \n",
              "  <style>\n",
              "    .colab-df-container {\n",
              "      display:flex;\n",
              "      flex-wrap:wrap;\n",
              "      gap: 12px;\n",
              "    }\n",
              "\n",
              "    .colab-df-convert {\n",
              "      background-color: #E8F0FE;\n",
              "      border: none;\n",
              "      border-radius: 50%;\n",
              "      cursor: pointer;\n",
              "      display: none;\n",
              "      fill: #1967D2;\n",
              "      height: 32px;\n",
              "      padding: 0 0 0 0;\n",
              "      width: 32px;\n",
              "    }\n",
              "\n",
              "    .colab-df-convert:hover {\n",
              "      background-color: #E2EBFA;\n",
              "      box-shadow: 0px 1px 2px rgba(60, 64, 67, 0.3), 0px 1px 3px 1px rgba(60, 64, 67, 0.15);\n",
              "      fill: #174EA6;\n",
              "    }\n",
              "\n",
              "    [theme=dark] .colab-df-convert {\n",
              "      background-color: #3B4455;\n",
              "      fill: #D2E3FC;\n",
              "    }\n",
              "\n",
              "    [theme=dark] .colab-df-convert:hover {\n",
              "      background-color: #434B5C;\n",
              "      box-shadow: 0px 1px 3px 1px rgba(0, 0, 0, 0.15);\n",
              "      filter: drop-shadow(0px 1px 2px rgba(0, 0, 0, 0.3));\n",
              "      fill: #FFFFFF;\n",
              "    }\n",
              "  </style>\n",
              "\n",
              "      <script>\n",
              "        const buttonEl =\n",
              "          document.querySelector('#df-408ac886-9062-4f68-81a1-3f48931c4748 button.colab-df-convert');\n",
              "        buttonEl.style.display =\n",
              "          google.colab.kernel.accessAllowed ? 'block' : 'none';\n",
              "\n",
              "        async function convertToInteractive(key) {\n",
              "          const element = document.querySelector('#df-408ac886-9062-4f68-81a1-3f48931c4748');\n",
              "          const dataTable =\n",
              "            await google.colab.kernel.invokeFunction('convertToInteractive',\n",
              "                                                     [key], {});\n",
              "          if (!dataTable) return;\n",
              "\n",
              "          const docLinkHtml = 'Like what you see? Visit the ' +\n",
              "            '<a target=\"_blank\" href=https://colab.research.google.com/notebooks/data_table.ipynb>data table notebook</a>'\n",
              "            + ' to learn more about interactive tables.';\n",
              "          element.innerHTML = '';\n",
              "          dataTable['output_type'] = 'display_data';\n",
              "          await google.colab.output.renderOutput(dataTable, element);\n",
              "          const docLink = document.createElement('div');\n",
              "          docLink.innerHTML = docLinkHtml;\n",
              "          element.appendChild(docLink);\n",
              "        }\n",
              "      </script>\n",
              "    </div>\n",
              "  </div>\n",
              "  "
            ]
          },
          "metadata": {},
          "execution_count": 37
        }
      ]
    },
    {
      "cell_type": "markdown",
      "source": [
        "##Identify Category types"
      ],
      "metadata": {
        "id": "ztd2_ZgDl3lC"
      }
    },
    {
      "cell_type": "code",
      "source": [
        "# select only object columns\n",
        "display(df.dtypes)\n",
        "print('\\n')\n",
        "categoricals = eda_ml.select_dtypes(include='object')\n",
        "\n",
        "for col in categoricals.columns:\n",
        "  print(col)\n",
        "  print(categoricals[col].value_counts(), '\\n')"
      ],
      "metadata": {
        "colab": {
          "base_uri": "https://localhost:8080/",
          "height": 1000
        },
        "id": "R5I441kclqnp",
        "outputId": "d41b7f88-9f4a-4b7a-fbb7-061e01a9061e"
      },
      "execution_count": 47,
      "outputs": [
        {
          "output_type": "display_data",
          "data": {
            "text/plain": [
              "Item_Identifier               object\n",
              "Item_Weight                  float64\n",
              "Item_Fat_Content              object\n",
              "Item_Visibility              float64\n",
              "Item_Type                     object\n",
              "Item_MRP                     float64\n",
              "Outlet_Identifier             object\n",
              "Outlet_Establishment_Year      int64\n",
              "Outlet_Size                   object\n",
              "Outlet_Location_Type          object\n",
              "Outlet_Type                   object\n",
              "Item_Outlet_Sales            float64\n",
              "dtype: object"
            ]
          },
          "metadata": {}
        },
        {
          "output_type": "stream",
          "name": "stdout",
          "text": [
            "\n",
            "\n",
            "Item_Identifier\n",
            "FDW13    10\n",
            "FDG33    10\n",
            "NCY18     9\n",
            "FDD38     9\n",
            "DRE49     9\n",
            "         ..\n",
            "FDY43     1\n",
            "FDQ60     1\n",
            "FDO33     1\n",
            "DRF48     1\n",
            "FDC23     1\n",
            "Name: Item_Identifier, Length: 1559, dtype: int64 \n",
            "\n",
            "Item_Fat_Content\n",
            "Low Fat    5517\n",
            "Regular    3006\n",
            "Name: Item_Fat_Content, dtype: int64 \n",
            "\n",
            "Item_Type\n",
            "Fruits and Vegetables    1232\n",
            "Snack Foods              1200\n",
            "Household                 910\n",
            "Frozen Foods              856\n",
            "Dairy                     682\n",
            "Canned                    649\n",
            "Baking Goods              648\n",
            "Health and Hygiene        520\n",
            "Soft Drinks               445\n",
            "Meat                      425\n",
            "Breads                    251\n",
            "Hard Drinks               214\n",
            "Others                    169\n",
            "Starchy Foods             148\n",
            "Breakfast                 110\n",
            "Seafood                    64\n",
            "Name: Item_Type, dtype: int64 \n",
            "\n",
            "Outlet_Identifier\n",
            "OUT027    935\n",
            "OUT013    932\n",
            "OUT049    930\n",
            "OUT046    930\n",
            "OUT035    930\n",
            "OUT045    929\n",
            "OUT018    928\n",
            "OUT017    926\n",
            "OUT010    555\n",
            "OUT019    528\n",
            "Name: Outlet_Identifier, dtype: int64 \n",
            "\n",
            "Outlet_Size\n",
            "Medium    2793\n",
            "Small     2388\n",
            "High       932\n",
            "Name: Outlet_Size, dtype: int64 \n",
            "\n",
            "Outlet_Location_Type\n",
            "Tier 3    3350\n",
            "Tier 2    2785\n",
            "Tier 1    2388\n",
            "Name: Outlet_Location_Type, dtype: int64 \n",
            "\n",
            "Outlet_Type\n",
            "Supermarket Type1    5577\n",
            "Grocery Store        1083\n",
            "Supermarket Type3     935\n",
            "Supermarket Type2     928\n",
            "Name: Outlet_Type, dtype: int64 \n",
            "\n"
          ]
        }
      ]
    },
    {
      "cell_type": "markdown",
      "source": [
        "By splitting our data into Numerical, Categorical-Ordinal, and Categorical-Nominal, we can see what types of encoders we will use in our pipeline.\n",
        "\n",
        "Numerical -\n",
        "```\n",
        "Item_Weight                  float64\n",
        "Item_Visibility              float64\n",
        "Item_MRP                     float64\n",
        "Outlet_Establishment_Year      int64\n",
        "Item_Outlet_Sales            float64\n",
        "```\n",
        "\n",
        "Ordinal -\n",
        "```\n",
        "Item_Fat_Content              object\n",
        "Outlet_Size                   object\n",
        "```\n",
        "\n",
        "Nominal - \n",
        "```\n",
        "Item_Identifier               object\n",
        "Item_Type                     object\n",
        "Outlet_Identifier             object\n",
        "Outlet_Location_Type          object\n",
        "Outlet_Type                   object\n",
        "```"
      ],
      "metadata": {
        "id": "HCzI1p-7pLyh"
      }
    },
    {
      "cell_type": "markdown",
      "source": [
        "###Inconsistent Values"
      ],
      "metadata": {
        "id": "OEwJWWXroIGU"
      }
    },
    {
      "cell_type": "markdown",
      "source": [
        "We see some inconsistencies with the `Item_Fat_content` data.  Replace values."
      ],
      "metadata": {
        "id": "jpfaRUBHnrRr"
      }
    },
    {
      "cell_type": "code",
      "source": [
        "eda_ml.replace(to_replace=['LF', 'low fat'], value='Low Fat', inplace=True)\n",
        "eda_ml.replace('reg','Regular', inplace=True)\n",
        "eda_ml['Item_Fat_Content'].value_counts()"
      ],
      "metadata": {
        "colab": {
          "base_uri": "https://localhost:8080/"
        },
        "id": "XbPZgLGTmM1G",
        "outputId": "c5f7dc83-530f-4b13-c2d2-a949f0e7b7f7"
      },
      "execution_count": 41,
      "outputs": [
        {
          "output_type": "execute_result",
          "data": {
            "text/plain": [
              "Low Fat    5517\n",
              "Regular    3006\n",
              "Name: Item_Fat_Content, dtype: int64"
            ]
          },
          "metadata": {},
          "execution_count": 41
        }
      ]
    },
    {
      "cell_type": "markdown",
      "source": [
        "##Train, Test, Split"
      ],
      "metadata": {
        "id": "3ONfU_8Zox5e"
      }
    },
    {
      "cell_type": "code",
      "source": [
        "#Split the X, y data\n",
        "X = eda_ml.drop(columns=\"Item_Outlet_Sales\").copy()\n",
        "y = eda_ml['Item_Outlet_Sales'].copy()\n",
        "\n",
        "# split training and test\n",
        "# set random_state to 42 for reproducibility\n",
        "X_train, X_test, y_train, y_test = train_test_split(X, y, test_size=.30 , random_state=42)"
      ],
      "metadata": {
        "id": "ssQvm10uo_gj"
      },
      "execution_count": 49,
      "outputs": []
    },
    {
      "cell_type": "markdown",
      "source": [
        "##Instantiate Encoders"
      ],
      "metadata": {
        "id": "cRy4lacnsG-M"
      }
    },
    {
      "cell_type": "code",
      "source": [
        "#instantiate the StandardScaler, OneHotEncoder, OrdinalEncoder and Imputers\n",
        "scaler = StandardScaler()\n",
        "ohe = OneHotEncoder(sparse=False, handle_unknown='ignore')\n",
        "\n",
        "mean_imputer = SimpleImputer(strategy='mean')\n",
        "freq_imputer = SimpleImputer(strategy='most_frequent')\n",
        "\n",
        "#For missing values with nominal data, replace with 'UNK'\n",
        "missing_imputer = SimpleImputer(strategy='constant', fill_value='UNK')"
      ],
      "metadata": {
        "id": "E8dGAoYQqU1v"
      },
      "execution_count": 58,
      "outputs": []
    },
    {
      "cell_type": "markdown",
      "source": [
        "###Ordinal Encoder\n",
        "Our ordinal entries need to be encoded to capture the realtive values in a non-language based style.  I.e. convert to a numeric system.\n",
        "\n",
        "- `Item_fat_Content` - `Low:0`, `Regular:1`\n",
        "- `Item_Outlet_Size` - `Small:0`, `Medium:1`, `High:2`"
      ],
      "metadata": {
        "id": "jRt-646gsT2e"
      }
    },
    {
      "cell_type": "code",
      "source": [
        "#create a list of ordinal labels, in order of least to most\n",
        "\n",
        "ifc_labels = ['Low Fat', 'Regular']\n",
        "os_labels = ['Small', 'Medium', 'High']\n",
        "\n",
        "#combine the ordered list in the order that the columns appear\n",
        "ordered_labels = [ifc_labels, os_labels]\n",
        "\n",
        "#handle_unknown is 'error' by default.  That's a good place to start\n",
        "#but it may cause problems in a production model.  \n",
        "ordinal = OrdinalEncoder(categories = ordered_labels)"
      ],
      "metadata": {
        "id": "R6vKuERpsTAC"
      },
      "execution_count": 53,
      "outputs": []
    },
    {
      "cell_type": "markdown",
      "source": [
        "##Instantiate Pipelines"
      ],
      "metadata": {
        "id": "2h0MTz3mtxjU"
      }
    },
    {
      "cell_type": "code",
      "source": [
        "# Setup the pipelines for the numeric and categorical data\n",
        "#numerical values replaced by mean\n",
        "num_pipeline = make_pipeline(mean_imputer, scaler)\n",
        "#ordinal values replaced by most frequently used\n",
        "ord_pipeline = make_pipeline(freq_imputer, ordinal)\n",
        "#nominal values \n",
        "nom_pipeline = make_pipeline(missing_imputer, ohe)"
      ],
      "metadata": {
        "id": "opPwW9vItxNz"
      },
      "execution_count": 59,
      "outputs": []
    },
    {
      "cell_type": "markdown",
      "source": [
        "##Pair Pipelines with Data"
      ],
      "metadata": {
        "id": "HpISH55yt9wp"
      }
    },
    {
      "cell_type": "code",
      "source": [
        "# Create column lists for objects and a number selector\n",
        "ordinal_cols = ['Item_Fat_Content', 'Outlet_Size']\n",
        "nominal_cols = ['Item_Identifier',\n",
        "                'Item_Type',\n",
        "                'Outlet_Identifier',\n",
        "                'Outlet_Location_Type',\n",
        "                'Outlet_Type']\n",
        "\n",
        "num_selector = make_column_selector(dtype_include='number')\n",
        "\n",
        "# Setup the tuples to pair the processors with the make column selectors\n",
        "numeric_tuple = (num_pipeline, num_selector)\n",
        "ordinal_tuple = (ord_pipeline, ordinal_cols)\n",
        "nominal_tuple = (nom_pipeline, nominal_cols)"
      ],
      "metadata": {
        "id": "HzAR2lk5uEsk"
      },
      "execution_count": 60,
      "outputs": []
    },
    {
      "cell_type": "markdown",
      "source": [
        "##Create Column Transformer to handle pipelines"
      ],
      "metadata": {
        "id": "bs9kSl0qvG6E"
      }
    },
    {
      "cell_type": "code",
      "source": [
        "# Instantiate the make column transformer\n",
        "preprocessor = make_column_transformer(ordinal_tuple, \n",
        "                                          numeric_tuple, \n",
        "                                          nominal_tuple, \n",
        "                                          remainder='drop')"
      ],
      "metadata": {
        "id": "HtlXHs8-vEbA"
      },
      "execution_count": 61,
      "outputs": []
    },
    {
      "cell_type": "markdown",
      "source": [
        "##Fit the Column Transformer to the Training Data"
      ],
      "metadata": {
        "id": "VsxMq7TLvOEZ"
      }
    },
    {
      "cell_type": "code",
      "source": [
        "# Fit the column transformer on the X_train\n",
        "preprocessor.fit(X_train)"
      ],
      "metadata": {
        "colab": {
          "base_uri": "https://localhost:8080/",
          "height": 153
        },
        "id": "YTz-cCaFvTLD",
        "outputId": "711dda24-64ce-4e39-e503-d58c4301b2d2"
      },
      "execution_count": 62,
      "outputs": [
        {
          "output_type": "execute_result",
          "data": {
            "text/plain": [
              "ColumnTransformer(transformers=[('pipeline-1',\n",
              "                                 Pipeline(steps=[('simpleimputer',\n",
              "                                                  SimpleImputer(strategy='most_frequent')),\n",
              "                                                 ('ordinalencoder',\n",
              "                                                  OrdinalEncoder(categories=[['Low '\n",
              "                                                                              'Fat',\n",
              "                                                                              'Regular'],\n",
              "                                                                             ['Small',\n",
              "                                                                              'Medium',\n",
              "                                                                              'High']]))]),\n",
              "                                 ['Item_Fat_Content', 'Outlet_Size']),\n",
              "                                ('pipeline-2',\n",
              "                                 Pipeline(steps=[('simpleimputer',\n",
              "                                                  SimpleImputer()),\n",
              "                                                 ('standardscaler',\n",
              "                                                  StandardScaler())]),\n",
              "                                 <sklearn.compose._column_transformer.make_column_selector object at 0x7faf4df1ac70>),\n",
              "                                ('pipeline-3',\n",
              "                                 Pipeline(steps=[('simpleimputer',\n",
              "                                                  SimpleImputer(fill_value='UNK',\n",
              "                                                                strategy='constant')),\n",
              "                                                 ('onehotencoder',\n",
              "                                                  OneHotEncoder(handle_unknown='ignore',\n",
              "                                                                sparse=False))]),\n",
              "                                 ['Item_Identifier', 'Item_Type',\n",
              "                                  'Outlet_Identifier', 'Outlet_Location_Type',\n",
              "                                  'Outlet_Type'])])"
            ],
            "text/html": [
              "<style>#sk-af099aa6-b442-42da-acb7-ea52353ae0ff {color: black;background-color: white;}#sk-af099aa6-b442-42da-acb7-ea52353ae0ff pre{padding: 0;}#sk-af099aa6-b442-42da-acb7-ea52353ae0ff div.sk-toggleable {background-color: white;}#sk-af099aa6-b442-42da-acb7-ea52353ae0ff label.sk-toggleable__label {cursor: pointer;display: block;width: 100%;margin-bottom: 0;padding: 0.3em;box-sizing: border-box;text-align: center;}#sk-af099aa6-b442-42da-acb7-ea52353ae0ff label.sk-toggleable__label-arrow:before {content: \"▸\";float: left;margin-right: 0.25em;color: #696969;}#sk-af099aa6-b442-42da-acb7-ea52353ae0ff label.sk-toggleable__label-arrow:hover:before {color: black;}#sk-af099aa6-b442-42da-acb7-ea52353ae0ff div.sk-estimator:hover label.sk-toggleable__label-arrow:before {color: black;}#sk-af099aa6-b442-42da-acb7-ea52353ae0ff div.sk-toggleable__content {max-height: 0;max-width: 0;overflow: hidden;text-align: left;background-color: #f0f8ff;}#sk-af099aa6-b442-42da-acb7-ea52353ae0ff div.sk-toggleable__content pre {margin: 0.2em;color: black;border-radius: 0.25em;background-color: #f0f8ff;}#sk-af099aa6-b442-42da-acb7-ea52353ae0ff input.sk-toggleable__control:checked~div.sk-toggleable__content {max-height: 200px;max-width: 100%;overflow: auto;}#sk-af099aa6-b442-42da-acb7-ea52353ae0ff input.sk-toggleable__control:checked~label.sk-toggleable__label-arrow:before {content: \"▾\";}#sk-af099aa6-b442-42da-acb7-ea52353ae0ff div.sk-estimator input.sk-toggleable__control:checked~label.sk-toggleable__label {background-color: #d4ebff;}#sk-af099aa6-b442-42da-acb7-ea52353ae0ff div.sk-label input.sk-toggleable__control:checked~label.sk-toggleable__label {background-color: #d4ebff;}#sk-af099aa6-b442-42da-acb7-ea52353ae0ff input.sk-hidden--visually {border: 0;clip: rect(1px 1px 1px 1px);clip: rect(1px, 1px, 1px, 1px);height: 1px;margin: -1px;overflow: hidden;padding: 0;position: absolute;width: 1px;}#sk-af099aa6-b442-42da-acb7-ea52353ae0ff div.sk-estimator {font-family: monospace;background-color: #f0f8ff;border: 1px dotted black;border-radius: 0.25em;box-sizing: border-box;margin-bottom: 0.5em;}#sk-af099aa6-b442-42da-acb7-ea52353ae0ff div.sk-estimator:hover {background-color: #d4ebff;}#sk-af099aa6-b442-42da-acb7-ea52353ae0ff div.sk-parallel-item::after {content: \"\";width: 100%;border-bottom: 1px solid gray;flex-grow: 1;}#sk-af099aa6-b442-42da-acb7-ea52353ae0ff div.sk-label:hover label.sk-toggleable__label {background-color: #d4ebff;}#sk-af099aa6-b442-42da-acb7-ea52353ae0ff div.sk-serial::before {content: \"\";position: absolute;border-left: 1px solid gray;box-sizing: border-box;top: 2em;bottom: 0;left: 50%;}#sk-af099aa6-b442-42da-acb7-ea52353ae0ff div.sk-serial {display: flex;flex-direction: column;align-items: center;background-color: white;padding-right: 0.2em;padding-left: 0.2em;}#sk-af099aa6-b442-42da-acb7-ea52353ae0ff div.sk-item {z-index: 1;}#sk-af099aa6-b442-42da-acb7-ea52353ae0ff div.sk-parallel {display: flex;align-items: stretch;justify-content: center;background-color: white;}#sk-af099aa6-b442-42da-acb7-ea52353ae0ff div.sk-parallel::before {content: \"\";position: absolute;border-left: 1px solid gray;box-sizing: border-box;top: 2em;bottom: 0;left: 50%;}#sk-af099aa6-b442-42da-acb7-ea52353ae0ff div.sk-parallel-item {display: flex;flex-direction: column;position: relative;background-color: white;}#sk-af099aa6-b442-42da-acb7-ea52353ae0ff div.sk-parallel-item:first-child::after {align-self: flex-end;width: 50%;}#sk-af099aa6-b442-42da-acb7-ea52353ae0ff div.sk-parallel-item:last-child::after {align-self: flex-start;width: 50%;}#sk-af099aa6-b442-42da-acb7-ea52353ae0ff div.sk-parallel-item:only-child::after {width: 0;}#sk-af099aa6-b442-42da-acb7-ea52353ae0ff div.sk-dashed-wrapped {border: 1px dashed gray;margin: 0 0.4em 0.5em 0.4em;box-sizing: border-box;padding-bottom: 0.4em;background-color: white;position: relative;}#sk-af099aa6-b442-42da-acb7-ea52353ae0ff div.sk-label label {font-family: monospace;font-weight: bold;background-color: white;display: inline-block;line-height: 1.2em;}#sk-af099aa6-b442-42da-acb7-ea52353ae0ff div.sk-label-container {position: relative;z-index: 2;text-align: center;}#sk-af099aa6-b442-42da-acb7-ea52353ae0ff div.sk-container {/* jupyter's `normalize.less` sets `[hidden] { display: none; }` but bootstrap.min.css set `[hidden] { display: none !important; }` so we also need the `!important` here to be able to override the default hidden behavior on the sphinx rendered scikit-learn.org. See: https://github.com/scikit-learn/scikit-learn/issues/21755 */display: inline-block !important;position: relative;}#sk-af099aa6-b442-42da-acb7-ea52353ae0ff div.sk-text-repr-fallback {display: none;}</style><div id=\"sk-af099aa6-b442-42da-acb7-ea52353ae0ff\" class=\"sk-top-container\"><div class=\"sk-text-repr-fallback\"><pre>ColumnTransformer(transformers=[(&#x27;pipeline-1&#x27;,\n",
              "                                 Pipeline(steps=[(&#x27;simpleimputer&#x27;,\n",
              "                                                  SimpleImputer(strategy=&#x27;most_frequent&#x27;)),\n",
              "                                                 (&#x27;ordinalencoder&#x27;,\n",
              "                                                  OrdinalEncoder(categories=[[&#x27;Low &#x27;\n",
              "                                                                              &#x27;Fat&#x27;,\n",
              "                                                                              &#x27;Regular&#x27;],\n",
              "                                                                             [&#x27;Small&#x27;,\n",
              "                                                                              &#x27;Medium&#x27;,\n",
              "                                                                              &#x27;High&#x27;]]))]),\n",
              "                                 [&#x27;Item_Fat_Content&#x27;, &#x27;Outlet_Size&#x27;]),\n",
              "                                (&#x27;pipeline-2&#x27;,\n",
              "                                 Pipeline(steps=[(&#x27;simpleimputer&#x27;,\n",
              "                                                  SimpleImputer()),\n",
              "                                                 (&#x27;standardscaler&#x27;,\n",
              "                                                  StandardScaler())]),\n",
              "                                 &lt;sklearn.compose._column_transformer.make_column_selector object at 0x7faf4df1ac70&gt;),\n",
              "                                (&#x27;pipeline-3&#x27;,\n",
              "                                 Pipeline(steps=[(&#x27;simpleimputer&#x27;,\n",
              "                                                  SimpleImputer(fill_value=&#x27;UNK&#x27;,\n",
              "                                                                strategy=&#x27;constant&#x27;)),\n",
              "                                                 (&#x27;onehotencoder&#x27;,\n",
              "                                                  OneHotEncoder(handle_unknown=&#x27;ignore&#x27;,\n",
              "                                                                sparse=False))]),\n",
              "                                 [&#x27;Item_Identifier&#x27;, &#x27;Item_Type&#x27;,\n",
              "                                  &#x27;Outlet_Identifier&#x27;, &#x27;Outlet_Location_Type&#x27;,\n",
              "                                  &#x27;Outlet_Type&#x27;])])</pre><b>Please rerun this cell to show the HTML repr or trust the notebook.</b></div><div class=\"sk-container\" hidden><div class=\"sk-item sk-dashed-wrapped\"><div class=\"sk-label-container\"><div class=\"sk-label sk-toggleable\"><input class=\"sk-toggleable__control sk-hidden--visually\" id=\"b6941aa8-8ea3-40ab-810a-822100e3adbd\" type=\"checkbox\" ><label for=\"b6941aa8-8ea3-40ab-810a-822100e3adbd\" class=\"sk-toggleable__label sk-toggleable__label-arrow\">ColumnTransformer</label><div class=\"sk-toggleable__content\"><pre>ColumnTransformer(transformers=[(&#x27;pipeline-1&#x27;,\n",
              "                                 Pipeline(steps=[(&#x27;simpleimputer&#x27;,\n",
              "                                                  SimpleImputer(strategy=&#x27;most_frequent&#x27;)),\n",
              "                                                 (&#x27;ordinalencoder&#x27;,\n",
              "                                                  OrdinalEncoder(categories=[[&#x27;Low &#x27;\n",
              "                                                                              &#x27;Fat&#x27;,\n",
              "                                                                              &#x27;Regular&#x27;],\n",
              "                                                                             [&#x27;Small&#x27;,\n",
              "                                                                              &#x27;Medium&#x27;,\n",
              "                                                                              &#x27;High&#x27;]]))]),\n",
              "                                 [&#x27;Item_Fat_Content&#x27;, &#x27;Outlet_Size&#x27;]),\n",
              "                                (&#x27;pipeline-2&#x27;,\n",
              "                                 Pipeline(steps=[(&#x27;simpleimputer&#x27;,\n",
              "                                                  SimpleImputer()),\n",
              "                                                 (&#x27;standardscaler&#x27;,\n",
              "                                                  StandardScaler())]),\n",
              "                                 &lt;sklearn.compose._column_transformer.make_column_selector object at 0x7faf4df1ac70&gt;),\n",
              "                                (&#x27;pipeline-3&#x27;,\n",
              "                                 Pipeline(steps=[(&#x27;simpleimputer&#x27;,\n",
              "                                                  SimpleImputer(fill_value=&#x27;UNK&#x27;,\n",
              "                                                                strategy=&#x27;constant&#x27;)),\n",
              "                                                 (&#x27;onehotencoder&#x27;,\n",
              "                                                  OneHotEncoder(handle_unknown=&#x27;ignore&#x27;,\n",
              "                                                                sparse=False))]),\n",
              "                                 [&#x27;Item_Identifier&#x27;, &#x27;Item_Type&#x27;,\n",
              "                                  &#x27;Outlet_Identifier&#x27;, &#x27;Outlet_Location_Type&#x27;,\n",
              "                                  &#x27;Outlet_Type&#x27;])])</pre></div></div></div><div class=\"sk-parallel\"><div class=\"sk-parallel-item\"><div class=\"sk-item\"><div class=\"sk-label-container\"><div class=\"sk-label sk-toggleable\"><input class=\"sk-toggleable__control sk-hidden--visually\" id=\"506f8f82-7f5d-4b64-9939-37e419a981c0\" type=\"checkbox\" ><label for=\"506f8f82-7f5d-4b64-9939-37e419a981c0\" class=\"sk-toggleable__label sk-toggleable__label-arrow\">pipeline-1</label><div class=\"sk-toggleable__content\"><pre>[&#x27;Item_Fat_Content&#x27;, &#x27;Outlet_Size&#x27;]</pre></div></div></div><div class=\"sk-serial\"><div class=\"sk-item\"><div class=\"sk-serial\"><div class=\"sk-item\"><div class=\"sk-estimator sk-toggleable\"><input class=\"sk-toggleable__control sk-hidden--visually\" id=\"b86d1b1a-9d50-45b3-bd34-47ec63a5f68d\" type=\"checkbox\" ><label for=\"b86d1b1a-9d50-45b3-bd34-47ec63a5f68d\" class=\"sk-toggleable__label sk-toggleable__label-arrow\">SimpleImputer</label><div class=\"sk-toggleable__content\"><pre>SimpleImputer(strategy=&#x27;most_frequent&#x27;)</pre></div></div></div><div class=\"sk-item\"><div class=\"sk-estimator sk-toggleable\"><input class=\"sk-toggleable__control sk-hidden--visually\" id=\"36013d9f-5aa6-4fb9-94d6-0810141daf36\" type=\"checkbox\" ><label for=\"36013d9f-5aa6-4fb9-94d6-0810141daf36\" class=\"sk-toggleable__label sk-toggleable__label-arrow\">OrdinalEncoder</label><div class=\"sk-toggleable__content\"><pre>OrdinalEncoder(categories=[[&#x27;Low Fat&#x27;, &#x27;Regular&#x27;], [&#x27;Small&#x27;, &#x27;Medium&#x27;, &#x27;High&#x27;]])</pre></div></div></div></div></div></div></div></div><div class=\"sk-parallel-item\"><div class=\"sk-item\"><div class=\"sk-label-container\"><div class=\"sk-label sk-toggleable\"><input class=\"sk-toggleable__control sk-hidden--visually\" id=\"fec270ab-b69f-4cfe-a0bc-121a0fd5c60d\" type=\"checkbox\" ><label for=\"fec270ab-b69f-4cfe-a0bc-121a0fd5c60d\" class=\"sk-toggleable__label sk-toggleable__label-arrow\">pipeline-2</label><div class=\"sk-toggleable__content\"><pre>&lt;sklearn.compose._column_transformer.make_column_selector object at 0x7faf4df1ac70&gt;</pre></div></div></div><div class=\"sk-serial\"><div class=\"sk-item\"><div class=\"sk-serial\"><div class=\"sk-item\"><div class=\"sk-estimator sk-toggleable\"><input class=\"sk-toggleable__control sk-hidden--visually\" id=\"20ae8378-119c-49b4-8b35-11d1fab82dd5\" type=\"checkbox\" ><label for=\"20ae8378-119c-49b4-8b35-11d1fab82dd5\" class=\"sk-toggleable__label sk-toggleable__label-arrow\">SimpleImputer</label><div class=\"sk-toggleable__content\"><pre>SimpleImputer()</pre></div></div></div><div class=\"sk-item\"><div class=\"sk-estimator sk-toggleable\"><input class=\"sk-toggleable__control sk-hidden--visually\" id=\"8ab602b7-f64a-4381-b88b-05420018d078\" type=\"checkbox\" ><label for=\"8ab602b7-f64a-4381-b88b-05420018d078\" class=\"sk-toggleable__label sk-toggleable__label-arrow\">StandardScaler</label><div class=\"sk-toggleable__content\"><pre>StandardScaler()</pre></div></div></div></div></div></div></div></div><div class=\"sk-parallel-item\"><div class=\"sk-item\"><div class=\"sk-label-container\"><div class=\"sk-label sk-toggleable\"><input class=\"sk-toggleable__control sk-hidden--visually\" id=\"59ed8a17-496b-40fb-8666-de173fb77c18\" type=\"checkbox\" ><label for=\"59ed8a17-496b-40fb-8666-de173fb77c18\" class=\"sk-toggleable__label sk-toggleable__label-arrow\">pipeline-3</label><div class=\"sk-toggleable__content\"><pre>[&#x27;Item_Identifier&#x27;, &#x27;Item_Type&#x27;, &#x27;Outlet_Identifier&#x27;, &#x27;Outlet_Location_Type&#x27;, &#x27;Outlet_Type&#x27;]</pre></div></div></div><div class=\"sk-serial\"><div class=\"sk-item\"><div class=\"sk-serial\"><div class=\"sk-item\"><div class=\"sk-estimator sk-toggleable\"><input class=\"sk-toggleable__control sk-hidden--visually\" id=\"2524d2ae-5199-4e56-a94f-506e8a09ea2f\" type=\"checkbox\" ><label for=\"2524d2ae-5199-4e56-a94f-506e8a09ea2f\" class=\"sk-toggleable__label sk-toggleable__label-arrow\">SimpleImputer</label><div class=\"sk-toggleable__content\"><pre>SimpleImputer(fill_value=&#x27;UNK&#x27;, strategy=&#x27;constant&#x27;)</pre></div></div></div><div class=\"sk-item\"><div class=\"sk-estimator sk-toggleable\"><input class=\"sk-toggleable__control sk-hidden--visually\" id=\"55eda1b2-adce-48b9-81db-a653ea8ab387\" type=\"checkbox\" ><label for=\"55eda1b2-adce-48b9-81db-a653ea8ab387\" class=\"sk-toggleable__label sk-toggleable__label-arrow\">OneHotEncoder</label><div class=\"sk-toggleable__content\"><pre>OneHotEncoder(handle_unknown=&#x27;ignore&#x27;, sparse=False)</pre></div></div></div></div></div></div></div></div></div></div></div></div>"
            ]
          },
          "metadata": {},
          "execution_count": 62
        }
      ]
    },
    {
      "cell_type": "markdown",
      "source": [
        "#Transform Training and Testing Data"
      ],
      "metadata": {
        "id": "HM1CR8b5v5Vr"
      }
    },
    {
      "cell_type": "code",
      "source": [
        "# Transform the X_train and the X_test\n",
        "X_train_transformed = preprocessor.transform(X_train)\n",
        "X_test_transformed = preprocessor.transform(X_test)\n",
        "X_train_transformed.shape"
      ],
      "metadata": {
        "colab": {
          "base_uri": "https://localhost:8080/"
        },
        "id": "65jkk--3v_If",
        "outputId": "274adda2-7284-4041-8782-b8b33c3ebe74"
      },
      "execution_count": 63,
      "outputs": [
        {
          "output_type": "execute_result",
          "data": {
            "text/plain": [
              "(5966, 1582)"
            ]
          },
          "metadata": {},
          "execution_count": 63
        }
      ]
    },
    {
      "cell_type": "code",
      "source": [
        "X_test_transformed.shape"
      ],
      "metadata": {
        "colab": {
          "base_uri": "https://localhost:8080/"
        },
        "id": "4FpZ68n6wCk4",
        "outputId": "66581e34-5465-4bd1-d3da-57da693d632e"
      },
      "execution_count": 64,
      "outputs": [
        {
          "output_type": "execute_result",
          "data": {
            "text/plain": [
              "(2557, 1582)"
            ]
          },
          "metadata": {},
          "execution_count": 64
        }
      ]
    },
    {
      "cell_type": "code",
      "source": [
        "X_train_transformed[:5]"
      ],
      "metadata": {
        "colab": {
          "base_uri": "https://localhost:8080/"
        },
        "id": "mE_HVAvwwLiV",
        "outputId": "ffa938bd-53d4-4ed8-8e39-69386c5d7366"
      },
      "execution_count": 65,
      "outputs": [
        {
          "output_type": "execute_result",
          "data": {
            "text/plain": [
              "array([[ 1.        ,  1.        , -1.23795688, ...,  0.        ,\n",
              "         0.        ,  0.        ],\n",
              "       [ 0.        ,  0.        ,  1.61657069, ...,  1.        ,\n",
              "         0.        ,  0.        ],\n",
              "       [ 1.        ,  1.        ,  0.        , ...,  0.        ,\n",
              "         0.        ,  1.        ],\n",
              "       [ 0.        ,  1.        ,  1.52165706, ...,  1.        ,\n",
              "         0.        ,  0.        ],\n",
              "       [ 1.        ,  2.        ,  1.28437297, ...,  1.        ,\n",
              "         0.        ,  0.        ]])"
            ]
          },
          "metadata": {},
          "execution_count": 65
        }
      ]
    },
    {
      "cell_type": "code",
      "source": [
        "np.isnan(X_train_transformed).sum()"
      ],
      "metadata": {
        "colab": {
          "base_uri": "https://localhost:8080/"
        },
        "id": "JigH5_zuwOq0",
        "outputId": "60770817-d50d-49b7-ecd3-a1770cf55c21"
      },
      "execution_count": 66,
      "outputs": [
        {
          "output_type": "execute_result",
          "data": {
            "text/plain": [
              "0"
            ]
          },
          "metadata": {},
          "execution_count": 66
        }
      ]
    }
  ]
}