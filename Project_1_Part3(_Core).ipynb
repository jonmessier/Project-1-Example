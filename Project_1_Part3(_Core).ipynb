{
  "nbformat": 4,
  "nbformat_minor": 0,
  "metadata": {
    "colab": {
      "provenance": [],
      "toc_visible": true,
      "authorship_tag": "ABX9TyMuqH/BhQvL6sffKPi84mhK",
      "include_colab_link": true
    },
    "kernelspec": {
      "name": "python3",
      "display_name": "Python 3"
    },
    "language_info": {
      "name": "python"
    }
  },
  "cells": [
    {
      "cell_type": "markdown",
      "metadata": {
        "id": "view-in-github",
        "colab_type": "text"
      },
      "source": [
        "<a href=\"https://colab.research.google.com/github/jonmessier/Sales-Predictions/blob/main/Project_1_Part3(_Core).ipynb\" target=\"_parent\"><img src=\"https://colab.research.google.com/assets/colab-badge.svg\" alt=\"Open In Colab\"/></a>"
      ]
    },
    {
      "cell_type": "markdown",
      "source": [
        "#Project 1 - Part 2 (core)\n",
        "Project 1 - Part 2 (core)\\\n",
        "Jon Messier \\\n",
        "11/16/2022 \\\n",
        "\n",
        "[Coding Dojo Learn](https://login.codingdojo.com/m/606/13762/97764)\n",
        "\n",
        "We will continue to work off of the GitHub repository you created last week for your first portfolio project. The goal of your portfolio projects are to have items to show potential employers that demonstrate your data science skills and competencies.\n",
        "\n",
        "The first project will be a sales prediction for food items sold at various stores. The goal of this is to help the retailer understand the properties of products and outlets that play crucial roles in increasing sales.\n",
        "\n",
        "For Part 2, your task is to use Pandas to load in the data and start exploring and cleaning it.  As data scientists, about 80% of our time is spent on data preparation - so this is a very important step!\n",
        "\n",
        "Download the data using this link: [download the data](https://drive.google.com/file/d/1syH81TVrbBsdymLT_jl2JIf6IjPXtSQw/view?usp=sharing).\n",
        "\n",
        "(Note: [Original data source](https://datahack.analyticsvidhya.com/contest/practice-problem-big-mart-sales-iii/)). \\\n",
        " \\\n",
        "\n"
      ],
      "metadata": {
        "id": "nAzxTe0tP08r"
      }
    },
    {
      "cell_type": "markdown",
      "source": [
        "##Data Dictionary \n",
        "<table><tbody><tr><td><strong>Variable Name</strong></td><td><strong>Description</strong></td></tr><tr><td>Item_Identifier</td><td>Unique product ID</td></tr><tr><td>Item_Weight</td><td>Weight of product</td></tr><tr><td>Item_Fat_Content</td><td>Whether the product is low fat or regular</td></tr><tr><td>Item_Visibility</td><td>The percentage of total display area of all products in a store allocated to the particular product</td></tr><tr><td>Item_Type</td><td>The category to which the product belongs</td></tr><tr><td>Item_MRP</td><td>Maximum Retail Price (list price) of the product</td></tr><tr><td>Outlet_Identifier</td><td>Unique store ID</td></tr><tr><td>Outlet_Establishment_Year</td><td>The year in which store was established</td></tr><tr><td>Outlet_Size</td><td>The size of the store in terms of ground area covered</td></tr><tr><td>Outlet_Location_Type</td><td>The type of area in which the store is located</td></tr><tr><td>Outlet_Type</td><td>Whether the outlet is a grocery store or some sort of supermarket</td></tr><tr><td>Item_Outlet_Sales</td><td>Sales of the product in the particular store. This is the target variable to be predicted.\n",
        "<a href=\"https://github.com/ShauryaBhandari/Bigmart-Sales-Prediction#why-does-the-the-problem-need-to-be-solved\" id=\"user-content-why-does-the-the-problem-need-to-be-solved\" class=\"anchor\" aria-hidden=\"true\" target=\"_blank\"></a></td></tr></tbody></table>"
      ],
      "metadata": {
        "id": "1PoZgacxPt3A"
      }
    },
    {
      "cell_type": "markdown",
      "source": [
        "## Imports\n",
        "* Use Pandas to read the sales prediction data set into Google Colab.\n",
        "* Use df.info() and df.head() methods to preview the first rows of your data and a summary of your DataFrame's columns.\n",
        "\n"
      ],
      "metadata": {
        "id": "wYmdkWLcQPRp"
      }
    },
    {
      "cell_type": "code",
      "source": [
        "import pandas as pd\n",
        "import numpy as np\n",
        "import seaborn as sns\n",
        "import matplotlib.pyplot as plt"
      ],
      "metadata": {
        "id": "iDhbeEQFR5ue"
      },
      "execution_count": null,
      "outputs": []
    },
    {
      "cell_type": "code",
      "source": [
        "#df = pd.read_csv('/content/sales_predictions.csv')\n",
        "url = 'https://drive.google.com/uc?id=1syH81TVrbBsdymLT_jl2JIf6IjPXtSQw&export=download'\n",
        "df = pd.read_csv(url)\n",
        "display(df.head())\n",
        "print(df.info())"
      ],
      "metadata": {
        "colab": {
          "base_uri": "https://localhost:8080/",
          "height": 714
        },
        "id": "uvW4j9_cSWkI",
        "outputId": "30c48b81-5c48-4a70-da98-077da575b172"
      },
      "execution_count": null,
      "outputs": [
        {
          "output_type": "display_data",
          "data": {
            "text/plain": [
              "  Item_Identifier  Item_Weight Item_Fat_Content  Item_Visibility  \\\n",
              "0           FDA15         9.30          Low Fat         0.016047   \n",
              "1           DRC01         5.92          Regular         0.019278   \n",
              "2           FDN15        17.50          Low Fat         0.016760   \n",
              "3           FDX07        19.20          Regular         0.000000   \n",
              "4           NCD19         8.93          Low Fat         0.000000   \n",
              "\n",
              "               Item_Type  Item_MRP Outlet_Identifier  \\\n",
              "0                  Dairy  249.8092            OUT049   \n",
              "1            Soft Drinks   48.2692            OUT018   \n",
              "2                   Meat  141.6180            OUT049   \n",
              "3  Fruits and Vegetables  182.0950            OUT010   \n",
              "4              Household   53.8614            OUT013   \n",
              "\n",
              "   Outlet_Establishment_Year Outlet_Size Outlet_Location_Type  \\\n",
              "0                       1999      Medium               Tier 1   \n",
              "1                       2009      Medium               Tier 3   \n",
              "2                       1999      Medium               Tier 1   \n",
              "3                       1998         NaN               Tier 3   \n",
              "4                       1987        High               Tier 3   \n",
              "\n",
              "         Outlet_Type  Item_Outlet_Sales  \n",
              "0  Supermarket Type1          3735.1380  \n",
              "1  Supermarket Type2           443.4228  \n",
              "2  Supermarket Type1          2097.2700  \n",
              "3      Grocery Store           732.3800  \n",
              "4  Supermarket Type1           994.7052  "
            ],
            "text/html": [
              "\n",
              "  <div id=\"df-ec6f9e58-91dc-4703-a914-3659182e0f97\">\n",
              "    <div class=\"colab-df-container\">\n",
              "      <div>\n",
              "<style scoped>\n",
              "    .dataframe tbody tr th:only-of-type {\n",
              "        vertical-align: middle;\n",
              "    }\n",
              "\n",
              "    .dataframe tbody tr th {\n",
              "        vertical-align: top;\n",
              "    }\n",
              "\n",
              "    .dataframe thead th {\n",
              "        text-align: right;\n",
              "    }\n",
              "</style>\n",
              "<table border=\"1\" class=\"dataframe\">\n",
              "  <thead>\n",
              "    <tr style=\"text-align: right;\">\n",
              "      <th></th>\n",
              "      <th>Item_Identifier</th>\n",
              "      <th>Item_Weight</th>\n",
              "      <th>Item_Fat_Content</th>\n",
              "      <th>Item_Visibility</th>\n",
              "      <th>Item_Type</th>\n",
              "      <th>Item_MRP</th>\n",
              "      <th>Outlet_Identifier</th>\n",
              "      <th>Outlet_Establishment_Year</th>\n",
              "      <th>Outlet_Size</th>\n",
              "      <th>Outlet_Location_Type</th>\n",
              "      <th>Outlet_Type</th>\n",
              "      <th>Item_Outlet_Sales</th>\n",
              "    </tr>\n",
              "  </thead>\n",
              "  <tbody>\n",
              "    <tr>\n",
              "      <th>0</th>\n",
              "      <td>FDA15</td>\n",
              "      <td>9.30</td>\n",
              "      <td>Low Fat</td>\n",
              "      <td>0.016047</td>\n",
              "      <td>Dairy</td>\n",
              "      <td>249.8092</td>\n",
              "      <td>OUT049</td>\n",
              "      <td>1999</td>\n",
              "      <td>Medium</td>\n",
              "      <td>Tier 1</td>\n",
              "      <td>Supermarket Type1</td>\n",
              "      <td>3735.1380</td>\n",
              "    </tr>\n",
              "    <tr>\n",
              "      <th>1</th>\n",
              "      <td>DRC01</td>\n",
              "      <td>5.92</td>\n",
              "      <td>Regular</td>\n",
              "      <td>0.019278</td>\n",
              "      <td>Soft Drinks</td>\n",
              "      <td>48.2692</td>\n",
              "      <td>OUT018</td>\n",
              "      <td>2009</td>\n",
              "      <td>Medium</td>\n",
              "      <td>Tier 3</td>\n",
              "      <td>Supermarket Type2</td>\n",
              "      <td>443.4228</td>\n",
              "    </tr>\n",
              "    <tr>\n",
              "      <th>2</th>\n",
              "      <td>FDN15</td>\n",
              "      <td>17.50</td>\n",
              "      <td>Low Fat</td>\n",
              "      <td>0.016760</td>\n",
              "      <td>Meat</td>\n",
              "      <td>141.6180</td>\n",
              "      <td>OUT049</td>\n",
              "      <td>1999</td>\n",
              "      <td>Medium</td>\n",
              "      <td>Tier 1</td>\n",
              "      <td>Supermarket Type1</td>\n",
              "      <td>2097.2700</td>\n",
              "    </tr>\n",
              "    <tr>\n",
              "      <th>3</th>\n",
              "      <td>FDX07</td>\n",
              "      <td>19.20</td>\n",
              "      <td>Regular</td>\n",
              "      <td>0.000000</td>\n",
              "      <td>Fruits and Vegetables</td>\n",
              "      <td>182.0950</td>\n",
              "      <td>OUT010</td>\n",
              "      <td>1998</td>\n",
              "      <td>NaN</td>\n",
              "      <td>Tier 3</td>\n",
              "      <td>Grocery Store</td>\n",
              "      <td>732.3800</td>\n",
              "    </tr>\n",
              "    <tr>\n",
              "      <th>4</th>\n",
              "      <td>NCD19</td>\n",
              "      <td>8.93</td>\n",
              "      <td>Low Fat</td>\n",
              "      <td>0.000000</td>\n",
              "      <td>Household</td>\n",
              "      <td>53.8614</td>\n",
              "      <td>OUT013</td>\n",
              "      <td>1987</td>\n",
              "      <td>High</td>\n",
              "      <td>Tier 3</td>\n",
              "      <td>Supermarket Type1</td>\n",
              "      <td>994.7052</td>\n",
              "    </tr>\n",
              "  </tbody>\n",
              "</table>\n",
              "</div>\n",
              "      <button class=\"colab-df-convert\" onclick=\"convertToInteractive('df-ec6f9e58-91dc-4703-a914-3659182e0f97')\"\n",
              "              title=\"Convert this dataframe to an interactive table.\"\n",
              "              style=\"display:none;\">\n",
              "        \n",
              "  <svg xmlns=\"http://www.w3.org/2000/svg\" height=\"24px\"viewBox=\"0 0 24 24\"\n",
              "       width=\"24px\">\n",
              "    <path d=\"M0 0h24v24H0V0z\" fill=\"none\"/>\n",
              "    <path d=\"M18.56 5.44l.94 2.06.94-2.06 2.06-.94-2.06-.94-.94-2.06-.94 2.06-2.06.94zm-11 1L8.5 8.5l.94-2.06 2.06-.94-2.06-.94L8.5 2.5l-.94 2.06-2.06.94zm10 10l.94 2.06.94-2.06 2.06-.94-2.06-.94-.94-2.06-.94 2.06-2.06.94z\"/><path d=\"M17.41 7.96l-1.37-1.37c-.4-.4-.92-.59-1.43-.59-.52 0-1.04.2-1.43.59L10.3 9.45l-7.72 7.72c-.78.78-.78 2.05 0 2.83L4 21.41c.39.39.9.59 1.41.59.51 0 1.02-.2 1.41-.59l7.78-7.78 2.81-2.81c.8-.78.8-2.07 0-2.86zM5.41 20L4 18.59l7.72-7.72 1.47 1.35L5.41 20z\"/>\n",
              "  </svg>\n",
              "      </button>\n",
              "      \n",
              "  <style>\n",
              "    .colab-df-container {\n",
              "      display:flex;\n",
              "      flex-wrap:wrap;\n",
              "      gap: 12px;\n",
              "    }\n",
              "\n",
              "    .colab-df-convert {\n",
              "      background-color: #E8F0FE;\n",
              "      border: none;\n",
              "      border-radius: 50%;\n",
              "      cursor: pointer;\n",
              "      display: none;\n",
              "      fill: #1967D2;\n",
              "      height: 32px;\n",
              "      padding: 0 0 0 0;\n",
              "      width: 32px;\n",
              "    }\n",
              "\n",
              "    .colab-df-convert:hover {\n",
              "      background-color: #E2EBFA;\n",
              "      box-shadow: 0px 1px 2px rgba(60, 64, 67, 0.3), 0px 1px 3px 1px rgba(60, 64, 67, 0.15);\n",
              "      fill: #174EA6;\n",
              "    }\n",
              "\n",
              "    [theme=dark] .colab-df-convert {\n",
              "      background-color: #3B4455;\n",
              "      fill: #D2E3FC;\n",
              "    }\n",
              "\n",
              "    [theme=dark] .colab-df-convert:hover {\n",
              "      background-color: #434B5C;\n",
              "      box-shadow: 0px 1px 3px 1px rgba(0, 0, 0, 0.15);\n",
              "      filter: drop-shadow(0px 1px 2px rgba(0, 0, 0, 0.3));\n",
              "      fill: #FFFFFF;\n",
              "    }\n",
              "  </style>\n",
              "\n",
              "      <script>\n",
              "        const buttonEl =\n",
              "          document.querySelector('#df-ec6f9e58-91dc-4703-a914-3659182e0f97 button.colab-df-convert');\n",
              "        buttonEl.style.display =\n",
              "          google.colab.kernel.accessAllowed ? 'block' : 'none';\n",
              "\n",
              "        async function convertToInteractive(key) {\n",
              "          const element = document.querySelector('#df-ec6f9e58-91dc-4703-a914-3659182e0f97');\n",
              "          const dataTable =\n",
              "            await google.colab.kernel.invokeFunction('convertToInteractive',\n",
              "                                                     [key], {});\n",
              "          if (!dataTable) return;\n",
              "\n",
              "          const docLinkHtml = 'Like what you see? Visit the ' +\n",
              "            '<a target=\"_blank\" href=https://colab.research.google.com/notebooks/data_table.ipynb>data table notebook</a>'\n",
              "            + ' to learn more about interactive tables.';\n",
              "          element.innerHTML = '';\n",
              "          dataTable['output_type'] = 'display_data';\n",
              "          await google.colab.output.renderOutput(dataTable, element);\n",
              "          const docLink = document.createElement('div');\n",
              "          docLink.innerHTML = docLinkHtml;\n",
              "          element.appendChild(docLink);\n",
              "        }\n",
              "      </script>\n",
              "    </div>\n",
              "  </div>\n",
              "  "
            ]
          },
          "metadata": {}
        },
        {
          "output_type": "stream",
          "name": "stdout",
          "text": [
            "<class 'pandas.core.frame.DataFrame'>\n",
            "RangeIndex: 8523 entries, 0 to 8522\n",
            "Data columns (total 12 columns):\n",
            " #   Column                     Non-Null Count  Dtype  \n",
            "---  ------                     --------------  -----  \n",
            " 0   Item_Identifier            8523 non-null   object \n",
            " 1   Item_Weight                7060 non-null   float64\n",
            " 2   Item_Fat_Content           8523 non-null   object \n",
            " 3   Item_Visibility            8523 non-null   float64\n",
            " 4   Item_Type                  8523 non-null   object \n",
            " 5   Item_MRP                   8523 non-null   float64\n",
            " 6   Outlet_Identifier          8523 non-null   object \n",
            " 7   Outlet_Establishment_Year  8523 non-null   int64  \n",
            " 8   Outlet_Size                6113 non-null   object \n",
            " 9   Outlet_Location_Type       8523 non-null   object \n",
            " 10  Outlet_Type                8523 non-null   object \n",
            " 11  Item_Outlet_Sales          8523 non-null   float64\n",
            "dtypes: float64(4), int64(1), object(7)\n",
            "memory usage: 799.2+ KB\n",
            "None\n"
          ]
        }
      ]
    },
    {
      "cell_type": "markdown",
      "source": [
        "### 1) How many rows and columns?"
      ],
      "metadata": {
        "id": "pQcfDZSwyc22"
      }
    },
    {
      "cell_type": "code",
      "source": [
        "print('(Rows, Columns)')\n",
        "df.shape"
      ],
      "metadata": {
        "colab": {
          "base_uri": "https://localhost:8080/"
        },
        "id": "9eifasnXRrxQ",
        "outputId": "1433a35a-28ed-43f7-a598-3811bd5557f7"
      },
      "execution_count": null,
      "outputs": [
        {
          "output_type": "stream",
          "name": "stdout",
          "text": [
            "(Rows, Columns)\n"
          ]
        },
        {
          "output_type": "execute_result",
          "data": {
            "text/plain": [
              "(8523, 12)"
            ]
          },
          "metadata": {},
          "execution_count": 84
        }
      ]
    },
    {
      "cell_type": "markdown",
      "source": [
        "### 2) What are the datatypes of each variable?"
      ],
      "metadata": {
        "id": "i0zvzVt_uWep"
      }
    },
    {
      "cell_type": "code",
      "source": [
        "print(\"The columns of the the sales prediction file have the following data types\")\n",
        "display(df.dtypes)\n"
      ],
      "metadata": {
        "colab": {
          "base_uri": "https://localhost:8080/",
          "height": 267
        },
        "id": "1LkbHz7iRxTE",
        "outputId": "fdd84cad-f31d-4806-9ec2-387b6c16d963"
      },
      "execution_count": null,
      "outputs": [
        {
          "output_type": "stream",
          "name": "stdout",
          "text": [
            "The columns of the the sales prediction file have the following data types\n"
          ]
        },
        {
          "output_type": "display_data",
          "data": {
            "text/plain": [
              "Item_Identifier               object\n",
              "Item_Weight                  float64\n",
              "Item_Fat_Content              object\n",
              "Item_Visibility              float64\n",
              "Item_Type                     object\n",
              "Item_MRP                     float64\n",
              "Outlet_Identifier             object\n",
              "Outlet_Establishment_Year      int64\n",
              "Outlet_Size                   object\n",
              "Outlet_Location_Type          object\n",
              "Outlet_Type                   object\n",
              "Item_Outlet_Sales            float64\n",
              "dtype: object"
            ]
          },
          "metadata": {}
        }
      ]
    },
    {
      "cell_type": "markdown",
      "source": [
        "##Data Cleaning\n",
        "  * Explore the data - what do you need to do to clean this data? Clean it!\n",
        "  * Be sure to address each of the following tasks:\n"
      ],
      "metadata": {
        "id": "P9IrwNFJQ6tD"
      }
    },
    {
      "cell_type": "markdown",
      "source": [
        "### 3) Are there duplicates? If so, drop any duplicates."
      ],
      "metadata": {
        "id": "IrLgqWnAueKl"
      }
    },
    {
      "cell_type": "code",
      "source": [
        "print(f'Number of duplicates: {df.duplicated().sum()}')"
      ],
      "metadata": {
        "colab": {
          "base_uri": "https://localhost:8080/"
        },
        "id": "ZHl220x-R0iM",
        "outputId": "633e3eff-ddeb-4d17-c6f4-fdf784f8f1fb"
      },
      "execution_count": null,
      "outputs": [
        {
          "output_type": "stream",
          "name": "stdout",
          "text": [
            "Number of duplicates: 0\n"
          ]
        }
      ]
    },
    {
      "cell_type": "code",
      "source": [
        "#If we had duplicates\n",
        "#df.drop_duplicates(inplace=True)"
      ],
      "metadata": {
        "id": "M2jcc3R2X5OX"
      },
      "execution_count": null,
      "outputs": []
    },
    {
      "cell_type": "markdown",
      "source": [
        "### 4) Identify missing values\n",
        "From the df.isna().sum() we can see that there a couple of columns with Null data\n",
        "- 'Item_Weight' has 1463 null entries\n",
        "- 'Outlet_Size' has 2410 null entries"
      ],
      "metadata": {
        "id": "YGzJvnziuinN"
      }
    },
    {
      "cell_type": "code",
      "source": [
        "df.isna().sum()"
      ],
      "metadata": {
        "colab": {
          "base_uri": "https://localhost:8080/"
        },
        "id": "luqnoobCWJ6p",
        "outputId": "cba9a878-7311-4dd1-f597-42809802b9a8"
      },
      "execution_count": null,
      "outputs": [
        {
          "output_type": "execute_result",
          "data": {
            "text/plain": [
              "Item_Identifier                 0\n",
              "Item_Weight                  1463\n",
              "Item_Fat_Content                0\n",
              "Item_Visibility                 0\n",
              "Item_Type                       0\n",
              "Item_MRP                        0\n",
              "Outlet_Identifier               0\n",
              "Outlet_Establishment_Year       0\n",
              "Outlet_Size                  2410\n",
              "Outlet_Location_Type            0\n",
              "Outlet_Type                     0\n",
              "Item_Outlet_Sales               0\n",
              "dtype: int64"
            ]
          },
          "metadata": {},
          "execution_count": 88
        }
      ]
    },
    {
      "cell_type": "markdown",
      "source": [
        "### 5) Address Missing Values\n",
        "Decide on how to address the missing values and do it! (This requires your judgement, so explain your choice)."
      ],
      "metadata": {
        "id": "DHla7F8-jnAc"
      }
    },
    {
      "cell_type": "markdown",
      "source": [
        "### 5.A 'Item_Weight'\n",
        "Begin with a statitistical look at the Item_Weight. This is a numerical column so using a calculated approach to fill the missing data is appropriate.  "
      ],
      "metadata": {
        "id": "oIWJGL5gV_Cm"
      }
    },
    {
      "cell_type": "code",
      "source": [
        "# 5 a) Begin with the statistics on 'Item_Weight'. \n",
        "df.groupby('Item_Type')['Item_Weight'].describe().round(2)"
      ],
      "metadata": {
        "colab": {
          "base_uri": "https://localhost:8080/",
          "height": 583
        },
        "id": "Qg8Y1mkAaFms",
        "outputId": "565cb207-2f8b-4116-9470-d896f2f56d9e"
      },
      "execution_count": null,
      "outputs": [
        {
          "output_type": "execute_result",
          "data": {
            "text/plain": [
              "                        count   mean   std   min    25%    50%    75%    max\n",
              "Item_Type                                                                   \n",
              "Baking Goods            536.0  12.28  4.77  4.88   8.24  11.65  15.75  20.85\n",
              "Breads                  204.0  11.35  4.44  4.64   7.13  10.60  14.85  20.85\n",
              "Breakfast                89.0  12.77  5.04  6.42   8.06  10.70  17.25  21.10\n",
              "Canned                  539.0  12.31  4.59  4.62   8.12  12.15  16.25  21.35\n",
              "Dairy                   566.0  13.43  4.69  4.80   9.28  13.35  17.60  20.70\n",
              "Frozen Foods            718.0  12.87  4.51  4.56   8.94  12.85  17.00  20.85\n",
              "Fruits and Vegetables  1019.0  13.22  4.58  5.46   9.20  13.10  17.10  21.35\n",
              "Hard Drinks             183.0  11.40  4.24  4.61   8.26  10.10  14.85  19.70\n",
              "Health and Hygiene      430.0  13.14  4.51  5.18   9.70  12.15  17.60  21.25\n",
              "Household               759.0  13.38  5.00  5.03   8.70  13.15  18.35  21.25\n",
              "Meat                    337.0  12.82  4.67  5.15   9.30  12.35  17.20  21.25\n",
              "Others                  137.0  13.85  4.23  5.50  10.65  14.50  17.75  20.50\n",
              "Seafood                  51.0  12.55  5.47  5.36   7.42  11.65  17.75  20.75\n",
              "Snack Foods             988.0  12.99  4.53  5.10   9.20  13.15  16.85  21.25\n",
              "Soft Drinks             374.0  11.85  4.40  4.59   8.26  11.80  15.35  20.75\n",
              "Starchy Foods           130.0  13.69  4.01  6.70  11.50  13.18  16.70  21.20"
            ],
            "text/html": [
              "\n",
              "  <div id=\"df-9de10b42-944c-4437-9d5a-d6803a637f17\">\n",
              "    <div class=\"colab-df-container\">\n",
              "      <div>\n",
              "<style scoped>\n",
              "    .dataframe tbody tr th:only-of-type {\n",
              "        vertical-align: middle;\n",
              "    }\n",
              "\n",
              "    .dataframe tbody tr th {\n",
              "        vertical-align: top;\n",
              "    }\n",
              "\n",
              "    .dataframe thead th {\n",
              "        text-align: right;\n",
              "    }\n",
              "</style>\n",
              "<table border=\"1\" class=\"dataframe\">\n",
              "  <thead>\n",
              "    <tr style=\"text-align: right;\">\n",
              "      <th></th>\n",
              "      <th>count</th>\n",
              "      <th>mean</th>\n",
              "      <th>std</th>\n",
              "      <th>min</th>\n",
              "      <th>25%</th>\n",
              "      <th>50%</th>\n",
              "      <th>75%</th>\n",
              "      <th>max</th>\n",
              "    </tr>\n",
              "    <tr>\n",
              "      <th>Item_Type</th>\n",
              "      <th></th>\n",
              "      <th></th>\n",
              "      <th></th>\n",
              "      <th></th>\n",
              "      <th></th>\n",
              "      <th></th>\n",
              "      <th></th>\n",
              "      <th></th>\n",
              "    </tr>\n",
              "  </thead>\n",
              "  <tbody>\n",
              "    <tr>\n",
              "      <th>Baking Goods</th>\n",
              "      <td>536.0</td>\n",
              "      <td>12.28</td>\n",
              "      <td>4.77</td>\n",
              "      <td>4.88</td>\n",
              "      <td>8.24</td>\n",
              "      <td>11.65</td>\n",
              "      <td>15.75</td>\n",
              "      <td>20.85</td>\n",
              "    </tr>\n",
              "    <tr>\n",
              "      <th>Breads</th>\n",
              "      <td>204.0</td>\n",
              "      <td>11.35</td>\n",
              "      <td>4.44</td>\n",
              "      <td>4.64</td>\n",
              "      <td>7.13</td>\n",
              "      <td>10.60</td>\n",
              "      <td>14.85</td>\n",
              "      <td>20.85</td>\n",
              "    </tr>\n",
              "    <tr>\n",
              "      <th>Breakfast</th>\n",
              "      <td>89.0</td>\n",
              "      <td>12.77</td>\n",
              "      <td>5.04</td>\n",
              "      <td>6.42</td>\n",
              "      <td>8.06</td>\n",
              "      <td>10.70</td>\n",
              "      <td>17.25</td>\n",
              "      <td>21.10</td>\n",
              "    </tr>\n",
              "    <tr>\n",
              "      <th>Canned</th>\n",
              "      <td>539.0</td>\n",
              "      <td>12.31</td>\n",
              "      <td>4.59</td>\n",
              "      <td>4.62</td>\n",
              "      <td>8.12</td>\n",
              "      <td>12.15</td>\n",
              "      <td>16.25</td>\n",
              "      <td>21.35</td>\n",
              "    </tr>\n",
              "    <tr>\n",
              "      <th>Dairy</th>\n",
              "      <td>566.0</td>\n",
              "      <td>13.43</td>\n",
              "      <td>4.69</td>\n",
              "      <td>4.80</td>\n",
              "      <td>9.28</td>\n",
              "      <td>13.35</td>\n",
              "      <td>17.60</td>\n",
              "      <td>20.70</td>\n",
              "    </tr>\n",
              "    <tr>\n",
              "      <th>Frozen Foods</th>\n",
              "      <td>718.0</td>\n",
              "      <td>12.87</td>\n",
              "      <td>4.51</td>\n",
              "      <td>4.56</td>\n",
              "      <td>8.94</td>\n",
              "      <td>12.85</td>\n",
              "      <td>17.00</td>\n",
              "      <td>20.85</td>\n",
              "    </tr>\n",
              "    <tr>\n",
              "      <th>Fruits and Vegetables</th>\n",
              "      <td>1019.0</td>\n",
              "      <td>13.22</td>\n",
              "      <td>4.58</td>\n",
              "      <td>5.46</td>\n",
              "      <td>9.20</td>\n",
              "      <td>13.10</td>\n",
              "      <td>17.10</td>\n",
              "      <td>21.35</td>\n",
              "    </tr>\n",
              "    <tr>\n",
              "      <th>Hard Drinks</th>\n",
              "      <td>183.0</td>\n",
              "      <td>11.40</td>\n",
              "      <td>4.24</td>\n",
              "      <td>4.61</td>\n",
              "      <td>8.26</td>\n",
              "      <td>10.10</td>\n",
              "      <td>14.85</td>\n",
              "      <td>19.70</td>\n",
              "    </tr>\n",
              "    <tr>\n",
              "      <th>Health and Hygiene</th>\n",
              "      <td>430.0</td>\n",
              "      <td>13.14</td>\n",
              "      <td>4.51</td>\n",
              "      <td>5.18</td>\n",
              "      <td>9.70</td>\n",
              "      <td>12.15</td>\n",
              "      <td>17.60</td>\n",
              "      <td>21.25</td>\n",
              "    </tr>\n",
              "    <tr>\n",
              "      <th>Household</th>\n",
              "      <td>759.0</td>\n",
              "      <td>13.38</td>\n",
              "      <td>5.00</td>\n",
              "      <td>5.03</td>\n",
              "      <td>8.70</td>\n",
              "      <td>13.15</td>\n",
              "      <td>18.35</td>\n",
              "      <td>21.25</td>\n",
              "    </tr>\n",
              "    <tr>\n",
              "      <th>Meat</th>\n",
              "      <td>337.0</td>\n",
              "      <td>12.82</td>\n",
              "      <td>4.67</td>\n",
              "      <td>5.15</td>\n",
              "      <td>9.30</td>\n",
              "      <td>12.35</td>\n",
              "      <td>17.20</td>\n",
              "      <td>21.25</td>\n",
              "    </tr>\n",
              "    <tr>\n",
              "      <th>Others</th>\n",
              "      <td>137.0</td>\n",
              "      <td>13.85</td>\n",
              "      <td>4.23</td>\n",
              "      <td>5.50</td>\n",
              "      <td>10.65</td>\n",
              "      <td>14.50</td>\n",
              "      <td>17.75</td>\n",
              "      <td>20.50</td>\n",
              "    </tr>\n",
              "    <tr>\n",
              "      <th>Seafood</th>\n",
              "      <td>51.0</td>\n",
              "      <td>12.55</td>\n",
              "      <td>5.47</td>\n",
              "      <td>5.36</td>\n",
              "      <td>7.42</td>\n",
              "      <td>11.65</td>\n",
              "      <td>17.75</td>\n",
              "      <td>20.75</td>\n",
              "    </tr>\n",
              "    <tr>\n",
              "      <th>Snack Foods</th>\n",
              "      <td>988.0</td>\n",
              "      <td>12.99</td>\n",
              "      <td>4.53</td>\n",
              "      <td>5.10</td>\n",
              "      <td>9.20</td>\n",
              "      <td>13.15</td>\n",
              "      <td>16.85</td>\n",
              "      <td>21.25</td>\n",
              "    </tr>\n",
              "    <tr>\n",
              "      <th>Soft Drinks</th>\n",
              "      <td>374.0</td>\n",
              "      <td>11.85</td>\n",
              "      <td>4.40</td>\n",
              "      <td>4.59</td>\n",
              "      <td>8.26</td>\n",
              "      <td>11.80</td>\n",
              "      <td>15.35</td>\n",
              "      <td>20.75</td>\n",
              "    </tr>\n",
              "    <tr>\n",
              "      <th>Starchy Foods</th>\n",
              "      <td>130.0</td>\n",
              "      <td>13.69</td>\n",
              "      <td>4.01</td>\n",
              "      <td>6.70</td>\n",
              "      <td>11.50</td>\n",
              "      <td>13.18</td>\n",
              "      <td>16.70</td>\n",
              "      <td>21.20</td>\n",
              "    </tr>\n",
              "  </tbody>\n",
              "</table>\n",
              "</div>\n",
              "      <button class=\"colab-df-convert\" onclick=\"convertToInteractive('df-9de10b42-944c-4437-9d5a-d6803a637f17')\"\n",
              "              title=\"Convert this dataframe to an interactive table.\"\n",
              "              style=\"display:none;\">\n",
              "        \n",
              "  <svg xmlns=\"http://www.w3.org/2000/svg\" height=\"24px\"viewBox=\"0 0 24 24\"\n",
              "       width=\"24px\">\n",
              "    <path d=\"M0 0h24v24H0V0z\" fill=\"none\"/>\n",
              "    <path d=\"M18.56 5.44l.94 2.06.94-2.06 2.06-.94-2.06-.94-.94-2.06-.94 2.06-2.06.94zm-11 1L8.5 8.5l.94-2.06 2.06-.94-2.06-.94L8.5 2.5l-.94 2.06-2.06.94zm10 10l.94 2.06.94-2.06 2.06-.94-2.06-.94-.94-2.06-.94 2.06-2.06.94z\"/><path d=\"M17.41 7.96l-1.37-1.37c-.4-.4-.92-.59-1.43-.59-.52 0-1.04.2-1.43.59L10.3 9.45l-7.72 7.72c-.78.78-.78 2.05 0 2.83L4 21.41c.39.39.9.59 1.41.59.51 0 1.02-.2 1.41-.59l7.78-7.78 2.81-2.81c.8-.78.8-2.07 0-2.86zM5.41 20L4 18.59l7.72-7.72 1.47 1.35L5.41 20z\"/>\n",
              "  </svg>\n",
              "      </button>\n",
              "      \n",
              "  <style>\n",
              "    .colab-df-container {\n",
              "      display:flex;\n",
              "      flex-wrap:wrap;\n",
              "      gap: 12px;\n",
              "    }\n",
              "\n",
              "    .colab-df-convert {\n",
              "      background-color: #E8F0FE;\n",
              "      border: none;\n",
              "      border-radius: 50%;\n",
              "      cursor: pointer;\n",
              "      display: none;\n",
              "      fill: #1967D2;\n",
              "      height: 32px;\n",
              "      padding: 0 0 0 0;\n",
              "      width: 32px;\n",
              "    }\n",
              "\n",
              "    .colab-df-convert:hover {\n",
              "      background-color: #E2EBFA;\n",
              "      box-shadow: 0px 1px 2px rgba(60, 64, 67, 0.3), 0px 1px 3px 1px rgba(60, 64, 67, 0.15);\n",
              "      fill: #174EA6;\n",
              "    }\n",
              "\n",
              "    [theme=dark] .colab-df-convert {\n",
              "      background-color: #3B4455;\n",
              "      fill: #D2E3FC;\n",
              "    }\n",
              "\n",
              "    [theme=dark] .colab-df-convert:hover {\n",
              "      background-color: #434B5C;\n",
              "      box-shadow: 0px 1px 3px 1px rgba(0, 0, 0, 0.15);\n",
              "      filter: drop-shadow(0px 1px 2px rgba(0, 0, 0, 0.3));\n",
              "      fill: #FFFFFF;\n",
              "    }\n",
              "  </style>\n",
              "\n",
              "      <script>\n",
              "        const buttonEl =\n",
              "          document.querySelector('#df-9de10b42-944c-4437-9d5a-d6803a637f17 button.colab-df-convert');\n",
              "        buttonEl.style.display =\n",
              "          google.colab.kernel.accessAllowed ? 'block' : 'none';\n",
              "\n",
              "        async function convertToInteractive(key) {\n",
              "          const element = document.querySelector('#df-9de10b42-944c-4437-9d5a-d6803a637f17');\n",
              "          const dataTable =\n",
              "            await google.colab.kernel.invokeFunction('convertToInteractive',\n",
              "                                                     [key], {});\n",
              "          if (!dataTable) return;\n",
              "\n",
              "          const docLinkHtml = 'Like what you see? Visit the ' +\n",
              "            '<a target=\"_blank\" href=https://colab.research.google.com/notebooks/data_table.ipynb>data table notebook</a>'\n",
              "            + ' to learn more about interactive tables.';\n",
              "          element.innerHTML = '';\n",
              "          dataTable['output_type'] = 'display_data';\n",
              "          await google.colab.output.renderOutput(dataTable, element);\n",
              "          const docLink = document.createElement('div');\n",
              "          docLink.innerHTML = docLinkHtml;\n",
              "          element.appendChild(docLink);\n",
              "        }\n",
              "      </script>\n",
              "    </div>\n",
              "  </div>\n",
              "  "
            ]
          },
          "metadata": {},
          "execution_count": 89
        }
      ]
    },
    {
      "cell_type": "markdown",
      "source": [
        ">After reviewing the statistics on the Item Weights by Item_Type, I can see that the values have a normal distribution about the mean with min() and max() within 2std.  This looks like a close sample of data, there adding to the mean will have little impact.  Replace missing Item_Weights with the mean() value of the Item_Type weight.  \n"
      ],
      "metadata": {
        "id": "tCZJzyIYZQjq"
      }
    },
    {
      "cell_type": "code",
      "source": [
        "#Replace the NaN weights with the mean\n",
        "df['Item_Weight'].fillna(df['Item_Weight'].mean(),inplace=True)\n",
        "#display the results compared to previous output.  Notice that the mean doesnt change much, but the count goes up to include non-Nan values\n",
        "df.groupby('Item_Type')['Item_Weight'].describe().round(2)"
      ],
      "metadata": {
        "colab": {
          "base_uri": "https://localhost:8080/",
          "height": 583
        },
        "id": "QpdMWZ0Ao0L2",
        "outputId": "91c11893-0595-4fd1-9478-f4fdd82dce1b"
      },
      "execution_count": null,
      "outputs": [
        {
          "output_type": "execute_result",
          "data": {
            "text/plain": [
              "                        count   mean   std   min    25%    50%    75%    max\n",
              "Item_Type                                                                   \n",
              "Baking Goods            648.0  12.38  4.35  4.88   9.10  12.86  15.15  20.85\n",
              "Breads                  251.0  11.63  4.04  4.64   8.00  12.80  14.08  20.85\n",
              "Breakfast               110.0  12.79  4.53  6.42   8.27  12.86  16.50  21.10\n",
              "Canned                  649.0  12.40  4.18  4.62   8.63  12.86  15.70  21.35\n",
              "Dairy                   682.0  13.33  4.27  4.80  10.80  12.86  16.74  20.70\n",
              "Frozen Foods            856.0  12.87  4.13  4.56   9.30  12.86  16.10  20.85\n",
              "Fruits and Vegetables  1232.0  13.16  4.16  5.46  10.17  12.86  16.35  21.35\n",
              "Hard Drinks             214.0  11.61  3.95  4.61   8.37  11.23  14.65  19.70\n",
              "Health and Hygiene      520.0  13.09  4.10  5.18  10.10  12.86  16.60  21.25\n",
              "Household               910.0  13.30  4.57  5.03   9.10  12.86  17.21  21.25\n",
              "Meat                    425.0  12.83  4.16  5.15  10.20  12.86  15.35  21.25\n",
              "Others                  169.0  13.66  3.82  5.50  11.15  12.86  17.35  20.50\n",
              "Seafood                  64.0  12.61  4.88  5.36   7.97  12.73  17.35  20.75\n",
              "Snack Foods            1200.0  12.96  4.11  5.10   9.60  12.86  16.00  21.25\n",
              "Soft Drinks             445.0  12.01  4.05  4.59   8.52  12.86  15.20  20.75\n",
              "Starchy Foods           148.0  13.59  3.77  6.70  12.15  12.86  16.18  21.20"
            ],
            "text/html": [
              "\n",
              "  <div id=\"df-5c62485a-0a28-450c-b289-a3bf225dc590\">\n",
              "    <div class=\"colab-df-container\">\n",
              "      <div>\n",
              "<style scoped>\n",
              "    .dataframe tbody tr th:only-of-type {\n",
              "        vertical-align: middle;\n",
              "    }\n",
              "\n",
              "    .dataframe tbody tr th {\n",
              "        vertical-align: top;\n",
              "    }\n",
              "\n",
              "    .dataframe thead th {\n",
              "        text-align: right;\n",
              "    }\n",
              "</style>\n",
              "<table border=\"1\" class=\"dataframe\">\n",
              "  <thead>\n",
              "    <tr style=\"text-align: right;\">\n",
              "      <th></th>\n",
              "      <th>count</th>\n",
              "      <th>mean</th>\n",
              "      <th>std</th>\n",
              "      <th>min</th>\n",
              "      <th>25%</th>\n",
              "      <th>50%</th>\n",
              "      <th>75%</th>\n",
              "      <th>max</th>\n",
              "    </tr>\n",
              "    <tr>\n",
              "      <th>Item_Type</th>\n",
              "      <th></th>\n",
              "      <th></th>\n",
              "      <th></th>\n",
              "      <th></th>\n",
              "      <th></th>\n",
              "      <th></th>\n",
              "      <th></th>\n",
              "      <th></th>\n",
              "    </tr>\n",
              "  </thead>\n",
              "  <tbody>\n",
              "    <tr>\n",
              "      <th>Baking Goods</th>\n",
              "      <td>648.0</td>\n",
              "      <td>12.38</td>\n",
              "      <td>4.35</td>\n",
              "      <td>4.88</td>\n",
              "      <td>9.10</td>\n",
              "      <td>12.86</td>\n",
              "      <td>15.15</td>\n",
              "      <td>20.85</td>\n",
              "    </tr>\n",
              "    <tr>\n",
              "      <th>Breads</th>\n",
              "      <td>251.0</td>\n",
              "      <td>11.63</td>\n",
              "      <td>4.04</td>\n",
              "      <td>4.64</td>\n",
              "      <td>8.00</td>\n",
              "      <td>12.80</td>\n",
              "      <td>14.08</td>\n",
              "      <td>20.85</td>\n",
              "    </tr>\n",
              "    <tr>\n",
              "      <th>Breakfast</th>\n",
              "      <td>110.0</td>\n",
              "      <td>12.79</td>\n",
              "      <td>4.53</td>\n",
              "      <td>6.42</td>\n",
              "      <td>8.27</td>\n",
              "      <td>12.86</td>\n",
              "      <td>16.50</td>\n",
              "      <td>21.10</td>\n",
              "    </tr>\n",
              "    <tr>\n",
              "      <th>Canned</th>\n",
              "      <td>649.0</td>\n",
              "      <td>12.40</td>\n",
              "      <td>4.18</td>\n",
              "      <td>4.62</td>\n",
              "      <td>8.63</td>\n",
              "      <td>12.86</td>\n",
              "      <td>15.70</td>\n",
              "      <td>21.35</td>\n",
              "    </tr>\n",
              "    <tr>\n",
              "      <th>Dairy</th>\n",
              "      <td>682.0</td>\n",
              "      <td>13.33</td>\n",
              "      <td>4.27</td>\n",
              "      <td>4.80</td>\n",
              "      <td>10.80</td>\n",
              "      <td>12.86</td>\n",
              "      <td>16.74</td>\n",
              "      <td>20.70</td>\n",
              "    </tr>\n",
              "    <tr>\n",
              "      <th>Frozen Foods</th>\n",
              "      <td>856.0</td>\n",
              "      <td>12.87</td>\n",
              "      <td>4.13</td>\n",
              "      <td>4.56</td>\n",
              "      <td>9.30</td>\n",
              "      <td>12.86</td>\n",
              "      <td>16.10</td>\n",
              "      <td>20.85</td>\n",
              "    </tr>\n",
              "    <tr>\n",
              "      <th>Fruits and Vegetables</th>\n",
              "      <td>1232.0</td>\n",
              "      <td>13.16</td>\n",
              "      <td>4.16</td>\n",
              "      <td>5.46</td>\n",
              "      <td>10.17</td>\n",
              "      <td>12.86</td>\n",
              "      <td>16.35</td>\n",
              "      <td>21.35</td>\n",
              "    </tr>\n",
              "    <tr>\n",
              "      <th>Hard Drinks</th>\n",
              "      <td>214.0</td>\n",
              "      <td>11.61</td>\n",
              "      <td>3.95</td>\n",
              "      <td>4.61</td>\n",
              "      <td>8.37</td>\n",
              "      <td>11.23</td>\n",
              "      <td>14.65</td>\n",
              "      <td>19.70</td>\n",
              "    </tr>\n",
              "    <tr>\n",
              "      <th>Health and Hygiene</th>\n",
              "      <td>520.0</td>\n",
              "      <td>13.09</td>\n",
              "      <td>4.10</td>\n",
              "      <td>5.18</td>\n",
              "      <td>10.10</td>\n",
              "      <td>12.86</td>\n",
              "      <td>16.60</td>\n",
              "      <td>21.25</td>\n",
              "    </tr>\n",
              "    <tr>\n",
              "      <th>Household</th>\n",
              "      <td>910.0</td>\n",
              "      <td>13.30</td>\n",
              "      <td>4.57</td>\n",
              "      <td>5.03</td>\n",
              "      <td>9.10</td>\n",
              "      <td>12.86</td>\n",
              "      <td>17.21</td>\n",
              "      <td>21.25</td>\n",
              "    </tr>\n",
              "    <tr>\n",
              "      <th>Meat</th>\n",
              "      <td>425.0</td>\n",
              "      <td>12.83</td>\n",
              "      <td>4.16</td>\n",
              "      <td>5.15</td>\n",
              "      <td>10.20</td>\n",
              "      <td>12.86</td>\n",
              "      <td>15.35</td>\n",
              "      <td>21.25</td>\n",
              "    </tr>\n",
              "    <tr>\n",
              "      <th>Others</th>\n",
              "      <td>169.0</td>\n",
              "      <td>13.66</td>\n",
              "      <td>3.82</td>\n",
              "      <td>5.50</td>\n",
              "      <td>11.15</td>\n",
              "      <td>12.86</td>\n",
              "      <td>17.35</td>\n",
              "      <td>20.50</td>\n",
              "    </tr>\n",
              "    <tr>\n",
              "      <th>Seafood</th>\n",
              "      <td>64.0</td>\n",
              "      <td>12.61</td>\n",
              "      <td>4.88</td>\n",
              "      <td>5.36</td>\n",
              "      <td>7.97</td>\n",
              "      <td>12.73</td>\n",
              "      <td>17.35</td>\n",
              "      <td>20.75</td>\n",
              "    </tr>\n",
              "    <tr>\n",
              "      <th>Snack Foods</th>\n",
              "      <td>1200.0</td>\n",
              "      <td>12.96</td>\n",
              "      <td>4.11</td>\n",
              "      <td>5.10</td>\n",
              "      <td>9.60</td>\n",
              "      <td>12.86</td>\n",
              "      <td>16.00</td>\n",
              "      <td>21.25</td>\n",
              "    </tr>\n",
              "    <tr>\n",
              "      <th>Soft Drinks</th>\n",
              "      <td>445.0</td>\n",
              "      <td>12.01</td>\n",
              "      <td>4.05</td>\n",
              "      <td>4.59</td>\n",
              "      <td>8.52</td>\n",
              "      <td>12.86</td>\n",
              "      <td>15.20</td>\n",
              "      <td>20.75</td>\n",
              "    </tr>\n",
              "    <tr>\n",
              "      <th>Starchy Foods</th>\n",
              "      <td>148.0</td>\n",
              "      <td>13.59</td>\n",
              "      <td>3.77</td>\n",
              "      <td>6.70</td>\n",
              "      <td>12.15</td>\n",
              "      <td>12.86</td>\n",
              "      <td>16.18</td>\n",
              "      <td>21.20</td>\n",
              "    </tr>\n",
              "  </tbody>\n",
              "</table>\n",
              "</div>\n",
              "      <button class=\"colab-df-convert\" onclick=\"convertToInteractive('df-5c62485a-0a28-450c-b289-a3bf225dc590')\"\n",
              "              title=\"Convert this dataframe to an interactive table.\"\n",
              "              style=\"display:none;\">\n",
              "        \n",
              "  <svg xmlns=\"http://www.w3.org/2000/svg\" height=\"24px\"viewBox=\"0 0 24 24\"\n",
              "       width=\"24px\">\n",
              "    <path d=\"M0 0h24v24H0V0z\" fill=\"none\"/>\n",
              "    <path d=\"M18.56 5.44l.94 2.06.94-2.06 2.06-.94-2.06-.94-.94-2.06-.94 2.06-2.06.94zm-11 1L8.5 8.5l.94-2.06 2.06-.94-2.06-.94L8.5 2.5l-.94 2.06-2.06.94zm10 10l.94 2.06.94-2.06 2.06-.94-2.06-.94-.94-2.06-.94 2.06-2.06.94z\"/><path d=\"M17.41 7.96l-1.37-1.37c-.4-.4-.92-.59-1.43-.59-.52 0-1.04.2-1.43.59L10.3 9.45l-7.72 7.72c-.78.78-.78 2.05 0 2.83L4 21.41c.39.39.9.59 1.41.59.51 0 1.02-.2 1.41-.59l7.78-7.78 2.81-2.81c.8-.78.8-2.07 0-2.86zM5.41 20L4 18.59l7.72-7.72 1.47 1.35L5.41 20z\"/>\n",
              "  </svg>\n",
              "      </button>\n",
              "      \n",
              "  <style>\n",
              "    .colab-df-container {\n",
              "      display:flex;\n",
              "      flex-wrap:wrap;\n",
              "      gap: 12px;\n",
              "    }\n",
              "\n",
              "    .colab-df-convert {\n",
              "      background-color: #E8F0FE;\n",
              "      border: none;\n",
              "      border-radius: 50%;\n",
              "      cursor: pointer;\n",
              "      display: none;\n",
              "      fill: #1967D2;\n",
              "      height: 32px;\n",
              "      padding: 0 0 0 0;\n",
              "      width: 32px;\n",
              "    }\n",
              "\n",
              "    .colab-df-convert:hover {\n",
              "      background-color: #E2EBFA;\n",
              "      box-shadow: 0px 1px 2px rgba(60, 64, 67, 0.3), 0px 1px 3px 1px rgba(60, 64, 67, 0.15);\n",
              "      fill: #174EA6;\n",
              "    }\n",
              "\n",
              "    [theme=dark] .colab-df-convert {\n",
              "      background-color: #3B4455;\n",
              "      fill: #D2E3FC;\n",
              "    }\n",
              "\n",
              "    [theme=dark] .colab-df-convert:hover {\n",
              "      background-color: #434B5C;\n",
              "      box-shadow: 0px 1px 3px 1px rgba(0, 0, 0, 0.15);\n",
              "      filter: drop-shadow(0px 1px 2px rgba(0, 0, 0, 0.3));\n",
              "      fill: #FFFFFF;\n",
              "    }\n",
              "  </style>\n",
              "\n",
              "      <script>\n",
              "        const buttonEl =\n",
              "          document.querySelector('#df-5c62485a-0a28-450c-b289-a3bf225dc590 button.colab-df-convert');\n",
              "        buttonEl.style.display =\n",
              "          google.colab.kernel.accessAllowed ? 'block' : 'none';\n",
              "\n",
              "        async function convertToInteractive(key) {\n",
              "          const element = document.querySelector('#df-5c62485a-0a28-450c-b289-a3bf225dc590');\n",
              "          const dataTable =\n",
              "            await google.colab.kernel.invokeFunction('convertToInteractive',\n",
              "                                                     [key], {});\n",
              "          if (!dataTable) return;\n",
              "\n",
              "          const docLinkHtml = 'Like what you see? Visit the ' +\n",
              "            '<a target=\"_blank\" href=https://colab.research.google.com/notebooks/data_table.ipynb>data table notebook</a>'\n",
              "            + ' to learn more about interactive tables.';\n",
              "          element.innerHTML = '';\n",
              "          dataTable['output_type'] = 'display_data';\n",
              "          await google.colab.output.renderOutput(dataTable, element);\n",
              "          const docLink = document.createElement('div');\n",
              "          docLink.innerHTML = docLinkHtml;\n",
              "          element.appendChild(docLink);\n",
              "        }\n",
              "      </script>\n",
              "    </div>\n",
              "  </div>\n",
              "  "
            ]
          },
          "metadata": {},
          "execution_count": 90
        }
      ]
    },
    {
      "cell_type": "markdown",
      "source": [
        ">Comparing the above output to the dataframe containing NaN values you can see a a large increase in the item count and and a small increase mean 'Item_Weight' for all item types.  This makes sense since we are adding many entries where the Item_Weight is mean value of the NaN data set. "
      ],
      "metadata": {
        "id": "bcT7O4ClbsLu"
      }
    },
    {
      "cell_type": "markdown",
      "source": [
        "### 5.B 'Outlet_Size'\n",
        "'Outlet_Size' is a categorical column, so we must impart our wisdom on to the missing values.  Let's look at the list of values and their counts to determine how we fill the empty values"
      ],
      "metadata": {
        "id": "aV6XAiuGelZ8"
      }
    },
    {
      "cell_type": "code",
      "source": [
        "print(df['Outlet_Size'].value_counts())\n",
        "print('Number of NaN Outlet_Size values: ')\n",
        "df['Outlet_Size'].isna().sum()"
      ],
      "metadata": {
        "colab": {
          "base_uri": "https://localhost:8080/"
        },
        "id": "gBpGhA6I0DcQ",
        "outputId": "1f492122-8037-4606-fc5c-aa131c68bd2b"
      },
      "execution_count": null,
      "outputs": [
        {
          "output_type": "stream",
          "name": "stdout",
          "text": [
            "Medium    2793\n",
            "Small     2388\n",
            "High       932\n",
            "Name: Outlet_Size, dtype: int64\n",
            "Number of NaN Outlet_Size values: \n"
          ]
        },
        {
          "output_type": "execute_result",
          "data": {
            "text/plain": [
              "2410"
            ]
          },
          "metadata": {},
          "execution_count": 91
        }
      ]
    },
    {
      "cell_type": "markdown",
      "source": [
        ">There are 2410 missing Outlet size entries.  The distribution of Outlet Size are Medium (53%), small(46%), High(11%). Since we're not really doing anything analytic with this data, and we do not know any context behind the values we're missing we cannot setup a reasonable model for inserting values.  Therefore we will fill the missing values with \"Unkown\"\n"
      ],
      "metadata": {
        "id": "T3C3ranYeuXp"
      }
    },
    {
      "cell_type": "code",
      "source": [
        "df['Outlet_Size'].fillna('Unknown', inplace=True)\n",
        "df['Outlet_Size'].value_counts()"
      ],
      "metadata": {
        "id": "l_3gPWY03RZZ",
        "colab": {
          "base_uri": "https://localhost:8080/"
        },
        "outputId": "a8cb98b7-1bde-4f71-b926-4f59fbba9036"
      },
      "execution_count": null,
      "outputs": [
        {
          "output_type": "execute_result",
          "data": {
            "text/plain": [
              "Medium     2793\n",
              "Unknown    2410\n",
              "Small      2388\n",
              "High        932\n",
              "Name: Outlet_Size, dtype: int64"
            ]
          },
          "metadata": {},
          "execution_count": 92
        }
      ]
    },
    {
      "cell_type": "markdown",
      "source": [
        "### 6) Confirm that there are no missing values after addressing them."
      ],
      "metadata": {
        "id": "uG4SQxQNjtcK"
      }
    },
    {
      "cell_type": "code",
      "source": [
        "df.isna().sum()"
      ],
      "metadata": {
        "colab": {
          "base_uri": "https://localhost:8080/"
        },
        "id": "TBYtbm6nhrxV",
        "outputId": "e29cb934-9635-4637-cfe1-5561ed31dad0"
      },
      "execution_count": null,
      "outputs": [
        {
          "output_type": "execute_result",
          "data": {
            "text/plain": [
              "Item_Identifier              0\n",
              "Item_Weight                  0\n",
              "Item_Fat_Content             0\n",
              "Item_Visibility              0\n",
              "Item_Type                    0\n",
              "Item_MRP                     0\n",
              "Outlet_Identifier            0\n",
              "Outlet_Establishment_Year    0\n",
              "Outlet_Size                  0\n",
              "Outlet_Location_Type         0\n",
              "Outlet_Type                  0\n",
              "Item_Outlet_Sales            0\n",
              "dtype: int64"
            ]
          },
          "metadata": {},
          "execution_count": 93
        }
      ]
    },
    {
      "cell_type": "markdown",
      "source": [
        "### 7) Inconsistent Categories\n",
        "Find and fix any inconsistent categories of data (example: fix cat, Cat, and cats so that they are consistent).\n",
        "- Categorical data is a non-numeric data type : 'object'\n",
        "- Look at the datatypes of all columns.  If there is a column that you think is *numeric* but shows as an *object*, you could try converting it to a numeric type.  this would create an error(s) on non-numeric entries.  You could go back in and update those entries manually."
      ],
      "metadata": {
        "id": "yT-Yl4M2j1-u"
      }
    },
    {
      "cell_type": "code",
      "source": [
        "df.dtypes"
      ],
      "metadata": {
        "colab": {
          "base_uri": "https://localhost:8080/"
        },
        "id": "3-znpnzMhYjO",
        "outputId": "bccaf824-fb3d-4870-8bcc-e2d5d77ff0d9"
      },
      "execution_count": null,
      "outputs": [
        {
          "output_type": "execute_result",
          "data": {
            "text/plain": [
              "Item_Identifier               object\n",
              "Item_Weight                  float64\n",
              "Item_Fat_Content              object\n",
              "Item_Visibility              float64\n",
              "Item_Type                     object\n",
              "Item_MRP                     float64\n",
              "Outlet_Identifier             object\n",
              "Outlet_Establishment_Year      int64\n",
              "Outlet_Size                   object\n",
              "Outlet_Location_Type          object\n",
              "Outlet_Type                   object\n",
              "Item_Outlet_Sales            float64\n",
              "dtype: object"
            ]
          },
          "metadata": {},
          "execution_count": 94
        }
      ]
    },
    {
      "cell_type": "markdown",
      "source": [
        "Create a list of all columns with *object* data type"
      ],
      "metadata": {
        "id": "FojqRkatfb0w"
      }
    },
    {
      "cell_type": "code",
      "source": [
        "data_types = df.dtypes\n",
        "cols = data_types[data_types=='object'].index\n",
        "cols"
      ],
      "metadata": {
        "colab": {
          "base_uri": "https://localhost:8080/"
        },
        "id": "pjt7JQbMevoK",
        "outputId": "d2499407-f028-4a8c-c289-714312da36e7"
      },
      "execution_count": null,
      "outputs": [
        {
          "output_type": "execute_result",
          "data": {
            "text/plain": [
              "Index(['Item_Identifier', 'Item_Fat_Content', 'Item_Type', 'Outlet_Identifier',\n",
              "       'Outlet_Size', 'Outlet_Location_Type', 'Outlet_Type'],\n",
              "      dtype='object')"
            ]
          },
          "metadata": {},
          "execution_count": 95
        }
      ]
    },
    {
      "cell_type": "markdown",
      "source": [
        "Loop through all the columns of data that have an object data type and output the count unique values to see if there are some changes we can/should make.  Use the *df['col].value_counts()* function.  This lets me see if data was entered correctly."
      ],
      "metadata": {
        "id": "aU3WuLWokx8S"
      }
    },
    {
      "cell_type": "code",
      "source": [
        "for name in cols:\n",
        " print(f\"The unique values of the feature {name} are:\\n\")\n",
        " print(df[name].value_counts())\n",
        " print(\"\\n\")"
      ],
      "metadata": {
        "colab": {
          "base_uri": "https://localhost:8080/"
        },
        "id": "o7pV1DwzOcpd",
        "outputId": "c0cc564a-2538-4930-b0c8-500d47cb8237"
      },
      "execution_count": null,
      "outputs": [
        {
          "output_type": "stream",
          "name": "stdout",
          "text": [
            "The unique values of the feature Item_Identifier are:\n",
            "\n",
            "FDW13    10\n",
            "FDG33    10\n",
            "NCY18     9\n",
            "FDD38     9\n",
            "DRE49     9\n",
            "         ..\n",
            "FDY43     1\n",
            "FDQ60     1\n",
            "FDO33     1\n",
            "DRF48     1\n",
            "FDC23     1\n",
            "Name: Item_Identifier, Length: 1559, dtype: int64\n",
            "\n",
            "\n",
            "The unique values of the feature Item_Fat_Content are:\n",
            "\n",
            "Low Fat    5089\n",
            "Regular    2889\n",
            "LF          316\n",
            "reg         117\n",
            "low fat     112\n",
            "Name: Item_Fat_Content, dtype: int64\n",
            "\n",
            "\n",
            "The unique values of the feature Item_Type are:\n",
            "\n",
            "Fruits and Vegetables    1232\n",
            "Snack Foods              1200\n",
            "Household                 910\n",
            "Frozen Foods              856\n",
            "Dairy                     682\n",
            "Canned                    649\n",
            "Baking Goods              648\n",
            "Health and Hygiene        520\n",
            "Soft Drinks               445\n",
            "Meat                      425\n",
            "Breads                    251\n",
            "Hard Drinks               214\n",
            "Others                    169\n",
            "Starchy Foods             148\n",
            "Breakfast                 110\n",
            "Seafood                    64\n",
            "Name: Item_Type, dtype: int64\n",
            "\n",
            "\n",
            "The unique values of the feature Outlet_Identifier are:\n",
            "\n",
            "OUT027    935\n",
            "OUT013    932\n",
            "OUT049    930\n",
            "OUT046    930\n",
            "OUT035    930\n",
            "OUT045    929\n",
            "OUT018    928\n",
            "OUT017    926\n",
            "OUT010    555\n",
            "OUT019    528\n",
            "Name: Outlet_Identifier, dtype: int64\n",
            "\n",
            "\n",
            "The unique values of the feature Outlet_Size are:\n",
            "\n",
            "Medium     2793\n",
            "Unknown    2410\n",
            "Small      2388\n",
            "High        932\n",
            "Name: Outlet_Size, dtype: int64\n",
            "\n",
            "\n",
            "The unique values of the feature Outlet_Location_Type are:\n",
            "\n",
            "Tier 3    3350\n",
            "Tier 2    2785\n",
            "Tier 1    2388\n",
            "Name: Outlet_Location_Type, dtype: int64\n",
            "\n",
            "\n",
            "The unique values of the feature Outlet_Type are:\n",
            "\n",
            "Supermarket Type1    5577\n",
            "Grocery Store        1083\n",
            "Supermarket Type3     935\n",
            "Supermarket Type2     928\n",
            "Name: Outlet_Type, dtype: int64\n",
            "\n",
            "\n"
          ]
        }
      ]
    },
    {
      "cell_type": "markdown",
      "source": [
        "Looks like there is some cleanup needed in the \"Item_Fat_Content\" feature.  We can change the outliers:\n",
        "- **'LF (316)' and 'low fat (112)' --> 'Low Fat (5089)'**\n",
        "- **'reg'(117) --> 'Regular'(2889)** \n",
        "\n",
        "Use *df.replace()* to update these mistyped entries.  Show the updated column unique value counts"
      ],
      "metadata": {
        "id": "LSy5jrOglJ25"
      }
    },
    {
      "cell_type": "code",
      "source": [
        "df.replace(to_replace=['LF', 'low fat'], value='Low Fat', inplace=True)\n",
        "df.replace('reg','Regular', inplace=True)\n",
        "df['Item_Fat_Content'].value_counts()"
      ],
      "metadata": {
        "colab": {
          "base_uri": "https://localhost:8080/"
        },
        "id": "JHUJSkgMnbeu",
        "outputId": "87d27d8b-8b2c-43e5-cf88-2daea878fe20"
      },
      "execution_count": null,
      "outputs": [
        {
          "output_type": "execute_result",
          "data": {
            "text/plain": [
              "Low Fat    5517\n",
              "Regular    3006\n",
              "Name: Item_Fat_Content, dtype: int64"
            ]
          },
          "metadata": {},
          "execution_count": 97
        }
      ]
    },
    {
      "cell_type": "markdown",
      "source": [
        "### 8) Statistics\n",
        "For any numerical columns, obtain the summary statistics of each (min, max, mean). We only want to look at numeric datatypes"
      ],
      "metadata": {
        "id": "eiWw26Hjj5pu"
      }
    },
    {
      "cell_type": "code",
      "source": [
        "types = df.dtypes"
      ],
      "metadata": {
        "id": "704soKcrqK3v"
      },
      "execution_count": null,
      "outputs": []
    },
    {
      "cell_type": "code",
      "source": [
        "df.select_dtypes(include=np.number).describe().round(2)"
      ],
      "metadata": {
        "colab": {
          "base_uri": "https://localhost:8080/",
          "height": 300
        },
        "id": "q6JY-YJHrD3O",
        "outputId": "0b29e438-73bc-437d-9895-2c5893552722"
      },
      "execution_count": null,
      "outputs": [
        {
          "output_type": "execute_result",
          "data": {
            "text/plain": [
              "       Item_Weight  Item_Visibility  Item_MRP  Outlet_Establishment_Year  \\\n",
              "count      8523.00          8523.00   8523.00                    8523.00   \n",
              "mean         12.86             0.07    140.99                    1997.83   \n",
              "std           4.23             0.05     62.28                       8.37   \n",
              "min           4.56             0.00     31.29                    1985.00   \n",
              "25%           9.31             0.03     93.83                    1987.00   \n",
              "50%          12.86             0.05    143.01                    1999.00   \n",
              "75%          16.00             0.09    185.64                    2004.00   \n",
              "max          21.35             0.33    266.89                    2009.00   \n",
              "\n",
              "       Item_Outlet_Sales  \n",
              "count            8523.00  \n",
              "mean             2181.29  \n",
              "std              1706.50  \n",
              "min                33.29  \n",
              "25%               834.25  \n",
              "50%              1794.33  \n",
              "75%              3101.30  \n",
              "max             13086.96  "
            ],
            "text/html": [
              "\n",
              "  <div id=\"df-73c62d37-ae68-4a1c-8fb7-47970026eac7\">\n",
              "    <div class=\"colab-df-container\">\n",
              "      <div>\n",
              "<style scoped>\n",
              "    .dataframe tbody tr th:only-of-type {\n",
              "        vertical-align: middle;\n",
              "    }\n",
              "\n",
              "    .dataframe tbody tr th {\n",
              "        vertical-align: top;\n",
              "    }\n",
              "\n",
              "    .dataframe thead th {\n",
              "        text-align: right;\n",
              "    }\n",
              "</style>\n",
              "<table border=\"1\" class=\"dataframe\">\n",
              "  <thead>\n",
              "    <tr style=\"text-align: right;\">\n",
              "      <th></th>\n",
              "      <th>Item_Weight</th>\n",
              "      <th>Item_Visibility</th>\n",
              "      <th>Item_MRP</th>\n",
              "      <th>Outlet_Establishment_Year</th>\n",
              "      <th>Item_Outlet_Sales</th>\n",
              "    </tr>\n",
              "  </thead>\n",
              "  <tbody>\n",
              "    <tr>\n",
              "      <th>count</th>\n",
              "      <td>8523.00</td>\n",
              "      <td>8523.00</td>\n",
              "      <td>8523.00</td>\n",
              "      <td>8523.00</td>\n",
              "      <td>8523.00</td>\n",
              "    </tr>\n",
              "    <tr>\n",
              "      <th>mean</th>\n",
              "      <td>12.86</td>\n",
              "      <td>0.07</td>\n",
              "      <td>140.99</td>\n",
              "      <td>1997.83</td>\n",
              "      <td>2181.29</td>\n",
              "    </tr>\n",
              "    <tr>\n",
              "      <th>std</th>\n",
              "      <td>4.23</td>\n",
              "      <td>0.05</td>\n",
              "      <td>62.28</td>\n",
              "      <td>8.37</td>\n",
              "      <td>1706.50</td>\n",
              "    </tr>\n",
              "    <tr>\n",
              "      <th>min</th>\n",
              "      <td>4.56</td>\n",
              "      <td>0.00</td>\n",
              "      <td>31.29</td>\n",
              "      <td>1985.00</td>\n",
              "      <td>33.29</td>\n",
              "    </tr>\n",
              "    <tr>\n",
              "      <th>25%</th>\n",
              "      <td>9.31</td>\n",
              "      <td>0.03</td>\n",
              "      <td>93.83</td>\n",
              "      <td>1987.00</td>\n",
              "      <td>834.25</td>\n",
              "    </tr>\n",
              "    <tr>\n",
              "      <th>50%</th>\n",
              "      <td>12.86</td>\n",
              "      <td>0.05</td>\n",
              "      <td>143.01</td>\n",
              "      <td>1999.00</td>\n",
              "      <td>1794.33</td>\n",
              "    </tr>\n",
              "    <tr>\n",
              "      <th>75%</th>\n",
              "      <td>16.00</td>\n",
              "      <td>0.09</td>\n",
              "      <td>185.64</td>\n",
              "      <td>2004.00</td>\n",
              "      <td>3101.30</td>\n",
              "    </tr>\n",
              "    <tr>\n",
              "      <th>max</th>\n",
              "      <td>21.35</td>\n",
              "      <td>0.33</td>\n",
              "      <td>266.89</td>\n",
              "      <td>2009.00</td>\n",
              "      <td>13086.96</td>\n",
              "    </tr>\n",
              "  </tbody>\n",
              "</table>\n",
              "</div>\n",
              "      <button class=\"colab-df-convert\" onclick=\"convertToInteractive('df-73c62d37-ae68-4a1c-8fb7-47970026eac7')\"\n",
              "              title=\"Convert this dataframe to an interactive table.\"\n",
              "              style=\"display:none;\">\n",
              "        \n",
              "  <svg xmlns=\"http://www.w3.org/2000/svg\" height=\"24px\"viewBox=\"0 0 24 24\"\n",
              "       width=\"24px\">\n",
              "    <path d=\"M0 0h24v24H0V0z\" fill=\"none\"/>\n",
              "    <path d=\"M18.56 5.44l.94 2.06.94-2.06 2.06-.94-2.06-.94-.94-2.06-.94 2.06-2.06.94zm-11 1L8.5 8.5l.94-2.06 2.06-.94-2.06-.94L8.5 2.5l-.94 2.06-2.06.94zm10 10l.94 2.06.94-2.06 2.06-.94-2.06-.94-.94-2.06-.94 2.06-2.06.94z\"/><path d=\"M17.41 7.96l-1.37-1.37c-.4-.4-.92-.59-1.43-.59-.52 0-1.04.2-1.43.59L10.3 9.45l-7.72 7.72c-.78.78-.78 2.05 0 2.83L4 21.41c.39.39.9.59 1.41.59.51 0 1.02-.2 1.41-.59l7.78-7.78 2.81-2.81c.8-.78.8-2.07 0-2.86zM5.41 20L4 18.59l7.72-7.72 1.47 1.35L5.41 20z\"/>\n",
              "  </svg>\n",
              "      </button>\n",
              "      \n",
              "  <style>\n",
              "    .colab-df-container {\n",
              "      display:flex;\n",
              "      flex-wrap:wrap;\n",
              "      gap: 12px;\n",
              "    }\n",
              "\n",
              "    .colab-df-convert {\n",
              "      background-color: #E8F0FE;\n",
              "      border: none;\n",
              "      border-radius: 50%;\n",
              "      cursor: pointer;\n",
              "      display: none;\n",
              "      fill: #1967D2;\n",
              "      height: 32px;\n",
              "      padding: 0 0 0 0;\n",
              "      width: 32px;\n",
              "    }\n",
              "\n",
              "    .colab-df-convert:hover {\n",
              "      background-color: #E2EBFA;\n",
              "      box-shadow: 0px 1px 2px rgba(60, 64, 67, 0.3), 0px 1px 3px 1px rgba(60, 64, 67, 0.15);\n",
              "      fill: #174EA6;\n",
              "    }\n",
              "\n",
              "    [theme=dark] .colab-df-convert {\n",
              "      background-color: #3B4455;\n",
              "      fill: #D2E3FC;\n",
              "    }\n",
              "\n",
              "    [theme=dark] .colab-df-convert:hover {\n",
              "      background-color: #434B5C;\n",
              "      box-shadow: 0px 1px 3px 1px rgba(0, 0, 0, 0.15);\n",
              "      filter: drop-shadow(0px 1px 2px rgba(0, 0, 0, 0.3));\n",
              "      fill: #FFFFFF;\n",
              "    }\n",
              "  </style>\n",
              "\n",
              "      <script>\n",
              "        const buttonEl =\n",
              "          document.querySelector('#df-73c62d37-ae68-4a1c-8fb7-47970026eac7 button.colab-df-convert');\n",
              "        buttonEl.style.display =\n",
              "          google.colab.kernel.accessAllowed ? 'block' : 'none';\n",
              "\n",
              "        async function convertToInteractive(key) {\n",
              "          const element = document.querySelector('#df-73c62d37-ae68-4a1c-8fb7-47970026eac7');\n",
              "          const dataTable =\n",
              "            await google.colab.kernel.invokeFunction('convertToInteractive',\n",
              "                                                     [key], {});\n",
              "          if (!dataTable) return;\n",
              "\n",
              "          const docLinkHtml = 'Like what you see? Visit the ' +\n",
              "            '<a target=\"_blank\" href=https://colab.research.google.com/notebooks/data_table.ipynb>data table notebook</a>'\n",
              "            + ' to learn more about interactive tables.';\n",
              "          element.innerHTML = '';\n",
              "          dataTable['output_type'] = 'display_data';\n",
              "          await google.colab.output.renderOutput(dataTable, element);\n",
              "          const docLink = document.createElement('div');\n",
              "          docLink.innerHTML = docLinkHtml;\n",
              "          element.appendChild(docLink);\n",
              "        }\n",
              "      </script>\n",
              "    </div>\n",
              "  </div>\n",
              "  "
            ]
          },
          "metadata": {},
          "execution_count": 99
        }
      ]
    },
    {
      "cell_type": "markdown",
      "source": [
        "> Reviewing the statitistics, we do not have an large outliers in the numerical columns.  No changes to the numeric data needed at this time"
      ],
      "metadata": {
        "id": "1VETNRujj2-t"
      }
    },
    {
      "cell_type": "markdown",
      "source": [
        "# Project 1 - Part 3(core)\n",
        "**Assignment:**\n",
        "\n",
        "We will continue to work on your sales prediction project. The goal of this is to help you understand the data as it relates to the products and outlets that play crucial roles in increasing sales.\n",
        "\n",
        "For Part 3, your task is to complete any statistical analyses that might help you understand, explain, or model with your data. This must include at least one of each:\n",
        "\n",
        "- Histogram to view the distributions of various features in your dataset\n",
        "- Boxplot to view statistical summaries of various features in your dataset.\n",
        "- Heatmap of the correlation between features.\n",
        "\n",
        "Please feel free to add more than the minimum. Remember this is your chance to display your skills!\n",
        "\n",
        "Commit your work to GitHub.\n",
        "\n",
        "Turn in a link to your GitHub repo! We will continue to work on the project a little bit each week."
      ],
      "metadata": {
        "id": "bd77KENFXmMN"
      }
    },
    {
      "cell_type": "markdown",
      "source": [
        "## Plot and Review Data\n",
        "\n",
        "- [ ] Separate the data into Numerical and Categorical by feature type\n",
        "- [ ] Create a list of columns with `dtype = number`.  These datatypes will be looked at with boxplots for outliers.\n",
        "- [ ] Create a list of columns with `dtype = object`.  These datatypes will be looked at with histogram plots only.\n",
        "- [ ] Create a custom function called `plot_charts` to plot the histogram and [optional boxplot] on the same axis for each feature\n",
        "  - [ ] Stylize the plots in the function\n",
        "- [ ] Loop through the lists of Numerical and Categorical features and plot histograms/boxplots\n"
      ],
      "metadata": {
        "id": "I8es7r30ajQ7"
      }
    },
    {
      "cell_type": "code",
      "source": [
        "num_cols = df.select_dtypes('number').columns\n",
        "num_cols"
      ],
      "metadata": {
        "colab": {
          "base_uri": "https://localhost:8080/"
        },
        "id": "CRFpQufvvEBi",
        "outputId": "0592c3f4-ce14-4408-90ff-c157620892a9"
      },
      "execution_count": null,
      "outputs": [
        {
          "output_type": "execute_result",
          "data": {
            "text/plain": [
              "Index(['Item_Weight', 'Item_Visibility', 'Item_MRP',\n",
              "       'Outlet_Establishment_Year', 'Item_Outlet_Sales'],\n",
              "      dtype='object')"
            ]
          },
          "metadata": {},
          "execution_count": 100
        }
      ]
    },
    {
      "cell_type": "code",
      "source": [
        "obj_cols = df.select_dtypes('object').columns\n",
        "#drop the \"Item_Identifier\" from out list\n",
        "obj_cols.drop(['Item_Identifier'])\n",
        "print(type(obj_cols))\n",
        "\n",
        "#Drop the first item in the obj_cols - This is the \"Item_Identifier\" and is unique for each entry.  No relevant data from histogram\n",
        "obj_cols=obj_cols[1:]\n",
        "obj_cols"
      ],
      "metadata": {
        "colab": {
          "base_uri": "https://localhost:8080/"
        },
        "id": "2cYr00umqQCK",
        "outputId": "a915c04f-a402-4833-befa-1f0034ae64e5"
      },
      "execution_count": null,
      "outputs": [
        {
          "output_type": "stream",
          "name": "stdout",
          "text": [
            "<class 'pandas.core.indexes.base.Index'>\n"
          ]
        },
        {
          "output_type": "execute_result",
          "data": {
            "text/plain": [
              "Index(['Item_Fat_Content', 'Item_Type', 'Outlet_Identifier', 'Outlet_Size',\n",
              "       'Outlet_Location_Type', 'Outlet_Type'],\n",
              "      dtype='object')"
            ]
          },
          "metadata": {},
          "execution_count": 101
        }
      ]
    },
    {
      "cell_type": "markdown",
      "source": [
        "### Function: `plot_charts`"
      ],
      "metadata": {
        "id": "KI-Igwzn92LN"
      }
    },
    {
      "cell_type": "code",
      "source": [
        "def plot_charts(df, col, boxplot = False):\n",
        " if boxplot:\n",
        "  ## make the figure and axes sharing the same x-axis\n",
        "  fig, axes = plt.subplots(nrows=2, figsize=(10,3), sharex=True)\n",
        "\n",
        "  ## Use seaborn plots with ax=axes[i]\n",
        "  #Histogram axes[0]\n",
        "  sns.histplot(data=df,x = col,ax = axes[0])\n",
        "  #add the mean to the histogram\n",
        "  mean_value = df[col].mean()\n",
        "  axes[0].axvline(mean_value,color='red', ls='--', \n",
        "            label=f\"Mean Value = ${mean_value:,.2f}\",);\n",
        "  #add the median to the histogram\n",
        "  med_value = df[col].median()\n",
        "  axes[0].axvline(med_value,color='black', ls='--', \n",
        "            label=f\"Median Value = ${med_value:,.2f}\");\n",
        "\n",
        "  #boxplot -- axes[1]\n",
        "  sns.boxplot(data=df, x = col, ax = axes[1])\n",
        "\n",
        "  ## Updating title of top graph \n",
        "  axes[0].set_title(f'Histogram and Box plot for {col}')\n",
        "\n",
        "# Turn off the comparitive boxplot  \n",
        " else:\n",
        "   sns.set(style=\"darkgrid\")\n",
        "   fig, axes = plt.subplots(figsize=(10,3))\n",
        "   plt.xticks(rotation=45)\n",
        "   sns.histplot(data=df,x=col, color='#69b3a2', alpha=0.3, ax=axes)\n",
        "      \n",
        " ## Fixing any overlapping labels and showing\n",
        " plt.tight_layout()\n",
        " plt.show()"
      ],
      "metadata": {
        "id": "-PEZXo_TpwAq"
      },
      "execution_count": null,
      "outputs": []
    },
    {
      "cell_type": "markdown",
      "source": [
        "### Numeric Data - Histogram and Boxplots"
      ],
      "metadata": {
        "id": "tJXKq7PG-BC1"
      }
    },
    {
      "cell_type": "code",
      "source": [
        "for col in num_cols:\n",
        "  plot_charts(df, col, boxplot=True)"
      ],
      "metadata": {
        "colab": {
          "base_uri": "https://localhost:8080/",
          "height": 1000
        },
        "id": "BeEW5iikl_l2",
        "outputId": "a0dc8494-861f-4a92-bc93-3eaa42923255"
      },
      "execution_count": null,
      "outputs": [
        {
          "output_type": "display_data",
          "data": {
            "text/plain": [
              "<Figure size 720x216 with 2 Axes>"
            ],
            "image/png": "[encoded data removed]"
          },
          "metadata": {}
        },
        {
          "output_type": "display_data",
          "data": {
            "text/plain": [
              "<Figure size 720x216 with 2 Axes>"
            ],
            "image/png": "[encoded data removed]"
          },
          "metadata": {}
        },
        {
          "output_type": "display_data",
          "data": {
            "text/plain": [
              "<Figure size 720x216 with 2 Axes>"
            ],
            "image/png": "[encoded data removed]"
          },
          "metadata": {}
        },
        {
          "output_type": "display_data",
          "data": {
            "text/plain": [
              "<Figure size 720x216 with 2 Axes>"
            ],
            "image/png": "[encoded data removed]"
          },
          "metadata": {}
        },
        {
          "output_type": "display_data",
          "data": {
            "text/plain": [
              "<Figure size 720x216 with 2 Axes>"
            ],
            "image/png": "[encoded data removed]"
          },
          "metadata": {}
        }
      ]
    },
    {
      "cell_type": "markdown",
      "source": [
        "### Numeric Data - Observations\n",
        ">- `Item_Weight` : The majority of Items weigh about the same (12.5).   \n",
        "- `Item_Visibility` : No Observations made\n",
        "- `Item_MRP` : The Median MRP is aprox 140.  There are no outliers for MRP, which tells us we properly cleaned the data\n",
        "- `Outlet_Establishment_Year` :  The outlet establishment dates were between 1987 and 2004.  The histogram shows that the greatest count of sales happened in the outlets established in 1985-86, and 1998-1999.  \n",
        "- `Item_Outlet_Sales` : The median item_outlet_sales value is approx 1800.  This appears to show how frequently items are being sold in outlets.  There are many items that go way outside the 75% maximum of the barplot"
      ],
      "metadata": {
        "id": "S6jCtZyLE5GS"
      }
    },
    {
      "cell_type": "markdown",
      "source": [
        "### Categorical Data - Histogram only\n"
      ],
      "metadata": {
        "id": "pibY0J7HoxlR"
      }
    },
    {
      "cell_type": "code",
      "source": [
        "for col in obj_cols:\n",
        "  plot_charts(df, col, boxplot=False)"
      ],
      "metadata": {
        "colab": {
          "base_uri": "https://localhost:8080/",
          "height": 1000
        },
        "id": "ESOUimZhsGg3",
        "outputId": "832d157d-2938-4960-b41f-bc096f239de3"
      },
      "execution_count": null,
      "outputs": [
        {
          "output_type": "display_data",
          "data": {
            "text/plain": [
              "<Figure size 720x216 with 1 Axes>"
            ],
            "image/png": "[encoded data removed]"
          },
          "metadata": {}
        },
        {
          "output_type": "display_data",
          "data": {
            "text/plain": [
              "<Figure size 720x216 with 1 Axes>"
            ],
            "image/png": "[encoded data removed]"
          },
          "metadata": {}
        },
        {
          "output_type": "display_data",
          "data": {
            "text/plain": [
              "<Figure size 720x216 with 1 Axes>"
            ],
            "image/png": "[encoded data removed]"
          },
          "metadata": {}
        },
        {
          "output_type": "display_data",
          "data": {
            "text/plain": [
              "<Figure size 720x216 with 1 Axes>"
            ],
            "image/png": "[encoded data removed]"
          },
          "metadata": {}
        },
        {
          "output_type": "display_data",
          "data": {
            "text/plain": [
              "<Figure size 720x216 with 1 Axes>"
            ],
            "image/png": "[encoded data removed]"
          },
          "metadata": {}
        },
        {
          "output_type": "display_data",
          "data": {
            "text/plain": [
              "<Figure size 720x216 with 1 Axes>"
            ],
            "image/png": "[encoded data removed]"
          },
          "metadata": {}
        }
      ]
    },
    {
      "cell_type": "markdown",
      "source": [
        "### Categorical Data- Obeservations\n",
        ">When reviewing categorical data it is important to note that the output of the graphs is simply the count of occurances of that category type for the sale entries.  This does not reflect sales, but is rather a count of specific units sold and their accompanying data.\n",
        "- `Item_Fat_Content` : *Low Fat* foods is make up a far greater count of total sales than the *Regular* foods.\n",
        "- `Item_Types` : *Fruits and Vegetables* and *Snack Foods* are the two largest categories of \n",
        "- `Outlet_Identifier` : No observations made. This data is not relavant for analysis\n",
        "- `Outlet_Size` : *Medium* and *Unknown* make up the two largest categories of outlet_size\n",
        "- `Outlet_Location_Type`: *Tier 3* locations show the greatest number of sales followed by *Tier 2* and ulitimately *Tier 3* locations\n",
        "- `Outlet_Type` : *Supermarket Type1* has the greatest count of sales by far.  "
      ],
      "metadata": {
        "id": "DDDeF_WfAais"
      }
    },
    {
      "cell_type": "markdown",
      "source": [
        "##Heatmap"
      ],
      "metadata": {
        "id": "VoBI2TT7apf9"
      }
    },
    {
      "cell_type": "code",
      "source": [
        "sns.heatmap(df.corr(),annot=True,cmap='Blues');"
      ],
      "metadata": {
        "colab": {
          "base_uri": "https://localhost:8080/",
          "height": 409
        },
        "id": "bmP8w_N7uRe0",
        "outputId": "1dc1703b-48a0-4d04-dd64-ca086295a42f"
      },
      "execution_count": null,
      "outputs": [
        {
          "output_type": "display_data",
          "data": {
            "text/plain": [
              "<Figure size 432x288 with 2 Axes>"
            ],
            "image/png": "[encoded data removed]"
          },
          "metadata": {}
        }
      ]
    },
    {
      "cell_type": "markdown",
      "source": [
        "### Heatmap Observations\n",
        ">There is a \"moderate\" correlation between Item_MRP and Item_Outlet_Sales.  This relationship tells us that the higher MRP leads to higher Outlet_Sales.  Although its only a \"moderate\" correlation it is telling us the customers purchase higher MRP products more frequently."
      ],
      "metadata": {
        "id": "S4CAV4zTMJDT"
      }
    }
  ]
}